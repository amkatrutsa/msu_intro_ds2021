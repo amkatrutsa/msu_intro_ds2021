{
 "cells": [
  {
   "cell_type": "markdown",
   "metadata": {
    "slideshow": {
     "slide_type": "slide"
    }
   },
   "source": [
    "## Решение линейных систем, обратная матрица"
   ]
  },
  {
   "cell_type": "markdown",
   "metadata": {
    "slideshow": {
     "slide_type": "slide"
    }
   },
   "source": [
    "### Напоминание основных фактов\n",
    "\n",
    "- Линейная система имеет вид\n",
    "\n",
    "$$ Ax = b,$$\n",
    "\n",
    "с квадратной $n \\times n$ матрицей $A$\n",
    "\n",
    "- Для любой матрицы существуют PLU разложение\n",
    "\n",
    "$$ A = PLU, $$\n",
    "\n",
    "$P$ – матрица перестановки, $L$ – нижнетреугольная матрица, $U$ – верхнетреугольная матрица.\n",
    "\n",
    "- Сложность $\\mathcal{O}(n^3)$\n",
    "- Если $A \\succ 0$, то матрица раскладывается на факторы $A = LL^*$ – разложение Холецкого \n",
    "- Обратная матрица $A^{-1}$ существует для невырожденных матриц и $AA^{-1} = A^{-1}A = I$\n",
    "- Тогда $x = A^{-1}b$ или $x = U^{-1}L^{-1}P^*b$"
   ]
  },
  {
   "cell_type": "markdown",
   "metadata": {
    "slideshow": {
     "slide_type": "slide"
    }
   },
   "source": [
    "### Push-through identity\n",
    "\n",
    "- Дано $A \\in \\mathbb{R}^{m \\times n}$, $B \\in \\mathbb{R}^{n \\times m}$ и $I + AB$ обратима\n",
    "- Покажем, что и $I + BA$ обратима\n",
    "- Также покажем, что $(I + BA)^{-1}B = B(I + AB)^{-1}$ "
   ]
  },
  {
   "cell_type": "markdown",
   "metadata": {
    "slideshow": {
     "slide_type": "slide"
    }
   },
   "source": [
    "### Формула Шермана-Морисона-Вудбери\n",
    "\n",
    "- $(I+P)^{-1} = I - (I+P)^{-1}P = I - P(I+P)^{-1}$\n",
    "- Ранее доказанное утверждение $(I + BA)^{-1}B = B(I + AB)^{-1}$ \n",
    "- Применим к $(I + UV)^{-1} = I - UV(I + UV)^{-1} = I - U(I + VU)^{-1}V$\n",
    "- Формула Шермана-Морисона-Вудбери\n",
    "\n",
    "$$(A + UCV)^{-1} = A^{-1} - A^{-1}U (C^{-1} + VA^{-1}U)^{-1}VA^{-1} $$"
   ]
  },
  {
   "cell_type": "markdown",
   "metadata": {
    "slideshow": {
     "slide_type": "slide"
    }
   },
   "source": [
    "### Определение координат по дополнительным измерениям\n",
    "\n",
    "- Дано положение 4 объектов в пространстве $a_1$, $a_2$, $a_3$ и $a_4$\n",
    "- Известны расстояния между ними и искомым объектом $x$: $r_1$, $r_2$, $r_3$ и $r_4$\n",
    "- Как определить положение $x$?"
   ]
  },
  {
   "cell_type": "markdown",
   "metadata": {
    "slideshow": {
     "slide_type": "slide"
    }
   },
   "source": [
    "### Выигрыш от LU факторизации при решении систем с многими правыми частями\n",
    "\n",
    "- Дан набор систем $Ax = b_1$, $Ax = b_2, \\ldots$\n",
    "- Посмотрим на выигрыш в скорости при использовании однократной факторизации матрицы $A$"
   ]
  },
  {
   "cell_type": "code",
   "execution_count": 25,
   "metadata": {
    "slideshow": {
     "slide_type": "slide"
    }
   },
   "outputs": [],
   "source": [
    "n = 1000\n",
    "time_factor = []\n",
    "time_full = []\n",
    "A = np.random.randn(n, n)\n",
    "t = %timeit -o -q -r 5 splin.lu_factor(A)\n",
    "factor_time = t.best\n",
    "lu = splin.lu_factor(A)\n",
    "num_rhs = 10\n",
    "for i in range(num_rhs):\n",
    "    x_true = np.random.randn(n)\n",
    "    b = A @ x_true\n",
    "    t = %timeit -o -q np.linalg.solve(A, b)\n",
    "    time_full.append(t.best)\n",
    "    t = %timeit -o -q splin.lu_solve(lu, b)\n",
    "    time_factor.append(t.best)"
   ]
  },
  {
   "cell_type": "code",
   "execution_count": 34,
   "metadata": {
    "slideshow": {
     "slide_type": "slide"
    }
   },
   "outputs": [
    {
     "data": {
      "image/png": "[encoded data removed]",
      "text/plain": [
       "<Figure size 432x288 with 1 Axes>"
      ]
     },
     "metadata": {
      "needs_background": "light"
     },
     "output_type": "display_data"
    }
   ],
   "source": [
    "plt.plot(np.arange(1, num_rhs+1), factor_time + np.cumsum(np.array(time_factor)), label=\"Factor\")\n",
    "plt.plot(np.arange(1, num_rhs+1), np.cumsum(np.array(time_full)), label=\"Full\")\n",
    "plt.legend(fontsize=20)\n",
    "plt.xlabel(\"Number of rhs\", fontsize=20)\n",
    "plt.ylabel(\"Time\", fontsize=20)\n",
    "plt.yscale(\"log\")"
   ]
  },
  {
   "cell_type": "markdown",
   "metadata": {
    "slideshow": {
     "slide_type": "slide"
    }
   },
   "source": [
    "## Постановка линейной задачи наименьших квадратов: напоминание\n",
    "\n",
    "- Дана переопределённая система линейных уравнений с матрицей $A$, в которой строк больше, чем столбцов, и правой частью $b$\n",
    "- Задача решения такой системы в смысле наименьших квадратов записывается в виде\n",
    "\n",
    "\n",
    "$$\\Vert A x - b \\Vert_2 \\rightarrow \\min_{x}$$\n",
    "\n",
    "- Нормальное уравнение\n",
    "\n",
    "$$ A^* A x = A^* b $$"
   ]
  },
  {
   "cell_type": "markdown",
   "metadata": {
    "slideshow": {
     "slide_type": "slide"
    }
   },
   "source": [
    "## Решение и метод вычисления\n",
    "\n",
    "- Псевдообратная матрица \n",
    "\n",
    "$$A^{\\dagger} = \\lim_{\\alpha \\rightarrow 0}(\\alpha I + A^* A)^{-1} A^*$$ \n",
    "\n",
    "- Решение записывается как \n",
    "\n",
    "$$ x = A^{\\dagger}b $$\n",
    "\n",
    "- Вычисление псевдообратной матрицы из SVD\n",
    "\n",
    "    Пусть $A = U \\Sigma V^*$ SVD матрицы $A$. Тогда,\n",
    "\n",
    "    $$A^{\\dagger} = V \\Sigma^{\\dagger} U^*,$$\n",
    "\n",
    "    где $\\Sigma^{\\dagger}$ состоит из обращённых ненулевых сингулярных чисел матрицы $A$.\n",
    "\n",
    "- Решение вычисляется с помощью QR разложения матрицы $A$\n",
    "\n",
    "$$\n",
    "Rx = Q^* b.\n",
    "$$"
   ]
  },
  {
   "cell_type": "markdown",
   "metadata": {
    "slideshow": {
     "slide_type": "slide"
    }
   },
   "source": [
    "### Сравнение методов решения нормального уравнения\n",
    "\n",
    "- Метод Гаусса\n",
    "- QR разложение"
   ]
  },
  {
   "cell_type": "markdown",
   "metadata": {
    "slideshow": {
     "slide_type": "slide"
    }
   },
   "source": [
    "#### Сравниваем скорость"
   ]
  },
  {
   "cell_type": "code",
   "execution_count": 1,
   "metadata": {
    "slideshow": {
     "slide_type": "slide"
    }
   },
   "outputs": [],
   "source": [
    "import numpy as np\n",
    "import scipy.linalg as splin\n",
    "\n",
    "def lsqr_solver(A, b):\n",
    "    Q, R = np.linalg.qr(A)\n",
    "    return splin.solve_triangular(R, Q.T @ b, lower=False)\n",
    "#     return np.linalg.solve(R, Q.T @ b)\n",
    "\n",
    "def ls_gramm_solver(A, b):\n",
    "    gram_mat = A.T @ A\n",
    "    return np.linalg.solve(gram_mat, A.T @ b)"
   ]
  },
  {
   "cell_type": "code",
   "execution_count": 2,
   "metadata": {
    "slideshow": {
     "slide_type": "slide"
    }
   },
   "outputs": [
    {
     "name": "stdout",
     "output_type": "stream",
     "text": [
      "0.0941568577038455 1.1125550186578408e-05\n",
      "0.0941568577038517 1.1125550186578575e-05\n"
     ]
    }
   ],
   "source": [
    "n = 1000\n",
    "m = 10*n\n",
    "A = np.random.randn(m, n)\n",
    "x_true = np.random.randn(n)\n",
    "b = A @ x_true + 0.001 * np.random.randn(m)\n",
    "x = lsqr_solver(A, b)\n",
    "print(np.linalg.norm(A @ x - b), np.linalg.norm(x - x_true) / np.linalg.norm(x_true))\n",
    "x = ls_gramm_solver(A, b)\n",
    "print(np.linalg.norm(A @ x - b), np.linalg.norm(x - x_true) / np.linalg.norm(x_true))"
   ]
  },
  {
   "cell_type": "code",
   "execution_count": 9,
   "metadata": {
    "slideshow": {
     "slide_type": "slide"
    }
   },
   "outputs": [],
   "source": [
    "dim_range = [10**i for i in range(1, 4)]\n",
    "time_qr_range = []\n",
    "time_gram_range = []\n",
    "for n in dim_range:\n",
    "    m = 10*n\n",
    "    A = np.random.randn(m, n)\n",
    "    x_true = np.random.randn(n)\n",
    "    b = A @ x_true + 0 * np.random.randn(m)\n",
    "    t = %timeit -o -q -r 1 lsqr_solver(A, b) \n",
    "    time_qr_range.append(t.best)\n",
    "    t = %timeit -o -q -r 1 ls_gramm_solver(A, b)\n",
    "    time_gram_range.append(t.best)"
   ]
  },
  {
   "cell_type": "code",
   "execution_count": 36,
   "metadata": {
    "slideshow": {
     "slide_type": "slide"
    }
   },
   "outputs": [
    {
     "data": {
      "image/png": "[encoded data removed]",
      "text/plain": [
       "<Figure size 432x288 with 1 Axes>"
      ]
     },
     "metadata": {
      "needs_background": "light"
     },
     "output_type": "display_data"
    }
   ],
   "source": [
    "import matplotlib.pyplot as plt\n",
    "%matplotlib inline\n",
    "\n",
    "plt.plot(dim_range, time_qr_range, label=\"QR\")\n",
    "plt.plot(dim_range, time_gram_range, label=\"Gram matrix\")\n",
    "plt.legend(fontsize=20)\n",
    "plt.xlabel(\"# columns\", fontsize=20)\n",
    "plt.ylabel(\"Time\", fontsize=20)\n",
    "plt.yscale(\"log\")\n",
    "plt.xscale(\"log\")\n",
    "plt.xticks(fontsize=18)\n",
    "_ = plt.yticks(fontsize=18)"
   ]
  },
  {
   "cell_type": "markdown",
   "metadata": {
    "slideshow": {
     "slide_type": "slide"
    }
   },
   "source": [
    "#### Сравниваем устойчивость\n",
    "- Оценка из лекции\n",
    "$$ \n",
    "\\frac{\\Vert \\widehat{x} - x \\Vert}{\\Vert x \\Vert} \\leq \\frac{\\mathrm{cond}(A)}{1 - \\mathrm{cond}(A)\\frac{\\|\\Delta A\\|}{\\|A\\|}} \\Big(\\frac{\\Vert\\Delta A\\Vert}{\\Vert A \\Vert} + \\frac{\\Vert \\Delta f \\Vert}{ \\Vert f \\Vert}\\Big) $$"
   ]
  },
  {
   "cell_type": "code",
   "execution_count": 34,
   "metadata": {
    "slideshow": {
     "slide_type": "slide"
    }
   },
   "outputs": [],
   "source": [
    "eps_range = [10**(-i) for i in range(1, 8)]\n",
    "m = 1000\n",
    "n = 100\n",
    "A = np.random.randn(m, n)\n",
    "accuracy_qr = np.zeros(len(eps_range))\n",
    "accuracy_gram = np.zeros(len(eps_range))\n",
    "cond_range = np.zeros(len(eps_range))\n",
    "for i, eps in enumerate(eps_range):\n",
    "    u, s, v = np.linalg.svd(A, full_matrices=False)\n",
    "    s_bad = s.copy()\n",
    "    s_bad[-1] = eps\n",
    "    cond_range[i] = s_bad[0] / s_bad[-1]\n",
    "    A_bad = (u * s_bad) @ v\n",
    "    x_true = np.random.randn(n)\n",
    "    b = A_bad @ x_true\n",
    "    x = lsqr_solver(A_bad, b)\n",
    "    accuracy_qr[i] = np.linalg.norm(x - x_true) / np.linalg.norm(x_true)\n",
    "    x = ls_gramm_solver(A_bad, b)\n",
    "    accuracy_gram[i] = np.linalg.norm(x - x_true) / np.linalg.norm(x_true)\n",
    "    "
   ]
  },
  {
   "cell_type": "code",
   "execution_count": 35,
   "metadata": {
    "slideshow": {
     "slide_type": "slide"
    }
   },
   "outputs": [
    {
     "data": {
      "image/png": "[encoded data removed]",
      "text/plain": [
       "<Figure size 720x576 with 1 Axes>"
      ]
     },
     "metadata": {
      "needs_background": "light"
     },
     "output_type": "display_data"
    }
   ],
   "source": [
    "plt.figure(figsize=(10,8))\n",
    "plt.plot(cond_range, accuracy_gram, label=\"Gram\")\n",
    "plt.plot(cond_range, accuracy_qr, label=\"QR\")\n",
    "plt.plot(cond_range, cond_range * np.finfo(np.float64).eps, label=\"$\\kappa \\cdot \\epsilon$\")\n",
    "plt.plot(cond_range, cond_range**2 * np.finfo(np.float64).eps, label=\"$\\kappa^2 \\cdot \\epsilon$\")\n",
    "plt.yscale(\"log\")\n",
    "plt.xscale(\"log\")\n",
    "plt.legend(fontsize=18)\n",
    "plt.xticks(fontsize=18)\n",
    "plt.yticks(fontsize=18)\n",
    "plt.xlabel(\"Condition number of A, $\\kappa$\", fontsize=18)\n",
    "plt.ylabel(\"Relative error in solution\", fontsize=18)\n",
    "plt.grid(True)"
   ]
  },
  {
   "cell_type": "markdown",
   "metadata": {
    "slideshow": {
     "slide_type": "slide"
    }
   },
   "source": [
    "### Закон Мура\n",
    "\n",
    "- Количество транзисторов на интегральной схеме удваивается каждые полтора-два года"
   ]
  },
  {
   "cell_type": "code",
   "execution_count": 3,
   "metadata": {
    "slideshow": {
     "slide_type": "slide"
    }
   },
   "outputs": [
    {
     "data": {
      "text/html": [
       "<div>\n",
       "<style scoped>\n",
       "    .dataframe tbody tr th:only-of-type {\n",
       "        vertical-align: middle;\n",
       "    }\n",
       "\n",
       "    .dataframe tbody tr th {\n",
       "        vertical-align: top;\n",
       "    }\n",
       "\n",
       "    .dataframe thead th {\n",
       "        text-align: right;\n",
       "    }\n",
       "</style>\n",
       "<table border=\"1\" class=\"dataframe\">\n",
       "  <thead>\n",
       "    <tr style=\"text-align: right;\">\n",
       "      <th></th>\n",
       "      <th>1971</th>\n",
       "      <th>1972</th>\n",
       "      <th>1974</th>\n",
       "      <th>1978</th>\n",
       "      <th>1982</th>\n",
       "      <th>1985</th>\n",
       "      <th>1989</th>\n",
       "      <th>1993</th>\n",
       "      <th>1997</th>\n",
       "      <th>1999</th>\n",
       "      <th>2000</th>\n",
       "      <th>2002</th>\n",
       "      <th>2003</th>\n",
       "    </tr>\n",
       "  </thead>\n",
       "  <tbody>\n",
       "    <tr>\n",
       "      <th>0</th>\n",
       "      <td>2250</td>\n",
       "      <td>2500</td>\n",
       "      <td>5000</td>\n",
       "      <td>29000</td>\n",
       "      <td>120000</td>\n",
       "      <td>275000</td>\n",
       "      <td>1180000</td>\n",
       "      <td>3100000</td>\n",
       "      <td>7500000</td>\n",
       "      <td>24000000</td>\n",
       "      <td>42000000</td>\n",
       "      <td>220000000</td>\n",
       "      <td>410000000</td>\n",
       "    </tr>\n",
       "  </tbody>\n",
       "</table>\n",
       "</div>"
      ],
      "text/plain": [
       "   1971  1972  1974   1978    1982    1985     1989     1993     1997  \\\n",
       "0  2250  2500  5000  29000  120000  275000  1180000  3100000  7500000   \n",
       "\n",
       "       1999      2000       2002       2003  \n",
       "0  24000000  42000000  220000000  410000000  "
      ]
     },
     "execution_count": 3,
     "metadata": {},
     "output_type": "execute_result"
    }
   ],
   "source": [
    "import pandas as pd\n",
    "\n",
    "year_transistor = {\n",
    "1971: 2250,\n",
    "1972: 2500,\n",
    "1974: 5000,\n",
    "1978: 29000,\n",
    "1982: 120000,\n",
    "1985: 275000,\n",
    "1989: 1180000,\n",
    "1993: 3100000,\n",
    "1997: 7500000,\n",
    "1999: 24000000,\n",
    "2000: 42000000,\n",
    "2002: 220000000,\n",
    "2003: 410000000\n",
    "}\n",
    "\n",
    "data = pd.DataFrame([year_transistor])\n",
    "data"
   ]
  },
  {
   "cell_type": "code",
   "execution_count": 4,
   "metadata": {
    "slideshow": {
     "slide_type": "slide"
    }
   },
   "outputs": [
    {
     "data": {
      "text/html": [
       "<div>\n",
       "<style scoped>\n",
       "    .dataframe tbody tr th:only-of-type {\n",
       "        vertical-align: middle;\n",
       "    }\n",
       "\n",
       "    .dataframe tbody tr th {\n",
       "        vertical-align: top;\n",
       "    }\n",
       "\n",
       "    .dataframe thead th {\n",
       "        text-align: right;\n",
       "    }\n",
       "</style>\n",
       "<table border=\"1\" class=\"dataframe\">\n",
       "  <thead>\n",
       "    <tr style=\"text-align: right;\">\n",
       "      <th></th>\n",
       "      <th>Year</th>\n",
       "      <th>N</th>\n",
       "    </tr>\n",
       "  </thead>\n",
       "  <tbody>\n",
       "    <tr>\n",
       "      <th>0</th>\n",
       "      <td>1971</td>\n",
       "      <td>2250</td>\n",
       "    </tr>\n",
       "    <tr>\n",
       "      <th>1</th>\n",
       "      <td>1972</td>\n",
       "      <td>2500</td>\n",
       "    </tr>\n",
       "    <tr>\n",
       "      <th>2</th>\n",
       "      <td>1974</td>\n",
       "      <td>5000</td>\n",
       "    </tr>\n",
       "    <tr>\n",
       "      <th>3</th>\n",
       "      <td>1978</td>\n",
       "      <td>29000</td>\n",
       "    </tr>\n",
       "    <tr>\n",
       "      <th>4</th>\n",
       "      <td>1982</td>\n",
       "      <td>120000</td>\n",
       "    </tr>\n",
       "    <tr>\n",
       "      <th>5</th>\n",
       "      <td>1985</td>\n",
       "      <td>275000</td>\n",
       "    </tr>\n",
       "    <tr>\n",
       "      <th>6</th>\n",
       "      <td>1989</td>\n",
       "      <td>1180000</td>\n",
       "    </tr>\n",
       "    <tr>\n",
       "      <th>7</th>\n",
       "      <td>1993</td>\n",
       "      <td>3100000</td>\n",
       "    </tr>\n",
       "    <tr>\n",
       "      <th>8</th>\n",
       "      <td>1997</td>\n",
       "      <td>7500000</td>\n",
       "    </tr>\n",
       "    <tr>\n",
       "      <th>9</th>\n",
       "      <td>1999</td>\n",
       "      <td>24000000</td>\n",
       "    </tr>\n",
       "    <tr>\n",
       "      <th>10</th>\n",
       "      <td>2000</td>\n",
       "      <td>42000000</td>\n",
       "    </tr>\n",
       "    <tr>\n",
       "      <th>11</th>\n",
       "      <td>2002</td>\n",
       "      <td>220000000</td>\n",
       "    </tr>\n",
       "    <tr>\n",
       "      <th>12</th>\n",
       "      <td>2003</td>\n",
       "      <td>410000000</td>\n",
       "    </tr>\n",
       "  </tbody>\n",
       "</table>\n",
       "</div>"
      ],
      "text/plain": [
       "    Year          N\n",
       "0   1971       2250\n",
       "1   1972       2500\n",
       "2   1974       5000\n",
       "3   1978      29000\n",
       "4   1982     120000\n",
       "5   1985     275000\n",
       "6   1989    1180000\n",
       "7   1993    3100000\n",
       "8   1997    7500000\n",
       "9   1999   24000000\n",
       "10  2000   42000000\n",
       "11  2002  220000000\n",
       "12  2003  410000000"
      ]
     },
     "execution_count": 4,
     "metadata": {},
     "output_type": "execute_result"
    }
   ],
   "source": [
    "data = pd.DataFrame(list(year_transistor.items()), columns=[\"Year\", \"N\"])\n",
    "data"
   ]
  },
  {
   "cell_type": "markdown",
   "metadata": {
    "slideshow": {
     "slide_type": "slide"
    }
   },
   "source": [
    "### Модель\n",
    "\n",
    "$$ \\log_{2} N \\approx  w_1 + w_2 (t - 1970)$$\n",
    "\n",
    "- Логарифмирование – очень полезный приём преобразования данных, масштабы которых сильно отличаются "
   ]
  },
  {
   "cell_type": "code",
   "execution_count": 5,
   "metadata": {
    "slideshow": {
     "slide_type": "fragment"
    }
   },
   "outputs": [
    {
     "name": "stdout",
     "output_type": "stream",
     "text": [
      "[[ 1.  1.]\n",
      " [ 1.  2.]\n",
      " [ 1.  4.]\n",
      " [ 1.  8.]\n",
      " [ 1. 12.]\n",
      " [ 1. 15.]\n",
      " [ 1. 19.]\n",
      " [ 1. 23.]\n",
      " [ 1. 27.]\n",
      " [ 1. 29.]\n",
      " [ 1. 30.]\n",
      " [ 1. 32.]\n",
      " [ 1. 33.]]\n",
      "0     11.135709\n",
      "1     11.287712\n",
      "2     12.287712\n",
      "3     14.823765\n",
      "4     16.872675\n",
      "5     18.069072\n",
      "6     20.170355\n",
      "7     21.563837\n",
      "8     22.838459\n",
      "9     24.516531\n",
      "10    25.323886\n",
      "11    27.712928\n",
      "12    28.611049\n",
      "Name: N, dtype: float64\n"
     ]
    }
   ],
   "source": [
    "y = np.log2(data[\"N\"])\n",
    "x = data[\"Year\"] - 1970\n",
    "X = np.ones((13, 2))\n",
    "X[:, 1] = x\n",
    "print(X)\n",
    "print(y)"
   ]
  },
  {
   "cell_type": "code",
   "execution_count": 8,
   "metadata": {
    "slideshow": {
     "slide_type": "slide"
    }
   },
   "outputs": [
    {
     "name": "stdout",
     "output_type": "stream",
     "text": [
      "2.4323270736375635\n",
      "[10.38299398  0.51163732]\n"
     ]
    }
   ],
   "source": [
    "w = np.linalg.lstsq(X, y, rcond=None)[0]\n",
    "print(np.linalg.norm(X @ w - y))\n",
    "print(w)"
   ]
  },
  {
   "cell_type": "code",
   "execution_count": 9,
   "metadata": {
    "slideshow": {
     "slide_type": "fragment"
    }
   },
   "outputs": [
    {
     "data": {
      "text/plain": [
       "Text(0, 0.5, 'log # transistors')"
      ]
     },
     "execution_count": 9,
     "metadata": {},
     "output_type": "execute_result"
    },
    {
     "data": {
      "image/png": "[encoded data removed]",
      "text/plain": [
       "<Figure size 432x288 with 1 Axes>"
      ]
     },
     "metadata": {
      "needs_background": "light"
     },
     "output_type": "display_data"
    }
   ],
   "source": [
    "import matplotlib.pyplot as plt\n",
    "%matplotlib inline\n",
    "plt.scatter(data[\"Year\"], y)\n",
    "plt.plot(data[\"Year\"], X @ w)\n",
    "plt.xlabel(\"Year\", fontsize=20)\n",
    "plt.ylabel(\"log # transistors\", fontsize=20)"
   ]
  },
  {
   "cell_type": "markdown",
   "metadata": {
    "slideshow": {
     "slide_type": "slide"
    }
   },
   "source": [
    "### Предсказание на 2015 год\n",
    "\n",
    "- Микропроцессор IBM Z13 содержит $4 \\cdot 10^9$ транзисторов"
   ]
  },
  {
   "cell_type": "code",
   "execution_count": 10,
   "metadata": {
    "slideshow": {
     "slide_type": "fragment"
    }
   },
   "outputs": [
    {
     "name": "stdout",
     "output_type": "stream",
     "text": [
      "33.40667332708807\n",
      "31.897352853986263\n"
     ]
    }
   ],
   "source": [
    "year = 2015\n",
    "pred_given_year = w[0] + w[1] * (year - 1970)\n",
    "print(pred_given_year)\n",
    "print(np.log2(4e9))"
   ]
  }
 ],
 "metadata": {
  "celltoolbar": "Slideshow",
  "kernelspec": {
   "display_name": "Python 3",
   "language": "python",
   "name": "python3"
  },
  "language_info": {
   "codemirror_mode": {
    "name": "ipython",
    "version": 3
   },
   "file_extension": ".py",
   "mimetype": "text/x-python",
   "name": "python",
   "nbconvert_exporter": "python",
   "pygments_lexer": "ipython3",
   "version": "3.7.7"
  }
 },
 "nbformat": 4,
 "nbformat_minor": 4
}
