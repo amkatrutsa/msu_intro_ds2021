{
 "cells": [
  {
   "cell_type": "markdown",
   "metadata": {
    "slideshow": {
     "slide_type": "slide"
    }
   },
   "source": [
    "# Семинар 3\n",
    "\n",
    "# Решение линейных систем"
   ]
  },
  {
   "cell_type": "markdown",
   "metadata": {
    "slideshow": {
     "slide_type": "slide"
    }
   },
   "source": [
    "## Кластеризация и матричные разложения\n",
    "\n",
    "- Задача кластеризации относится к классу задач обучения без учителя, в которой требуется разбить наборы объектов на группы, в которых содержатся похожие объекты\n",
    "\n",
    "<img src=\"./clustering_demo.png\">\n",
    "\n",
    "Картинка из [этого](https://towardsdatascience.com/semantic-similarity-classifier-and-clustering-sentences-based-on-semantic-similarity-a5a564e22304) поста.\n",
    "\n",
    "- Отличие от классификации - меток объектов нет\n",
    "- Классический алгоритм решения такой задачи называется *k-means* или метод $k$-средних"
   ]
  },
  {
   "cell_type": "markdown",
   "metadata": {
    "slideshow": {
     "slide_type": "slide"
    }
   },
   "source": [
    "### $k$-means\n",
    "\n",
    "- Выбираем число кластеров $k$\n",
    "- Выбираем так называемые центры кластеров\n",
    "- Повторяем до сходимости\n",
    "    - Размечаем объекты на основании того, к какому центру они ближе\n",
    "    - Обновляем центр как среднее значение точек из каждого кластера\n",
    "\n",
    "- Подробности будут в курсе по машинному обучению"
   ]
  },
  {
   "cell_type": "markdown",
   "metadata": {
    "slideshow": {
     "slide_type": "slide"
    }
   },
   "source": [
    "### Визуализация\n",
    "\n",
    "<img width=400 src=\"./K-means_convergence.gif\">"
   ]
  },
  {
   "cell_type": "markdown",
   "metadata": {
    "slideshow": {
     "slide_type": "slide"
    }
   },
   "source": [
    "### Причём тут матричные разложения?\n",
    "\n",
    "- Пусть дано $N$ объектов, каждый из которых описывается $n$ числами.\n",
    "- Данные $N$ объектов уложены по столбцам в матрицу $X$\n",
    "- **Утверждение.** Алгоритм $k$-means решает следующую задачу оптимизации\n",
    "\n",
    "$$ \\| X - ZC\\|^2_F \\to \\min, $$\n",
    " \n",
    "где $X \\in \\mathbb{R}^{n \\times N}$, $Z \\in \\mathbb{R}^{n \\times k}$ и $C$ размера $k \\times N$\n",
    "- Матрица $C$ обладает следующим свойством\n",
    "\n",
    "$$ C_{ij} = \\begin{cases} 1, & x_j \\in \\mathcal{C}_i \\\\ 0, & \\text{иначе}, \\end{cases} $$\n",
    "\n",
    "где $\\mathcal{C}_i$ обозначает $i$-ый кластер, а $x_j$ – $j$-ый объект.\n",
    "\n",
    "- В каждом столбце матрицы $C$ ровно одна 1\n",
    "\n",
    "**Q:** что такое матрица $Z$?\n",
    "\n",
    "**Q:** какая интерпретация у столбцов матрицы $X - ZC$?"
   ]
  },
  {
   "cell_type": "markdown",
   "metadata": {
    "slideshow": {
     "slide_type": "slide"
    }
   },
   "source": [
    "### Моделирование миграции населения\n",
    "\n",
    "- Пусть $x_t \\in \\mathbb{R}^{100}$ распределение населения по возрастам в год $t$\n",
    "- Динамика этого распределения описывается во времени как \n",
    "\n",
    "$$ x_{t+1} = Ax_t + u $$\n",
    "\n",
    "- Что такое $u$?\n",
    "- Какой вид имеет матрица $A$ ?"
   ]
  },
  {
   "cell_type": "markdown",
   "metadata": {
    "slideshow": {
     "slide_type": "fragment"
    }
   },
   "source": [
    "#### Определение миграционной политики\n",
    "\n",
    "- Дан вектор $x_1$, матрица $A$ и желаемое распределение $x_T = x_d$\n",
    "- Необходимо найти такой вектор $u$, чтобы желаемое распределение было достигнуто"
   ]
  },
  {
   "cell_type": "code",
   "execution_count": 3,
   "metadata": {
    "slideshow": {
     "slide_type": "slide"
    }
   },
   "outputs": [
    {
     "name": "stdout",
     "output_type": "stream",
     "text": [
      "[[1.  2.  3.  4. ]\n",
      " [0.5 0.  0.  0. ]\n",
      " [0.  0.6 0.  0. ]\n",
      " [0.  0.  0.8 0. ]]\n",
      "[[2.   3.8  6.2  4.  ]\n",
      " [0.5  1.   1.5  2.  ]\n",
      " [0.3  0.   0.   0.  ]\n",
      " [0.   0.48 0.   0.  ]]\n",
      "[[3.9  7.72 9.2  8.  ]\n",
      " [1.   1.9  3.1  2.  ]\n",
      " [0.3  0.6  0.9  1.2 ]\n",
      " [0.24 0.   0.   0.  ]]\n"
     ]
    }
   ],
   "source": [
    "import numpy as np\n",
    "\n",
    "A = np.array([[1, 2, 3, 4], [0.5, 0, 0, 0], [0, 0.6, 0, 0], [0, 0, 0.8, 0]])\n",
    "print(A)\n",
    "print(A @ A)\n",
    "print(A @ A @ A)"
   ]
  },
  {
   "cell_type": "markdown",
   "metadata": {
    "slideshow": {
     "slide_type": "slide"
    }
   },
   "source": [
    "### Томография сетей \n",
    "\n",
    "- Дана сеть из $n$ рёбер\n",
    "- Каждое ребро вносит некоторую задержку $d_i$\n",
    "- Чтобы выяснить характеристики сети, то есть найти вектор $d$, по сети запускают большое число сигналов по различным маршрутам и измеряют время прохождения сигнала $t_i$, $i=1,\\ldots, N$ по известному маршруту\n",
    "- Маршрут описывается бинарной матрицей $P$ размера $N \\times n$ такой что\n",
    "\n",
    "$$p_{ij} = \\begin{cases} 1, & j \\in \\mathcal{P}_i\\\\ 0, & \\text{иначе}, \\end{cases} $$\n",
    "\n",
    "где $\\mathcal{P}_i$ – путь $i$.\n",
    "\n",
    "- Необходимо по матрице $P$ и вектору $t$ определить вектор $d$, описывающий сеть\n",
    "\n",
    "**Приложения**\n",
    "\n",
    "- Дорожные сети\n",
    "- Компьютерные сети"
   ]
  },
  {
   "cell_type": "markdown",
   "metadata": {
    "slideshow": {
     "slide_type": "slide"
    }
   },
   "source": [
    "### Резюме\n",
    "\n",
    "- Решение задачи кластеризации как вычисление матричного разложения\n",
    "- Линейные системы и частные случаи их решения"
   ]
  }
 ],
 "metadata": {
  "celltoolbar": "Slideshow",
  "kernelspec": {
   "display_name": "Python 3",
   "language": "python",
   "name": "python3"
  },
  "language_info": {
   "codemirror_mode": {
    "name": "ipython",
    "version": 3
   },
   "file_extension": ".py",
   "mimetype": "text/x-python",
   "name": "python",
   "nbconvert_exporter": "python",
   "pygments_lexer": "ipython3",
   "version": "3.7.7"
  }
 },
 "nbformat": 4,
 "nbformat_minor": 2
}
