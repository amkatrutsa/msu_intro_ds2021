{
 "cells": [
  {
   "cell_type": "markdown",
   "metadata": {
    "slideshow": {
     "slide_type": "slide"
    }
   },
   "source": [
    "# Семинар 1. Числа с плавающей точкой. Векторы и их свойства. Нормы"
   ]
  },
  {
   "cell_type": "markdown",
   "metadata": {
    "slideshow": {
     "slide_type": "slide"
    }
   },
   "source": [
    "### Пример сложения чисел в формате плавающей точки\n",
    "\n",
    "- Рассмотрим те же два числа $18.5$ и $6.75$\n",
    "- Их представление как чисел с плавающей точкой:\n",
    "    - Двоичное представление $18.5_{10} = 10010.1_2 = 10010.1_2 \\cdot 2^0 = 1.00101_2 \\cdot 2^4$ даёт мантиссу $00101$\n",
    "    - Для приведения числа к виду $1.xxxx$ использовали сдвиг влево, поэтому показатель 2 увеличился. Однако может понадобиться сдвигать точку вправо. Тогда показатель экспоненты может стать отрицательным\n",
    "    - Чтобы этого избежать и хранить её в беззнаковом виде к получившемуся значению прибавляют 127 (для одинарной точности).\n",
    "    - Тогда $127 + 4 = 131_{10} = 10000011_2$. Также бит, отвечающий за знак равен 0. \n",
    "    - В итоге число будет храниться в виде **0 10000011 00101** + необходимые нули\n",
    "    - Проверка: $2^4 \\cdot 1.\\{2^{-3} + 2^{-5} \\} = 2^4 \\cdot 1.15625 = 18.5$\n",
    "    - Проделав аналогичные манипуляции получим, что $6.75 = 110.11_2 \\cdot 2^0 = 1.1011 \\cdot 2^2 $ и $2 + 127 = 129_{10} = 10000001_2$. В итоге: $6.75 = $  **0 10000001 1011**\n",
    "    \n",
    "- Выполним сложение\n",
    "    - Для этого надо сделать экспоненты одинаковыми и равными минимальному показателю. В нашем случае минимальный показатель равен 2 и надо сдвинуть на 2 показатель для числа 18.5\n",
    "    - Как это сделать? Сдвигать биты вправо для увеличения и влево для уменьшения. Проверим: **0 10000001 10100** $= 2^x \\cdot 4.\\{0.5+0.125\\}$, где $x = 1 + 128 - 127 = 2$ \n",
    "    - Тогда $6.75 + 18.5 = 0 \\ 10000001 \\ 1011 + 0 \\ 10000001 \\ 1010$ но помним о сдвиге на 2 бита!\n",
    "    - Складываем мантиссы: $1.1011 + 100.1010 = 110.0101 = 110.0101 \\cdot 2^2$ - сдвигаем экспоненту на 2\n",
    "    - Значит в результате имеем $1.100101 \\cdot 2^4$ - может пропасть точность, если битов для хранения не хватит! \n",
    "    - Или в бинарном виде $0 \\ 10000011 \\ 100101_2 = 25.25_{10}$\n",
    "    "
   ]
  },
  {
   "cell_type": "markdown",
   "metadata": {
    "slideshow": {
     "slide_type": "slide"
    }
   },
   "source": [
    "## А как будет выглядеть умножение?\n",
    "\n",
    "Выше показали, как складывать числа в формате плавающей точки. Давайте обсудим нюансы того, как выполняется умножение чисел в таком формате. Для удобства рассмотрим те же самые числа.\n",
    "\n",
    "- Поскольку основание экспоненты одинаково, то при умножение нужно сложить показатели как двоичные числа\n",
    "- И перемножить мантиссы тоже как двоичные числа\n",
    "\n",
    "Пример перемножения целых чисел\n",
    "\n",
    "$$ \\begin{align*} &9 \\cdot 5 = 1001_2 \\cdot 101_2 = \\\\ \n",
    "& 001001_2 + 100100_2 = 101101_2 = 1 + 4 + 8 + 32 = 45_{10}\n",
    "\\end{align*} \n",
    "$$"
   ]
  },
  {
   "cell_type": "markdown",
   "metadata": {
    "slideshow": {
     "slide_type": "slide"
    }
   },
   "source": [
    "## Суммирование ряда\n",
    "\n",
    "- Покажем, почему сложение чисел в формате плавающей точки будет давать разную точность при разном порядке. \n",
    "- Рассмотрим следующий замечательный факт\n",
    "\n",
    "$$\n",
    "\\sum_{n=1}^{\\infty} \\frac{1}{n^2} = \\frac{\\pi^2}{6}\n",
    "$$\n",
    "\n",
    "и проверим, что он действительно выполяняется с некоторой точность. \n",
    "\n",
    "На этом примере проанализируем как лучше складывать такие ряды."
   ]
  },
  {
   "cell_type": "code",
   "execution_count": 4,
   "metadata": {
    "slideshow": {
     "slide_type": "slide"
    }
   },
   "outputs": [
    {
     "name": "stdout",
     "output_type": "stream",
     "text": [
      "-2.392844625331847e-06\n",
      "-0.0002087441248377342\n",
      "-1.0815424402732532e-06\n",
      "258 ms ± 75.1 ms per loop (mean ± std. dev. of 7 runs, 1 loop each)\n",
      "1.38 ms ± 102 µs per loop (mean ± std. dev. of 7 runs, 1000 loops each)\n"
     ]
    }
   ],
   "source": [
    "import numpy as np\n",
    "from numba import jit\n",
    "\n",
    "N = int(1e6)\n",
    "items = np.array([1./n**2 for n in range(1, N+1)], dtype=np.float32)\n",
    "target = np.pi**2 / 6\n",
    "print(np.sum(items, dtype=np.float32) - target)\n",
    "\n",
    "@jit(nopython=True)\n",
    "def forward_sum(series):\n",
    "    series_val = np.float32(0)\n",
    "    for it in series:\n",
    "        series_val += it\n",
    "    return series_val\n",
    "\n",
    "def forward_sum_pure(series):\n",
    "    series_val = np.float32(0)\n",
    "    for it in series:\n",
    "        series_val += it\n",
    "    return series_val\n",
    "\n",
    "series_val = forward_sum(items)\n",
    "print(series_val - target)\n",
    "\n",
    "@jit(nopython=True)\n",
    "def backward_sum(series):\n",
    "    series_val = np.float32(0)\n",
    "    for it in series[::-1]:\n",
    "        series_val += it\n",
    "    return series_val\n",
    "\n",
    "series_val = backward_sum(items)\n",
    "print(series_val - target)\n",
    "\n",
    "%timeit forward_sum_pure(items)\n",
    "%timeit forward_sum(items)\n"
   ]
  },
  {
   "cell_type": "markdown",
   "metadata": {
    "slideshow": {
     "slide_type": "slide"
    }
   },
   "source": [
    "## Вложения слов в векторное пространство\n",
    "\n",
    "- Посмотрим на векторные представления слов и то, как векторы, которыми \"заменяют\" слова сохраняют семантические свойства слов. \n",
    "- Это означает, что арифметичесике операции над векторами дают векторы похожие на представления соответствующих слов."
   ]
  },
  {
   "cell_type": "code",
   "execution_count": 5,
   "metadata": {
    "slideshow": {
     "slide_type": "slide"
    }
   },
   "outputs": [],
   "source": [
    "# !pip install gensim\n",
    "import gensim.downloader as api\n",
    "# Warning! 2 Gb model will be downloaded!\n",
    "wv = api.load('word2vec-google-news-300')"
   ]
  },
  {
   "cell_type": "code",
   "execution_count": 6,
   "metadata": {
    "slideshow": {
     "slide_type": "slide"
    }
   },
   "outputs": [
    {
     "name": "stdout",
     "output_type": "stream",
     "text": [
      "word #0/3000000 is </s>\n",
      "word #1/3000000 is in\n",
      "word #2/3000000 is for\n",
      "word #3/3000000 is that\n",
      "word #4/3000000 is is\n",
      "word #5/3000000 is on\n",
      "word #6/3000000 is ##\n",
      "word #7/3000000 is The\n",
      "word #8/3000000 is with\n",
      "word #9/3000000 is said\n"
     ]
    }
   ],
   "source": [
    "for index, word in enumerate(wv.index_to_key):\n",
    "    if index == 10:\n",
    "        break\n",
    "    print(f\"word #{index}/{len(wv.index_to_key)} is {word}\")"
   ]
  },
  {
   "cell_type": "code",
   "execution_count": 16,
   "metadata": {
    "slideshow": {
     "slide_type": "slide"
    }
   },
   "outputs": [
    {
     "name": "stdout",
     "output_type": "stream",
     "text": [
      "'plane' \t 'boeing' \t 0.40\n",
      "'plane' \t 'airbus' \t 0.64\n",
      "'plane' \t 'shuttle' \t 0.32\n",
      "'plane' \t 'bombardier' \t 0.38\n",
      "'plane' \t 'dog' \t 0.20\n"
     ]
    }
   ],
   "source": [
    "pairs = [\n",
    "    ('plane', 'boeing'),\n",
    "    ('plane', 'airbus'),\n",
    "    ('plane', 'shuttle'),\n",
    "    ('plane', 'bombardier'),\n",
    "    ('plane', 'dog'),\n",
    "]\n",
    "for w1, w2 in pairs:\n",
    "    print('%r \\t %r \\t %.2f' % (w1, w2, wv.similarity(w1, w2)))"
   ]
  },
  {
   "cell_type": "code",
   "execution_count": 19,
   "metadata": {
    "slideshow": {
     "slide_type": "slide"
    }
   },
   "outputs": [
    {
     "name": "stdout",
     "output_type": "stream",
     "text": [
      "[('airplane', 0.8348400592803955), ('jet', 0.7661097049713135), ('planes', 0.7439613938331604), ('aircraft', 0.7360519170761108), ('jetliner', 0.7206446528434753), ('airliner', 0.7167278528213501), ('Cessna', 0.6842411160469055), ('Plane', 0.6765829920768738), ('propeller_plane', 0.6752769351005554), ('flight', 0.6747332215309143)]\n"
     ]
    }
   ],
   "source": [
    "print(wv.most_similar(positive=['plane'], topn=10))"
   ]
  },
  {
   "cell_type": "code",
   "execution_count": 28,
   "metadata": {
    "slideshow": {
     "slide_type": "slide"
    }
   },
   "outputs": [
    {
     "name": "stdout",
     "output_type": "stream",
     "text": [
      "nails 0.5771986\n",
      "bird 0.48011056\n",
      "dog 0.39971536\n",
      "rattle_snake 0.3872848\n",
      "nail 0.385976\n",
      "puff_adder 0.38555157\n",
      "rattler 0.37968072\n",
      "puppy 0.3730222\n",
      "rattlesnake 0.372675\n",
      "cat 0.37201318\n"
     ]
    }
   ],
   "source": [
    "unknown_vec = wv[\"bird\"] - wv[\"feathers\"] + wv[\"nails\"]\n",
    "sim = wv.cosine_similarities(unknown_vec, wv.vectors)\n",
    "idx = np.argsort(sim)[::-1]\n",
    "for i in idx[:10]:\n",
    "    print(wv.index_to_key[i], sim[i])"
   ]
  }
 ],
 "metadata": {
  "celltoolbar": "Slideshow",
  "kernelspec": {
   "display_name": "Python 3",
   "language": "python",
   "name": "python3"
  },
  "language_info": {
   "codemirror_mode": {
    "name": "ipython",
    "version": 3
   },
   "file_extension": ".py",
   "mimetype": "text/x-python",
   "name": "python",
   "nbconvert_exporter": "python",
   "pygments_lexer": "ipython3",
   "version": "3.7.7"
  }
 },
 "nbformat": 4,
 "nbformat_minor": 4
}
