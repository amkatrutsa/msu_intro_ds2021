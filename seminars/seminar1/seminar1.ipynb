{
 "cells": [
  {
   "cell_type": "markdown",
   "metadata": {
    "slideshow": {
     "slide_type": "slide"
    }
   },
   "source": [
    "# Семинар 1. Числа с плавающей точкой. Векторы и их свойства. Нормы"
   ]
  },
  {
   "cell_type": "markdown",
   "metadata": {
    "slideshow": {
     "slide_type": "slide"
    }
   },
   "source": [
    "## Задача 1\n",
    "\n",
    "Все нормы в конечномерном пространстве эквивалентны. Покажем это на конкретных примеров для норм $\\|\\cdot\\|_2, \\|\\cdot\\|_1, \\|\\cdot\\|_{\\infty}$"
   ]
  },
  {
   "cell_type": "markdown",
   "metadata": {
    "slideshow": {
     "slide_type": "slide"
    }
   },
   "source": [
    "## Задача 2\n",
    "\n",
    "На лекции показали, как складывать числа в формате плавающей точки. Давайте обсудим нюансы того, как выполняется умножение чисел в таком формате. Для удобстав рассмотрим те же самые числа, что были на лекции."
   ]
  },
  {
   "cell_type": "markdown",
   "metadata": {
    "slideshow": {
     "slide_type": "slide"
    }
   },
   "source": [
    "## Задача 3\n",
    "\n",
    "Покажем, почему сложение чисел в формате плавающей точки будет давать разную точность при разном порядке. \n",
    "Рассмотрим следующий замечательный факт\n",
    "\n",
    "$$\n",
    "\\sum_{n=1}^{\\infty} \\frac{1}{n^2} = \\frac{\\pi^2}{6}\n",
    "$$\n",
    "\n",
    "и проверим, что он действительно выполяняется с некоторой точность. На этом примере проанализируем как лучше складывать такие ряды."
   ]
  },
  {
   "cell_type": "code",
   "execution_count": 36,
   "metadata": {
    "slideshow": {
     "slide_type": "slide"
    }
   },
   "outputs": [
    {
     "name": "stdout",
     "output_type": "stream",
     "text": [
      "-2.392844625331847e-06\n",
      "-0.0002087441248377342\n",
      "-1.0815424402732532e-06\n"
     ]
    }
   ],
   "source": [
    "import numpy as np\n",
    "from numba import jit\n",
    "\n",
    "N = int(1e6)\n",
    "items = np.array([1./n**2 for n in range(1, N+1)], dtype=np.float32)\n",
    "target = np.pi**2 / 6\n",
    "print(np.sum(items, dtype=np.float32) - target)\n",
    "\n",
    "@jit(nopython=True)\n",
    "def forward_sum(series):\n",
    "    series_val = np.float32(0)\n",
    "    for it in series:\n",
    "        series_val += it\n",
    "    return series_val\n",
    "series_val = forward_sum(items)\n",
    "print(series_val - target)\n",
    "\n",
    "@jit(nopython=True)\n",
    "def backward_sum(series):\n",
    "    series_val = np.float32(0)\n",
    "    for it in series[::-1]:\n",
    "        series_val += it\n",
    "    return series_val\n",
    "\n",
    "series_val = backward_sum(items)\n",
    "print(series_val - target)"
   ]
  },
  {
   "cell_type": "markdown",
   "metadata": {
    "slideshow": {
     "slide_type": "slide"
    }
   },
   "source": [
    "## Задача 4 \n",
    "\n",
    "Для рассмотренных норм можно построить споряжённые нормы с помощью следующего определения\n",
    "\n",
    "$$ \\|z\\|_* = \\max_{\\|x\\| \\leq 1} (z, x). $$\n",
    "\n",
    "Найдём сопряжённую норму для евклидовой нормы. "
   ]
  },
  {
   "cell_type": "markdown",
   "metadata": {
    "slideshow": {
     "slide_type": "slide"
    }
   },
   "source": [
    "## Задача 5\n",
    "\n",
    "Посмотрим на векторные представления слов и то, как векторы, которыми \"заменяют\" слова сохраняют семантические свойства слов. Это означает, что арифметичесике операции над векторами дают векторы похожие на представления соответствующих слов."
   ]
  },
  {
   "cell_type": "code",
   "execution_count": 1,
   "metadata": {
    "slideshow": {
     "slide_type": "slide"
    }
   },
   "outputs": [],
   "source": [
    "# !pip install gensim\n",
    "import gensim.downloader as api\n",
    "# Warning! 2 Gb model will be downloaded!\n",
    "wv = api.load('word2vec-google-news-300')"
   ]
  },
  {
   "cell_type": "code",
   "execution_count": 2,
   "metadata": {
    "slideshow": {
     "slide_type": "slide"
    }
   },
   "outputs": [
    {
     "name": "stdout",
     "output_type": "stream",
     "text": [
      "word #0/3000000 is </s>\n",
      "word #1/3000000 is in\n",
      "word #2/3000000 is for\n",
      "word #3/3000000 is that\n",
      "word #4/3000000 is is\n",
      "word #5/3000000 is on\n",
      "word #6/3000000 is ##\n",
      "word #7/3000000 is The\n",
      "word #8/3000000 is with\n",
      "word #9/3000000 is said\n"
     ]
    }
   ],
   "source": [
    "for index, word in enumerate(wv.index_to_key):\n",
    "    if index == 10:\n",
    "        break\n",
    "    print(f\"word #{index}/{len(wv.index_to_key)} is {word}\")"
   ]
  },
  {
   "cell_type": "code",
   "execution_count": 22,
   "metadata": {
    "slideshow": {
     "slide_type": "slide"
    }
   },
   "outputs": [
    {
     "name": "stdout",
     "output_type": "stream",
     "text": [
      "'plane' \t 'boeing' \t 0.40\n",
      "'plane' \t 'airbus' \t 0.64\n",
      "'plane' \t 'shuttle' \t 0.32\n",
      "'plane' \t 'bombardier' \t 0.38\n",
      "'plane' \t 'vehicle' \t 0.38\n"
     ]
    }
   ],
   "source": [
    "pairs = [\n",
    "    ('plane', 'boeing'),\n",
    "    ('plane', 'airbus'),\n",
    "    ('plane', 'shuttle'),\n",
    "    ('plane', 'bombardier'),\n",
    "    ('plane', 'vehicle'),\n",
    "]\n",
    "for w1, w2 in pairs:\n",
    "    print('%r \\t %r \\t %.2f' % (w1, w2, wv.similarity(w1, w2)))"
   ]
  },
  {
   "cell_type": "code",
   "execution_count": 25,
   "metadata": {
    "slideshow": {
     "slide_type": "slide"
    }
   },
   "outputs": [
    {
     "name": "stdout",
     "output_type": "stream",
     "text": [
      "[('airplane', 0.8348400592803955), ('jet', 0.7661097049713135), ('planes', 0.7439613938331604), ('aircraft', 0.7360519170761108), ('jetliner', 0.7206446528434753)]\n"
     ]
    }
   ],
   "source": [
    "print(wv.most_similar(positive=['plane'], topn=5))"
   ]
  },
  {
   "cell_type": "code",
   "execution_count": 48,
   "metadata": {
    "slideshow": {
     "slide_type": "slide"
    }
   },
   "outputs": [
    {
     "name": "stdout",
     "output_type": "stream",
     "text": [
      "France\n",
      "Paris\n",
      "extradites_Noriega\n",
      "Villebon_Sur_Yvette\n",
      "PARIS_AFX_Gaz_de\n",
      "Belgium\n",
      "Gaz_De\n",
      "French\n",
      "Emilie_Lepennec\n",
      "called_Xynthia_blew\n"
     ]
    }
   ],
   "source": [
    "unknown_vec = wv[\"Russia\"] - wv[\"Moscow\"] + wv[\"Paris\"]\n",
    "sim = wv.cosine_similarities(unknown_vec, wv.vectors)\n",
    "idx = np.argsort(sim)[::-1]\n",
    "for i in idx[:10]:\n",
    "    print(wv.index_to_key[i])"
   ]
  }
 ],
 "metadata": {
  "celltoolbar": "Slideshow",
  "kernelspec": {
   "display_name": "Python 3",
   "language": "python",
   "name": "python3"
  },
  "language_info": {
   "codemirror_mode": {
    "name": "ipython",
    "version": 3
   },
   "file_extension": ".py",
   "mimetype": "text/x-python",
   "name": "python",
   "nbconvert_exporter": "python",
   "pygments_lexer": "ipython3",
   "version": "3.7.7"
  }
 },
 "nbformat": 4,
 "nbformat_minor": 4
}
