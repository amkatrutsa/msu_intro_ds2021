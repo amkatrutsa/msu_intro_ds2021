{
  "cells": [
    {
      "cell_type": "markdown",
      "metadata": {
        "id": "4PvVtmvgrqvg"
      },
      "source": [
        "# Введение в методы оптимизации для анализа данных"
      ]
    },
    {
      "cell_type": "markdown",
      "metadata": {
        "id": "I1EMz0wurweW"
      },
      "source": [
        "## План на сегодня\n",
        "\n",
        "- Постановки задач оптимищации и ключевые определения\n",
        "- Примеры приложений\n",
        "- Простейшие методы численного решения задач оптимизации"
      ]
    },
    {
      "cell_type": "markdown",
      "metadata": {
        "id": "ngeSi_MqsEY0"
      },
      "source": [
        "## Постановка задачи оптимизации\n",
        "\n",
        "- Необходимо найти минимум некоторой функции в заданной области\n",
        "- Формально записывается следующим образом\n",
        "\n",
        "\\begin{align*}\n",
        "& \\min f(x) \\\\\n",
        "\\text{s.t. } & x \\in X\n",
        "\\end{align*}\n",
        "\n",
        "или \n",
        "\n",
        "\\begin{align*}\n",
        "& \\min f(x) \\\\\n",
        "\\text{s.t. } & g_i(x) = 0\\\\\n",
        "& h_j(x) \\leq 0\n",
        "\\end{align*}"
      ]
    },
    {
      "cell_type": "markdown",
      "metadata": {
        "id": "ysvTPXDEspR1"
      },
      "source": [
        "### Пример: задача о планировании рациона минимальной стоимости\n",
        "\n",
        "- Дан набор продуктов: хлеб, молоко, мясщ, крупы, овощи и тд\n",
        "- Известна цена единицы каждого продукта $c_i$\n",
        "- Известно сколько калорий приносит потребление единицы каждого продукта $k_i$\n",
        "- Также известно, какое минимальное и максимальное количество калорий нужно получить $F_{\\min}$ и $F_{\\max}$\n",
        "- Также известно какие минимальное и максимальное количество каждого продукта доступно $N_{\\min}$ и $N_{\\max}$\n",
        "- Задача: потратить как можно меньше денег на продукты при заданных ограничениях"
      ]
    },
    {
      "cell_type": "markdown",
      "metadata": {
        "id": "lLZiMVIPu3FP"
      },
      "source": [
        "### Как выглядит задача оптимизации?\n",
        "\n",
        "- Хотим найти вектор $x$ такой что $x_i$ - количество единиц $i$-го продукта\n",
        "- Стоимость всех продуктов $\\sum_{i=1}^n c_i x_i = c^{\\top}x$\n",
        "- Ограничения: \n",
        "    - $N_{\\min} \\leq x_i \\leq N_{\\max}$\n",
        "    - $F_{\\min} \\leq k^{\\top}x \\leq F_{\\max}$\n",
        "- Если предположить, что количество может быть только целым, то появится новое ограничение $x_i \\in \\mathbb{Z}_+$"
      ]
    },
    {
      "cell_type": "markdown",
      "metadata": {
        "id": "f-qB-uMbwqpW"
      },
      "source": [
        "## Определения\n",
        "\n",
        "- Функция $f$ - целевая функция\n",
        "- Функции $g_i$ - ограничения типа равенств\n",
        "- Функции $h_j$ - ограничения типа неравенств"
      ]
    },
    {
      "cell_type": "markdown",
      "metadata": {
        "id": "0AZ4QnpPw-xl"
      },
      "source": [
        "## Какие решения бывают?\n",
        "\n",
        "- Локальный минимум: точка $x^*$ является точкой **локального** минимума, если $f(x^*) \\leq f(x)$ для всех $x$ в некоторой окрестности $x^*$\n",
        "\n",
        "- Глобальный минимум: точка $x^*$ является точкой **глобального** минимума, если $f(x^*) \\leq f(x)$ для всех $x$ из области определения $f$"
      ]
    },
    {
      "cell_type": "code",
      "execution_count": 25,
      "metadata": {
        "colab": {
          "base_uri": "https://localhost:8080/",
          "height": 282
        },
        "id": "7T8RFlpMxELk",
        "outputId": "4d43ae9b-10da-4aac-e6a7-82630e1917d6"
      },
      "outputs": [
        {
          "data": {
            "text/plain": [
              "[<matplotlib.lines.Line2D at 0x7f7d2e36e590>]"
            ]
          },
          "execution_count": 25,
          "metadata": {},
          "output_type": "execute_result"
        },
        {
          "data": {
            "image/png": "[encoded data removed]",
            "text/plain": [
              "<Figure size 432x288 with 1 Axes>"
            ]
          },
          "metadata": {
            "needs_background": "light"
          },
          "output_type": "display_data"
        }
      ],
      "source": [
        "import matplotlib.pyplot as plt\n",
        "import numpy as np\n",
        "\n",
        "x = np.linspace(-10, 10)\n",
        "f = lambda x: x**4 - x**3 - 100*x**2 - x + 1\n",
        "plt.plot(x, f(x))"
      ]
    },
    {
      "cell_type": "markdown",
      "metadata": {
        "id": "28eS_8Rt1dR-"
      },
      "source": [
        "**Q1**: как определит ьлокальный и глобальный максимум?\n",
        "\n",
        "**Q2**: как свести задачу максимизации к задаче минимизации?"
      ]
    },
    {
      "cell_type": "markdown",
      "metadata": {
        "id": "5V66-O7q0g5d"
      },
      "source": [
        "## Примеры задач оптимизации в анализе данных\n",
        "\n",
        "Базовые:\n",
        "- классификация\n",
        "- регрессия\n",
        "- кластеризация\n",
        "- построение рекомендательных систем\n",
        "\n",
        "Более сложные:\n",
        "- ранжирование\n",
        "- генерация изображений, текста и звука\n",
        "- диалоговые системы\n",
        "- и многие многие другие\n",
        "\n",
        "\n"
      ]
    },
    {
      "cell_type": "markdown",
      "metadata": {
        "id": "lkY0YNDH1aFz"
      },
      "source": [
        "## Какой самый простой метод поиска решения задачи оптимизации вы можете предложить?"
      ]
    },
    {
      "cell_type": "markdown",
      "metadata": {
        "id": "oDcGkzYK2GM3"
      },
      "source": [
        " ## Поиск по сетке или полный перебор\n",
        "\n",
        " - Идея: последовательно перебрать все возможные точки, которые могут оказаться решением и выбрать ту точку, в которой значение целевой функции минимально  "
      ]
    },
    {
      "cell_type": "code",
      "execution_count": 39,
      "metadata": {
        "colab": {
          "base_uri": "https://localhost:8080/"
        },
        "id": "LSacXGK03T5q",
        "outputId": "2fbce851-5589-4c12-b120-e5e8508ef8c3"
      },
      "outputs": [
        {
          "name": "stdout",
          "output_type": "stream",
          "text": [
            "7.457745774577457 -2889.6808319109277\n"
          ]
        }
      ],
      "source": [
        "N_test = 10000\n",
        "x_test = np.linspace(-10, 10, N_test)\n",
        "f_test = f(x_test)\n",
        "idx_min = np.argmin(f_test)\n",
        "print(x_test[idx_min], f(x_test[idx_min]))"
      ]
    },
    {
      "cell_type": "code",
      "execution_count": 40,
      "metadata": {
        "colab": {
          "base_uri": "https://localhost:8080/"
        },
        "id": "ZggLCokC33lj",
        "outputId": "f4edcdc0-f3e8-4476-bfa5-7915dfee8d62"
      },
      "outputs": [
        {
          "name": "stdout",
          "output_type": "stream",
          "text": [
            "7.458370979306252 -2889.6809145308193\n"
          ]
        }
      ],
      "source": [
        "# Exact solution\n",
        "import scipy.optimize as scopt\n",
        "x_opt = scopt.minimize_scalar(f, bounds=(-10, 10))\n",
        "print(x_opt.x, f(x_opt.x), )"
      ]
    },
    {
      "cell_type": "markdown",
      "metadata": {
        "id": "AZVPf3EV4Poa"
      },
      "source": [
        "## Какие недостатки есть у такого подхода?"
      ]
    },
    {
      "cell_type": "markdown",
      "metadata": {
        "id": "jaFSckmN4Tvm"
      },
      "source": [
        "## Как удостовериться, что точка выданная методом действительно является решением?\n",
        "\n",
        "- В этом помогают условия оптимальности, то есть некоторые утверждения, проверка корректности которых позволяет ответить на вопрос: **является ли данная точка локальным минимумом?**\n",
        "- Если можно вычислить производную, то \n",
        "    - если точка является локальным минимумом, то производная в ней равна 0\n",
        "    - если в некоторой точке производная равна 0 и вторая производная положительна, то это точка локального минимума\n",
        "\n",
        "- Рассмотрим наш тестовый пример\n",
        "- $f(x) = x^4 - x^3 - 100x^2 - x + 1$\n",
        "- $f'(x) = 4x^3 - 3x^2 - 200x - 1$\n",
        "- $f''(x) = 12x^2 - 6x - 200$\n",
        "\n"
      ]
    },
    {
      "cell_type": "code",
      "execution_count": 43,
      "metadata": {
        "colab": {
          "base_uri": "https://localhost:8080/"
        },
        "id": "KsIhX8ZS7NbH",
        "outputId": "784f36f5-12c5-4be3-b126-9cb46b89c55a"
      },
      "outputs": [
        {
          "name": "stdout",
          "output_type": "stream",
          "text": [
            "-0.26428719552950497 1.3900798876420595e-06\n",
            "422.66918981127026 422.77734610365485\n"
          ]
        }
      ],
      "source": [
        "f_prime = lambda x: 4 * x**3 - 3 * x**2 - 200 * x - 1\n",
        "f_dprime =  lambda x: 12 * x**2 - 6 * x - 200\n",
        "print(f_prime(x_test[idx_min]), f_prime(x_opt.x))\n",
        "print(f_dprime(x_test[idx_min]), f_dprime(x_opt.x))"
      ]
    },
    {
      "cell_type": "markdown",
      "metadata": {
        "id": "O7rNokbR75GI"
      },
      "source": [
        "## Метод случайного поиска\n",
        "\n",
        "- Вместо поиска по сетке сэмпилруем случаные точки, вычисляем в них значения и запоминаем точку, в которой значение наименьшее\n",
        "\n",
        "- Может оказаться точнее для задач высокой размерности, где поиск по сетке чрезвычайно вычислительно затратен\n"
      ]
    },
    {
      "cell_type": "markdown",
      "metadata": {
        "id": "9Tgy5yWL--gz"
      },
      "source": [
        "### Функция Растригина\n",
        "\n",
        "- Много локальных минимумов\n",
        "\n",
        "$$ f(x) = 10n + \\sum_{i=1}^n (x_i^2 - 10\\cos(x_i)), \\quad x_i \\in [-5.12, 5.12]$$ \n",
        "\n",
        "- Известен глобальный минимум $f(0) = 0$"
      ]
    },
    {
      "cell_type": "code",
      "execution_count": 46,
      "metadata": {
        "colab": {
          "base_uri": "https://localhost:8080/",
          "height": 266
        },
        "id": "QLcOA6hR-Yx1",
        "outputId": "66b2e2ba-0a29-417f-e526-3acceecb0e3a"
      },
      "outputs": [
        {
          "data": {
            "text/plain": [
              "<mpl_toolkits.mplot3d.art3d.Poly3DCollection at 0x7f7d1779f050>"
            ]
          },
          "execution_count": 46,
          "metadata": {},
          "output_type": "execute_result"
        },
        {
          "data": {
            "image/png": "[encoded data removed]",
            "text/plain": [
              "<Figure size 432x288 with 1 Axes>"
            ]
          },
          "metadata": {
            "needs_background": "light"
          },
          "output_type": "display_data"
        }
      ],
      "source": [
        "from matplotlib import cm \n",
        "X = np.linspace(-5.12, 5.12, 100)     \n",
        "Y = np.linspace(-5.12, 5.12, 100)     \n",
        "X, Y = np.meshgrid(X, Y) \n",
        "\n",
        "Z = (X**2 - 10 * np.cos(2 * np.pi * X)) + \\\n",
        "  (Y**2 - 10 * np.cos(2 * np.pi * Y)) + 20\n",
        " \n",
        "fig = plt.figure() \n",
        "ax = fig.gca(projection='3d') \n",
        "ax.plot_surface(X, Y, Z, rstride=1, cstride=1,\n",
        "  cmap=cm.nipy_spectral, linewidth=0.08,\n",
        "  antialiased=True)    "
      ]
    },
    {
      "cell_type": "code",
      "execution_count": 62,
      "metadata": {
        "colab": {
          "base_uri": "https://localhost:8080/"
        },
        "id": "iCb08BXN_mj8",
        "outputId": "183e195d-78be-4615-cad0-d9ab6ed5def9"
      },
      "outputs": [
        {
          "name": "stdout",
          "output_type": "stream",
          "text": [
            "0.0\n"
          ]
        }
      ],
      "source": [
        "rastrigin = lambda x: 10 * x.shape[0] + np.sum(x**2 - 10 * np.cos(2 * np.pi * x))\n",
        "print(rastrigin(np.zeros(10)))"
      ]
    },
    {
      "cell_type": "code",
      "execution_count": 73,
      "metadata": {
        "colab": {
          "base_uri": "https://localhost:8080/"
        },
        "id": "D_9gq68R_2sw",
        "outputId": "3818014d-6f34-41ae-b745-ad332d8de3a4"
      },
      "outputs": [
        {
          "name": "stdout",
          "output_type": "stream",
          "text": [
            "[-6.17099338e-05 -2.77525006e-06] 7.570280828872455e-07\n"
          ]
        }
      ],
      "source": [
        "n = 2\n",
        "# n = 4\n",
        "x_bf = scopt.brute(rastrigin, [(-5.12, 5.12) for i in range(n)], Ns=100)\n",
        "print(x_bf, rastrigin(x_bf))"
      ]
    },
    {
      "cell_type": "code",
      "execution_count": 76,
      "metadata": {
        "id": "g97ar9AmAaq7"
      },
      "outputs": [],
      "source": [
        "N_random = 10**5\n",
        "n = 3\n",
        "random_test_x = 5.12 * (2 * np.random.rand(N_random, n) - 1)\n",
        "f_random = np.zeros(N_random)\n",
        "for i in range(N_random):\n",
        "    f_random[i] = rastrigin(random_test_x[i])"
      ]
    },
    {
      "cell_type": "code",
      "execution_count": 77,
      "metadata": {
        "colab": {
          "base_uri": "https://localhost:8080/"
        },
        "id": "JYtB--f_Bqy6",
        "outputId": "81914266-dbe6-4816-d5a4-9f564abbbf2c"
      },
      "outputs": [
        {
          "name": "stdout",
          "output_type": "stream",
          "text": [
            "[0.01805787 0.03279085 0.07111453] 1.2640180169236785\n"
          ]
        }
      ],
      "source": [
        "idx_in = np.argmin(f_random)\n",
        "print(random_test_x[idx_in], rastrigin(random_test_x[idx_in]))"
      ]
    },
    {
      "cell_type": "markdown",
      "metadata": {
        "id": "vNWEQpgmDWD5"
      },
      "source": [
        "## Более продвинутые методы случайного поиска\n",
        "\n",
        "- генетические алгоритмы\n",
        "- алгоритм роя частиц\n",
        "- другие методы, имитирующие поведение природных сообществ"
      ]
    },
    {
      "cell_type": "markdown",
      "metadata": {
        "id": "a4m5JMYdD63C"
      },
      "source": [
        "## Если функция дифференцируема и нам достаточно получить локальный минимум...\n",
        "\n",
        "- Можно показать, что направление $-f'(x)$ ведёт к точкам, в которых значение функции меньше, чем в точке $x$\n",
        "- Это приводит к идее градиентного спуска\n",
        "\n",
        "$$ x_{k+1} = x_k - \\alpha_k f'(x_k), $$\n",
        "\n",
        "где $\\alpha_k > 0$ некоторый размер шага\n",
        "\n",
        "- В общем случае градиентный спуск сходится в **стационарную** точку функции, то есть в такую точку, где градиент равен 0.\n",
        "\n",
        "**Q:** всегда ли это точка минимума?"
      ]
    },
    {
      "cell_type": "markdown",
      "metadata": {
        "id": "OiAzbnHkD6sJ"
      },
      "source": [
        "## Пример: квадратичная функция\n",
        "\n",
        "- Решаем задачу \n",
        "\n",
        "$$ f(x) = \\frac12 x^{\\top}Ax - b^{\\top}x \\to \\min_x, $$\n",
        "\n",
        "где $A ≻ 0$.\n",
        "\n",
        "- Из лекций про линейную алгебру известно, что градиент этой функции равен \n",
        "\n",
        "$$ f'(x) = Ax - b $$\n",
        "\n",
        "- Тогда условие оптимальности $f'(x^*) = 0$ сводится к задаче $Ax^* = b$\n",
        "\n",
        "- То есть задача оптимизации свелась к задаче решения системы линейных уравнений\n",
        "\n",
        "- Этот приём является достаточно пролдуктивным для установления связей между методами решения линейных и нелинейных уравнений и методами оптимизации"
      ]
    },
    {
      "cell_type": "markdown",
      "metadata": {
        "id": "PZIiqpOpDwKB"
      },
      "source": [
        "## Выводы\n",
        "\n",
        "- Постановки задач оптимизации\n",
        "- Приложения и моделирование\n",
        "- Простейшие методы поиска приближённого решения\n",
        "- Градиентный спуск"
      ]
    }
  ],
  "metadata": {
    "colab": {
      "collapsed_sections": [],
      "name": "intro_ds_msu_opt1.ipynb",
      "provenance": []
    },
    "kernelspec": {
      "display_name": "Python 3",
      "name": "python3"
    },
    "language_info": {
      "name": "python"
    }
  },
  "nbformat": 4,
  "nbformat_minor": 0
}
