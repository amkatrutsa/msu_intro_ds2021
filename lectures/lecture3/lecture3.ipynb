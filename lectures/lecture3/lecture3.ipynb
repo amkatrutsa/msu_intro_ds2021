{
 "cells": [
  {
   "cell_type": "code",
   "execution_count": null,
   "metadata": {
    "slideshow": {
     "slide_type": "skip"
    }
   },
   "outputs": [],
   "source": [
    "from traitlets.config.manager import BaseJSONConfigManager\n",
    "import jupyter_core\n",
    "# path = \"/Users/i.oseledets/anaconda2/envs/teaching/etc/jupyter/nbconfig\"\n",
    "cm = BaseJSONConfigManager(config_dir=path)\n",
    "cm.update(\"livereveal\", {\n",
    "              \"theme\": \"sky\",\n",
    "              \"transition\": \"zoom\",\n",
    "              \"start_slideshow_at\": \"selected\",\n",
    "               \"scroll\": True\n",
    "})\n"
   ]
  },
  {
   "cell_type": "markdown",
   "metadata": {
    "slideshow": {
     "slide_type": "slide"
    }
   },
   "source": [
    "# Лекция 3. Линейные системы"
   ]
  },
  {
   "cell_type": "markdown",
   "metadata": {
    "slideshow": {
     "slide_type": "slide"
    }
   },
   "source": [
    "## План \n",
    "\n",
    "- Линейные системы\n",
    "- Обратная матрица\n",
    "- Число обусловленности\n",
    "- Метод Гаусса"
   ]
  },
  {
   "cell_type": "markdown",
   "metadata": {
    "slideshow": {
     "slide_type": "slide"
    }
   },
   "source": [
    "## Линейные системы\n",
    "\n",
    "$$ Ax = f, $$\n",
    "\n",
    "где матрица $A$ и вектор $f$ известны.\n",
    "\n",
    "- Задача решения системы линейных уравнений – одна из основных задач вычислительной линейной алгебры.\n",
    "\n",
    "Она возникает при решении следующих задач:\n",
    "\n",
    "- задача линейной регрессии - во второй части лекции\n",
    "- задачи нелинейной регрессии - частично на курсе по машинноему обучению\n",
    "- задачи оптимизации (методы Ньютона-Рафсона и Гаусса-Ньютона, условия ККТ) - во второй части этого курса про оптимизацию"
   ]
  },
  {
   "cell_type": "markdown",
   "metadata": {
    "slideshow": {
     "slide_type": "slide"
    }
   },
   "source": [
    "## Интерпретация задачи\n",
    "\n",
    "$$ Ax = f $$\n",
    "\n",
    "- найти коэффициенты $x_i$ для столбцов $a_i$ матрицы $A$, такие что вектор $f$ равен $\\sum_i x_i a_i$\n",
    "- найти вектор $x$ такой что скалярное произведение с каждой строкой матрицы $A$ даст элемент вектора $f$"
   ]
  },
  {
   "cell_type": "markdown",
   "metadata": {
    "slideshow": {
     "slide_type": "slide"
    }
   },
   "source": [
    " ## Пример\n",
    " \n",
    " \\begin{align*}\n",
    "    &2 y + 3 x = 5 \\\\\n",
    "    &2 x + 3z = 5 \\\\\n",
    "    &z + y = 2 \\\\\n",
    "\\end{align*}\n",
    "\n",
    "эквивалентно\n",
    "\n",
    "$$ \n",
    "\\begin{bmatrix}\n",
    "3 & 2 & 0 \\\\\n",
    "2 & 0 & 3 \\\\\n",
    "0 & 1 & 1\n",
    "\\end{bmatrix}\n",
    "\\begin{bmatrix}\n",
    "x \\\\ y \\\\ z\n",
    "\\end{bmatrix}\n",
    "= \n",
    "\\begin{bmatrix}\n",
    "5 \\\\ 5 \\\\ 2\n",
    "\\end{bmatrix}\n",
    "$$"
   ]
  },
  {
   "cell_type": "markdown",
   "metadata": {
    "slideshow": {
     "slide_type": "slide"
    }
   },
   "source": [
    "## Существование решения\n",
    "\n",
    "Решение системы линейных уравнений с квадратной матрицей $A$\n",
    "\n",
    "$$A x = f$$\n",
    "\n",
    "существует тогда и только тогда, когда матрица $A$ имеет полный ранг.\n",
    "\n",
    "**Q:** что такое ранг матрицы? "
   ]
  },
  {
   "cell_type": "markdown",
   "metadata": {
    "slideshow": {
     "slide_type": "slide"
    }
   },
   "source": [
    "## Шкала размерностей линейных систем \n",
    "\n",
    "В различных приложениях размерности линейных систем могут быть различны \n",
    "\n",
    "- Малая: $n \\leq 10^4$ (вся матрица помещается в память, **плотные матрицы**)\n",
    "- Средняя: $n = 10^4 - 10^6$ (обычно **разреженные** или **структурированные** матрицы)\n",
    "- Большая: $n = 10^8 - 10^9$ (обычно **разреженные** матрицы и параллельные вычисления)"
   ]
  },
  {
   "cell_type": "markdown",
   "metadata": {
    "slideshow": {
     "slide_type": "slide"
    }
   },
   "source": [
    "## Линейные системы могут быть большими\n",
    "\n",
    "- Задача моделирования аэродинамики самолёта сводится к решению огромной линейной системы.\n",
    "Пример сетки для самолёта Airbus A319\n",
    "(подробнее см. [GMSH website](http://geuz.org/gmsh/)).  \n",
    "<img src=\"./a319_4.png\" width=50%>\n",
    "\n",
    "Основная сложность в том, что такие системы очень большие: миллионы и миллиарды неизвестных!"
   ]
  },
  {
   "cell_type": "markdown",
   "metadata": {
    "slideshow": {
     "slide_type": "slide"
    }
   },
   "source": [
    "## Линейные системы могут быть структурированы\n",
    "\n",
    "- Хранение $N^2$ элементов матрицы невозможно уже для $N = 100000$. Давайте получим сколько памяти будет занимать такая матрица и сравним с типичными размерами оперативной памяти в современных ноутбуках.\n",
    "\n",
    "**Q:** как работать с такими матрицами?  \n",
    "\n",
    "**A:** к счастью, такие матрицы чаще всего являются **структурированными** и требуют хранения $\\mathcal{O}(N)$ элементов.\n",
    "\n",
    "- Наиболее растространённый тип структурированных матриц – это разреженные матрицы: такие матрицы имеют только $\\mathcal{O}(N)$ ненулевых элементов!  \n",
    "\n",
    "- Пример (одна из самых известных матриц для $n = 5$):\n",
    "\n",
    "$$\n",
    "  \\begin{pmatrix}\n",
    "  2 & -1 & 0 & 0 & 0 \\\\\n",
    "  -1 & 2 & -1 & 0 & 0 \\\\\n",
    "  0 & -1 & 2 & -1 & 0 \\\\\n",
    "  0 & 0 &-1& 2 & -1  \\\\\n",
    "  0 & 0 & 0 & -1 & 2 \\\\\n",
    "  \\end{pmatrix}\n",
    "$$\n",
    "\n",
    "- По крайней мере можно хранить такие матрицы\n",
    "- Также можно умножать такие матрицы на вектор быстро\n",
    "- Но как решать линейные системы с такими матрицами?"
   ]
  },
  {
   "cell_type": "markdown",
   "metadata": {
    "slideshow": {
     "slide_type": "slide"
    }
   },
   "source": [
    "## Основные вопросы о линейных системах\n",
    "\n",
    "1. Как мы вычислим решение? (LU разложение, метод Гаусса)\n",
    "2. Какая сложность решения системы линейных уравнений?\n",
    "3. Какую точность мы можем получить от решения (из-за ошибок округления)?"
   ]
  },
  {
   "cell_type": "markdown",
   "metadata": {
    "slideshow": {
     "slide_type": "slide"
    }
   },
   "source": [
    "## Как решать линейные системы?\n",
    "\n",
    "- Есть формульное выражение решения с помощью **обратной матрицы**\n",
    "- Есть алгоритм вычисления - метод Гаусса"
   ]
  },
  {
   "cell_type": "markdown",
   "metadata": {
    "slideshow": {
     "slide_type": "slide"
    }
   },
   "source": [
    "## Что: обратная матрица\n",
    "\n",
    "- Если есть линейное уравнение с матрицей 1 на 1 (то есть числом):\n",
    "\n",
    "$$ ax = b, $$\n",
    "\n",
    "то решение записывается как $x = b / a$ для ненулевого числа $a$ или $x = a^{-1}b$\n",
    "\n",
    "- Обобщением обозначения $a^{-1}$ на случай системы линейных уравнений с матрицей $A$ размера $n \\times n$ является обратная матрица $A^{-1}$\n",
    "\n",
    "- Определение: матрица, обратная к матрице $A$, это такая матрица $X$ что  \n",
    "\n",
    "$$\n",
    "   AX = XA = I, \n",
    "$$\n",
    "\n",
    "где $I$ – единичная матрица. Обратная матрица обозначается как $A^{-1}$.\n",
    "\n",
    "- Вычисление обратной матрицы связано с решением линейной системы. В самом деле, $i$-ый столбец произведения даёт\n",
    "\n",
    "$$\n",
    "A x_i = e_i,\n",
    "$$\n",
    "\n",
    "где $e_i$ – $i$-ый столбец единичной матрицы. \n"
   ]
  },
  {
   "cell_type": "code",
   "execution_count": 3,
   "metadata": {
    "slideshow": {
     "slide_type": "slide"
    }
   },
   "outputs": [
    {
     "name": "stdout",
     "output_type": "stream",
     "text": [
      "[[3 7]\n",
      " [2 4]]\n",
      "[[-2.   3.5]\n",
      " [ 1.  -1.5]]\n",
      "1.2560739669470201e-15\n"
     ]
    }
   ],
   "source": [
    "import numpy as np\n",
    "n = 2\n",
    "A = np.random.randint(10, size=(n, n))\n",
    "Ainv = np.linalg.inv(A)\n",
    "print(A)\n",
    "print(Ainv)\n",
    "print(np.linalg.norm(A @ Ainv - np.eye(n)))"
   ]
  },
  {
   "cell_type": "markdown",
   "metadata": {
    "slideshow": {
     "slide_type": "slide"
    }
   },
   "source": [
    "## Зачем: обратная матрица и линейные системы\n",
    "\n",
    "Если у нас есть обратная матрица $A^{-1}$, тогда решение линейной системы\n",
    "\n",
    "$$Ax = f$$\n",
    "\n",
    "выражается как $x = A^{-1} f$.  \n",
    "\n",
    "В самом деле,  \n",
    "\n",
    "$$   \n",
    "    A(A^{-1} f) = (AA^{-1})f = I f = f.\n",
    "$$"
   ]
  },
  {
   "cell_type": "code",
   "execution_count": 14,
   "metadata": {
    "slideshow": {
     "slide_type": "slide"
    }
   },
   "outputs": [
    {
     "name": "stdout",
     "output_type": "stream",
     "text": [
      "[[2 0]\n",
      " [6 4]]\n",
      "[8 6]\n",
      "[[ 0.5   0.  ]\n",
      " [-0.75  0.25]]\n",
      "[ 4.  -4.5]\n",
      "[0. 0.]\n"
     ]
    }
   ],
   "source": [
    "import numpy as np\n",
    "n = 2\n",
    "A = np.random.randint(10, size=(n, n))\n",
    "f = np.random.randint(10, size=(n,))\n",
    "Ainv = np.linalg.inv(A)\n",
    "print(A)\n",
    "print(f)\n",
    "print(Ainv)\n",
    "x = Ainv @ f\n",
    "print(x)\n",
    "print(A @ x - f)"
   ]
  },
  {
   "cell_type": "markdown",
   "metadata": {
    "slideshow": {
     "slide_type": "slide"
    }
   },
   "source": [
    "## Какие недостатки у такого подхода к решению линейных систем?"
   ]
  },
  {
   "cell_type": "markdown",
   "metadata": {
    "slideshow": {
     "slide_type": "slide"
    }
   },
   "source": [
    "## Как решать линейные системы: практика\n",
    "\n",
    "Основной инструмент – исключение переменных. \n",
    "\n",
    "\\begin{align*}\n",
    "    &2 y + 3 x = 5 \\quad&\\longrightarrow \\quad &y = 5/2 -  3/2 x \\\\\n",
    "    &2 x + 3z = 5 \\quad&\\longrightarrow\\quad &z = 5/3 - 2/3 x\\\\\n",
    "    &z + y = 2 \\quad&\\longrightarrow\\quad  & 5/2 + 5/3 - (3/2 + 2/3) x = 2,\\\\\n",
    "\\end{align*}\n",
    "\n",
    "и так вы можете найти $x$ (и все остальные неизвестные).  \n",
    "\n",
    "- Этот процесс называется **методов Гаусса** и является одним из самых часто используемых алгоритмов. \n",
    "- Далее мы подробно обсудим, как он обобщается на линейные системы с большим количеством переменных"
   ]
  },
  {
   "cell_type": "markdown",
   "metadata": {
    "slideshow": {
     "slide_type": "slide"
    }
   },
   "source": [
    "## Метод Гаусса\n",
    "\n",
    "Метод Гаусса состоит из двух этапов:\n",
    "1. Проход вперёд\n",
    "2. Проход назад"
   ]
  },
  {
   "cell_type": "markdown",
   "metadata": {
    "slideshow": {
     "slide_type": "slide"
    }
   },
   "source": [
    "## Проход вперёд\n",
    "\n",
    "- Исключим $x_1$:\n",
    "\n",
    "$$\n",
    "   x_1 = f_1 - (a_{12} x_2 + \\ldots + a_{1n} x_n)/a_{11},\n",
    "$$\n",
    "\n",
    "и подставим в уравнения $2, \\ldots, n$. \n",
    "\n",
    "- Затем исключим $x_2$ и подставим в остальные уравнения.\n",
    "\n",
    "- Важно, что ведущий элемент (pivot), тот на который мы делим, не равен $0$."
   ]
  },
  {
   "cell_type": "markdown",
   "metadata": {
    "slideshow": {
     "slide_type": "slide"
    }
   },
   "source": [
    "## Пример\n",
    "- Исключили $x$ из первого уравнения и подставили в остальные уравнения\n",
    "\\begin{align*}\n",
    "    &2 y + 3 x = 5 \\quad&\\longrightarrow \\quad &x = (5 - 2y) / 3 \\quad&\\longrightarrow\\quad &x = (5 - 2y) / 3 \\\\\n",
    "    &2 x + 3z = 5 \\quad&\\longrightarrow\\quad &2 x + 3z = 5 \\quad&\\longrightarrow\\quad & 2/3 (5 - 2y) + 3z = 5 \\\\\n",
    "    &z + y = 2 \\quad&\\longrightarrow\\quad  & z + y = 2 \\quad&\\longrightarrow\\quad & z + y = 2\\\\\n",
    "\\end{align*}\n",
    "- Исключили $y$ из второго уравнения и подставили в последующие уравнения\n",
    "\n",
    "\\begin{align*}\n",
    "    & x = (5 - 2y) / 3 \\\\\n",
    "    & y = (5 - (5 - 3z)3 / 2) / 2\\\\\n",
    "    & z + (5 - (5 - 3z)3 / 2) / 2 = 2\n",
    "\\end{align*}\n",
    "\n",
    "**Q:** где в этом примере на каждом шаге ведущий элемент, который обязательно должен не быть нулём?"
   ]
  },
  {
   "cell_type": "markdown",
   "metadata": {
    "slideshow": {
     "slide_type": "slide"
    }
   },
   "source": [
    "## Проход назад\n",
    "\n",
    "Во время прохода назад:\n",
    "- решаем уравнение для $x_n$\n",
    "- подставляем решение в уравнение для $x_{n-1}$ и так далее, пока не вычислим все $x_i, i=1,\\ldots, n$."
   ]
  },
  {
   "cell_type": "markdown",
   "metadata": {
    "slideshow": {
     "slide_type": "slide"
    }
   },
   "source": [
    "## Продолжение примера\n",
    "\n",
    "- Находим $z$ из последнего уравнения\n",
    "\n",
    "\\begin{align*}\n",
    "    &x = (5 - 2y) / 3 \\\\\n",
    "    & y = (5 - (5 - 3z)3 / 2) / 2\\\\\n",
    "    & z + (5 - (5 - 3z)3 / 2) / 2 = 2\\quad&\\longrightarrow\\quad  & z = 1 \\\\\n",
    "\\end{align*}\n",
    "\n",
    "- Подставляем $z$ во второе уравнение\n",
    "\n",
    "\\begin{align*}\n",
    "    &x = (5 - 2y) / 3 \\\\\n",
    "    & y = (5 - (5 - 3z)3 / 2) / 2\\quad&\\longrightarrow\\quad  & y = 1\\\\\n",
    "    & z + (5 - (5 - 3z)3 / 2) / 2 = 2\\quad&\\longrightarrow\\quad  & z = 1 \\\\\n",
    "\\end{align*}\n",
    "\n",
    "- Подставляем $y$ в первое уравнение\n",
    "\n",
    "\\begin{align*}\n",
    "    &x = (5 - 2y) / 3 \\quad&\\longrightarrow\\quad  &  x = 1\\\\\n",
    "    & y = (5 - (5 - 3z)3 / 2) / 2\\quad&\\longrightarrow\\quad  & y = 1\\\\\n",
    "    & z + (5 - (5 - 3z)3 / 2) / 2 = 2\\quad&\\longrightarrow\\quad  & z = 1 \\\\\n",
    "\\end{align*}"
   ]
  },
  {
   "cell_type": "code",
   "execution_count": 15,
   "metadata": {
    "slideshow": {
     "slide_type": "slide"
    }
   },
   "outputs": [
    {
     "name": "stdout",
     "output_type": "stream",
     "text": [
      "[[3 2 0]\n",
      " [2 0 3]\n",
      " [0 1 1]]\n",
      "[1. 1. 1.]\n",
      "[ 0.00000000e+00  0.00000000e+00 -2.22044605e-16]\n"
     ]
    }
   ],
   "source": [
    "import numpy as np\n",
    "\n",
    "A = np.array([[3, 2, 0], [2, 0, 3], [0, 1, 1]])\n",
    "print(A)\n",
    "f = np.array([5, 5, 2])\n",
    "x = np.linalg.solve(A, f)\n",
    "print(x)\n",
    "print(A @ x - f)"
   ]
  },
  {
   "cell_type": "markdown",
   "metadata": {
    "slideshow": {
     "slide_type": "slide"
    }
   },
   "source": [
    "## Что: LU разложение\n",
    "\n",
    "Метод Гаусса связан с вычислением одного из самых важных матричных разложений: **LU разложения**.\n",
    "\n",
    "**Определение**: LU разложение матрицы $A$ – это представление\n",
    "\n",
    "$$A =  LU,$$\n",
    "\n",
    "где $L$ – **нижнетреугольная** и $U$ – **верхнетреугольная** матрица.\n",
    "\n",
    "Это разложение **неединственно**, поэтому обычно требуют дополнительно, что на диагонали матрицы $L$ стоят 1."
   ]
  },
  {
   "cell_type": "markdown",
   "metadata": {
    "slideshow": {
     "slide_type": "slide"
    }
   },
   "source": [
    "## Зачем: LU разложение нужно для решения линейных систем\n",
    "\n",
    "- **Основная цель** вычисления LU разложения – это решение системы линейных уравнений, поскольку\n",
    "\n",
    "$$\n",
    "    A^{-1} f = (L U)^{-1} f = U^{-1} L^{-1} f, \n",
    "$$\n",
    "\n",
    "и задача сводится к решению двух линейных систем с верхне- и нижнетреугольными матрицами.\n",
    "\n",
    "- Проход вперёд выражается в виде\n",
    "\n",
    "$$\n",
    "     L y = f, \n",
    "$$\n",
    "\n",
    "аналогично для прохода назад\n",
    "\n",
    "$$\n",
    "   U x = y.\n",
    "$$"
   ]
  },
  {
   "cell_type": "markdown",
   "metadata": {
    "slideshow": {
     "slide_type": "slide"
    }
   },
   "source": [
    "## Пример вычисления\n",
    "\n",
    "- Рассмотрим всё ту же матрицу $A = \\begin{bmatrix} 3 & 2 & 0\\\\ 2 & 0 & 3\\\\ 0 & 1 & 1  \\end{bmatrix}$\n",
    "\n",
    "- Возьмём первый диагональный элемент, поделим первый столбец на него. Получим первый столбец матрицы $L$ и первую строку матрицы $U$:\n",
    "\n",
    "$$ L = \\begin{bmatrix} 1 & 0 & 0 \\\\ 2/3 & 0 & 0 \\\\ 0 & 0 & 0 \\end{bmatrix} \\qquad U = \\begin{bmatrix} 3 & 2 & 0 \\\\ 0 & 0 & 0 \\\\ 0 & 0 & 0 \\end{bmatrix} \\quad LU = \\begin{bmatrix} 3 & 2 & 0 \\\\ 2 & 4/3 & 0 \\\\ 0 & 0 & 0\\end{bmatrix} $$ \n",
    "\n",
    "- Вычтем из матрицы $A$ текущее произведение $LU$, получим $\\begin{bmatrix} 0 & 0 & 0 \\\\ 0 & -4/3 & 3 \\\\ 0 & 1 & 1  \\end{bmatrix}$\n",
    "\n",
    "- Далее возьмём второй диагональный элемент и поделим второй столбюец на него - получим второй столбец и строку для матриц $L$ и $U$\n",
    "\n",
    "$$ L = \\begin{bmatrix} 1 & 0 & 0 \\\\ 2/3 & 1 & 0 \\\\ 0 & -3/4 & 0 \\end{bmatrix} \\qquad U = \\begin{bmatrix} 3 & 2 & 0 \\\\ 0 & -4/3 & 3 \\\\ 0 & 0 & 0 \\end{bmatrix} \\quad LU = \\begin{bmatrix} 3 & 2 & 0 \\\\ 2 & 0 & 3 \\\\ 0 & 1 & -9/4\\end{bmatrix} $$ \n",
    "\n",
    "- $A - LU = \\begin{bmatrix} 0 & 0 & 0 \\\\ 0 & 0 & 0 \\\\ 0 & 0 & 13/4  \\end{bmatrix}$\n",
    "\n",
    "- Итоговый вид треугольных факторов\n",
    "\n",
    "$$ L = \\begin{bmatrix} 1 & 0 & 0 \\\\ 2/3 & 1 & 0 \\\\ 0 & -3/4 & 1 \\end{bmatrix} \\qquad U = \\begin{bmatrix} 3 & 2 & 0 \\\\ 0 & -4/3 & 3 \\\\ 0 & 0 & 13/4 \\end{bmatrix} \\quad LU = \\begin{bmatrix} 3 & 2 & 0 \\\\ 2 & 0 & 3 \\\\ 0 & 1 & 1\\end{bmatrix} $$"
   ]
  },
  {
   "cell_type": "markdown",
   "metadata": {
    "slideshow": {
     "slide_type": "slide"
    }
   },
   "source": [
    "## Существование LU разложения\n",
    "\n",
    "- Алгоритм вычисления LU разложения работает, если **мы не делим на $0$** на каждом шаге метода Гаусса.\n",
    "\n",
    "**Q:** Для какого класса матриц это так?\n",
    "\n",
    "**A:** Это так для **строго регулярных матриц**."
   ]
  },
  {
   "cell_type": "markdown",
   "metadata": {
    "slideshow": {
     "slide_type": "slide"
    }
   },
   "source": [
    "## Сложность метода Гаусса/LU разложения\n",
    "\n",
    "- Каждый шаг исключения занимает $\\mathcal{O}(n^2)$ операций. \n",
    "\n",
    "- Таким образом, сложность алгоритма $\\mathcal{O}(n^3)$.  "
   ]
  },
  {
   "cell_type": "code",
   "execution_count": 11,
   "metadata": {
    "slideshow": {
     "slide_type": "slide"
    }
   },
   "outputs": [
    {
     "name": "stdout",
     "output_type": "stream",
     "text": [
      "7.040950043316808e-15\n"
     ]
    }
   ],
   "source": [
    "import numpy as np\n",
    "\n",
    "n = 5\n",
    "A = np.random.randn(n, n)\n",
    "rhs = np.random.randn(n)\n",
    "x = np.linalg.solve(A, rhs)\n",
    "print(np.linalg.norm(A @ x - rhs))"
   ]
  },
  {
   "cell_type": "markdown",
   "metadata": {
    "slideshow": {
     "slide_type": "slide"
    }
   },
   "source": [
    "## Строго регулярные матрицы и LU разложение\n",
    "\n",
    "**Определение.** Матрица $A$ называется *строго регулярной*, если все подматрицы из первых $k$ строк и $k$ столбцов не вырождены. \n",
    "\n",
    "В этом случае LU разложение всегда существует. Обратное также верно."
   ]
  },
  {
   "cell_type": "markdown",
   "metadata": {
    "slideshow": {
     "slide_type": "slide"
    }
   },
   "source": [
    "## Когда алгоритм вычисления LU разложения не работает\n",
    "\n",
    "- Что случится, если матрица не является строго регулярной (или ведущий элемент в методе Гаусса очень мал)?   \n",
    "\n",
    "- Классический пример матрицы $2 \\times 2$ с \"плохим\" LU разложением:\n",
    "\n",
    "$$\n",
    "    A = \\begin{pmatrix}\n",
    "    \\varepsilon & 1 \\\\\n",
    "    1 & 1 \n",
    "    \\end{pmatrix}\n",
    "$$\n",
    "\n",
    "- Если $\\varepsilon$ достаточно мал, мы можем столкнуться с неустойчивостью.\n",
    "\n",
    "Проверим это численно..."
   ]
  },
  {
   "cell_type": "code",
   "execution_count": 17,
   "metadata": {
    "slideshow": {
     "slide_type": "slide"
    }
   },
   "outputs": [
    {
     "name": "stdout",
     "output_type": "stream",
     "text": [
      "L * U - A:\n",
      " [[ 0.  0.]\n",
      " [ 0. -1.]]\n"
     ]
    },
    {
     "data": {
      "text/plain": [
       "(array([[1.e+00, 0.e+00],\n",
       "        [1.e+16, 1.e+00]]),\n",
       " array([[ 1.e-16,  1.e+00],\n",
       "        [ 0.e+00, -1.e+16]]))"
      ]
     },
     "execution_count": 17,
     "metadata": {},
     "output_type": "execute_result"
    }
   ],
   "source": [
    "import numpy as np\n",
    "eps = 1e-16\n",
    "a = np.array([[eps, 1],[1.0,  1]])\n",
    "a0 = a.copy()\n",
    "n = a.shape[0]\n",
    "L = np.zeros((n, n))\n",
    "U = np.zeros((n, n))\n",
    "for k in range(n): #Eliminate one row   \n",
    "    L[k, k] = 1\n",
    "    for i in range(k+1, n):\n",
    "        L[i, k] = a[i, k] / a[k, k]\n",
    "        for j in range(k+1, n):\n",
    "            a[i, j] = a[i, j] - L[i, k] * a[k, j]\n",
    "    for j in range(k, n):\n",
    "        U[k, j] = a[k, j]\n",
    "\n",
    "print('L * U - A:\\n', np.dot(L, U) - a0)\n",
    "L, U"
   ]
  },
  {
   "cell_type": "markdown",
   "metadata": {
    "slideshow": {
     "slide_type": "slide"
    }
   },
   "source": [
    "## Ещё один класс матриц - симметричные положительно определённые матрицы\n",
    "\n",
    "- **Определение.** Симметричная матрица $A$ называется <span style='color:red'> положительно определённой </span>, если для любого $x: \\Vert x \\Vert \\ne 0$ выполнено\n",
    "\n",
    "$$\n",
    "(x, Ax) = x^\\top Ax > 0.\n",
    "$$\n",
    "\n",
    "- **Утверждение.** У симметричных положительно-определённых матриц все подматрицы из первых $k$ строк и $k$ столбцов не вырождены.\n",
    "\n",
    "- Значит у таких матриц всегда существует LU разложение"
   ]
  },
  {
   "cell_type": "markdown",
   "metadata": {
    "slideshow": {
     "slide_type": "slide"
    }
   },
   "source": [
    "## Пример\n",
    "\n",
    "- Матрица $A = \\begin{bmatrix} 10 & 0 \\\\ 0 & 1 \\end{bmatrix}$ симметричная и положительно определённая так как $x^{\\top}Ax = 10x_1^2 + x^2_2 > 0$ для любого вектора $x$\n",
    "\n",
    "- Матрица $A = \\begin{bmatrix} 10 & 0 \\\\ 0 & -1 \\end{bmatrix}$ симметричная, но не яваляется положительно определённой так как $x^{\\top}Ax = 10x_1^2 - x^2_2$ и можно найти вектор для которого $x^{\\top}Ax < 0$ например $x = (0, 1)$"
   ]
  },
  {
   "cell_type": "markdown",
   "metadata": {
    "slideshow": {
     "slide_type": "slide"
    }
   },
   "source": [
    "## Разложение Холецкого – LU разложение для симметричных положительно определённых матриц\n",
    "\n",
    "**Утверждение:** для симметричной положительно определённой матрицы $A$ справделиво следующее разложение имеет разложение Холецкого вида\n",
    "\n",
    "$$A = RR^\\top,$$\n",
    "\n",
    "где $R$ нижнетреугольная матрица. Оно называется разложением Холецкого, всегда существует и вычисляется устойчиво.\n",
    "\n",
    "Часто матрица $R$ называется \"квадратным корнем\" матрицы $A$. "
   ]
  },
  {
   "cell_type": "code",
   "execution_count": 2,
   "metadata": {
    "slideshow": {
     "slide_type": "slide"
    }
   },
   "outputs": [
    {
     "name": "stdout",
     "output_type": "stream",
     "text": [
      "[[ 3.7848241   0.          0.          0.          0.        ]\n",
      " [-1.74893557  2.99984631  0.          0.          0.        ]\n",
      " [-0.1320517   1.39416365  1.32075826  0.          0.        ]\n",
      " [ 0.76423297 -1.04321792  2.34332337  1.20176368  0.        ]\n",
      " [-0.78567496 -0.67761953 -0.13224449 -0.60664557  0.67094997]]\n",
      "3.0697214909333174e-15\n"
     ]
    }
   ],
   "source": [
    "import numpy as np\n",
    "\n",
    "n = 5\n",
    "A = np.random.randn(n, n)\n",
    "A = A.T @ A\n",
    "L = np.linalg.cholesky(A)\n",
    "print(L)\n",
    "print(np.linalg.norm(L @ L.T - A))"
   ]
  },
  {
   "cell_type": "markdown",
   "metadata": {
    "slideshow": {
     "slide_type": "slide"
    }
   },
   "source": [
    "## Вычисление LU разложения\n",
    "\n",
    "- Во многих случаях достаточно один раз вычислить LU разложение!\n",
    "\n",
    "- Если такое разложение найдено (что требует $\\mathcal{O}(n^3)$ операций), тогда решение линейной системы сводится к решению линейных систем с матрицами $L$ и $U$, которые требуют $\\mathcal{O}(n^2)$ операций.\n",
    "\n",
    "**Упражнение:** Почему решение треугольной системы требует $\\mathcal{O}(n^2)$ операций?"
   ]
  },
  {
   "cell_type": "markdown",
   "metadata": {
    "slideshow": {
     "slide_type": "slide"
    }
   },
   "source": [
    "## Выбор ведущего элемента (pivoting)\n",
    "\n",
    "- Мы можем переставить строки и столбцы матрицы $A$ так, чтобы элемент $A_{kk}$, на который мы делим, был максимальным.  \n",
    "\n",
    "- Простейшая, но эффективная стратегия – это выбор максимального элемента в строке: на каждом шаге выбираем элемент, который максимален по модулю и перемещаем его на диагональ.\n",
    "\n",
    "- Это даёт следующее разложение \n",
    "\n",
    "$$A = P L U,$$\n",
    "\n",
    "где $P$ – это **матрица перестановки**.\n",
    "\n",
    "- Почему это хорошая стратегия?"
   ]
  },
  {
   "cell_type": "code",
   "execution_count": 10,
   "metadata": {
    "slideshow": {
     "slide_type": "slide"
    }
   },
   "outputs": [
    {
     "name": "stdout",
     "output_type": "stream",
     "text": [
      "[[0. 1. 0. 0. 0.]\n",
      " [0. 0. 0. 1. 0.]\n",
      " [0. 0. 1. 0. 0.]\n",
      " [1. 0. 0. 0. 0.]\n",
      " [0. 0. 0. 0. 1.]]\n",
      "[[ 1.          0.          0.          0.          0.        ]\n",
      " [ 0.483176    1.          0.          0.          0.        ]\n",
      " [-0.04715401 -0.37180963  1.          0.          0.        ]\n",
      " [ 0.86750141  0.09228915  0.41543609  1.          0.        ]\n",
      " [ 0.41535394 -0.37889264  0.85953625  0.77967807  1.        ]] \n",
      " [[-2.03759842 -0.44789767 -0.34296607  1.10087447  0.57597927]\n",
      " [ 0.          0.76764421  2.56366995  1.22377302 -1.23772115]\n",
      " [ 0.          0.          1.64510102  0.6599175   0.22532871]\n",
      " [ 0.          0.          0.         -2.2847565  -0.55120314]\n",
      " [ 0.          0.          0.          0.          0.73990973]]\n",
      "6.894341957538586e-16\n"
     ]
    }
   ],
   "source": [
    "import scipy.linalg as splin\n",
    "\n",
    "n = 5\n",
    "A = np.random.randn(n, n)\n",
    "# A = np.array([[1e-16, 1], [1, 1]])\n",
    "P, L, U = splin.lu(A)\n",
    "print(P) \n",
    "print(L, \"\\n\", U)\n",
    "print(np.linalg.norm(A - P @ L @ U))"
   ]
  },
  {
   "cell_type": "markdown",
   "metadata": {
    "slideshow": {
     "slide_type": "slide"
    }
   },
   "source": [
    "## Устойчивость решения линейных систем\n",
    "\n",
    "- Существует фундаментальная проблема с решением систем линейных уравнений, которая не зависит от используемого алгоритма.\n",
    "\n",
    "- Она проявляется, когда элементы матрицы представляются как числа с плавающей точкой или имеется некоторый шум в измерениях.\n",
    "\n",
    "Проиллюстрируем эту проблему на следующем примере:\n",
    "\n",
    "- матрица $A = [a_{ij}]$ такая что $a_{ij} = \\frac{1}{i+j+1}$ называется матрицей Гильберта ([Давид Гильберт](https://ru.wikipedia.org/wiki/%D0%93%D0%B8%D0%BB%D1%8C%D0%B1%D0%B5%D1%80%D1%82,_%D0%94%D0%B0%D0%B2%D0%B8%D0%B4), немецкий математик)\n",
    "- правая часть $f$ - случайный вектор"
   ]
  },
  {
   "cell_type": "code",
   "execution_count": 14,
   "metadata": {
    "slideshow": {
     "slide_type": "slide"
    }
   },
   "outputs": [
    {
     "name": "stdout",
     "output_type": "stream",
     "text": [
      "[[1.         0.5        0.33333333 0.25       0.2        0.16666667\n",
      "  0.14285714 0.125     ]\n",
      " [0.5        0.33333333 0.25       0.2        0.16666667 0.14285714\n",
      "  0.125      0.11111111]\n",
      " [0.33333333 0.25       0.2        0.16666667 0.14285714 0.125\n",
      "  0.11111111 0.1       ]\n",
      " [0.25       0.2        0.16666667 0.14285714 0.125      0.11111111\n",
      "  0.1        0.09090909]\n",
      " [0.2        0.16666667 0.14285714 0.125      0.11111111 0.1\n",
      "  0.09090909 0.08333333]\n",
      " [0.16666667 0.14285714 0.125      0.11111111 0.1        0.09090909\n",
      "  0.08333333 0.07692308]\n",
      " [0.14285714 0.125      0.11111111 0.1        0.09090909 0.08333333\n",
      "  0.07692308 0.07142857]\n",
      " [0.125      0.11111111 0.1        0.09090909 0.08333333 0.07692308\n",
      "  0.07142857 0.06666667]]\n",
      "1.0008893982012041e-08\n"
     ]
    },
    {
     "data": {
      "image/png": "[encoded data removed]",
      "text/plain": [
       "<Figure size 432x288 with 1 Axes>"
      ]
     },
     "metadata": {
      "needs_background": "light"
     },
     "output_type": "display_data"
    }
   ],
   "source": [
    "import numpy as np\n",
    "import matplotlib.pyplot as plt\n",
    "%matplotlib inline\n",
    "n = 8\n",
    "a = [[1.0/(i + j + 1) for i in range(n)] for j in range(n)]\n",
    "a = np.array(a)\n",
    "print(a)\n",
    "rhs = np.random.randn(n) #Right-hand side\n",
    "x = np.linalg.solve(a, rhs) #This function computes LU-factorization and solves linear system\n",
    "\n",
    "#And check if everything is fine\n",
    "er = np.linalg.norm(a.dot(x) - rhs) / np.linalg.norm(rhs)\n",
    "print(er)\n",
    "plt.plot(x)\n",
    "plt.grid(True)\n",
    "plt.xticks(fontsize=22)\n",
    "_ = plt.yticks(fontsize=22)"
   ]
  },
  {
   "cell_type": "markdown",
   "metadata": {
    "slideshow": {
     "slide_type": "slide"
    }
   },
   "source": [
    "## Вопросы\n",
    "\n",
    "- В чём проблема в предыдущем примере? \n",
    "\n",
    "- Почему ошибка растёт так быстро?  \n",
    "\n",
    "- В процессе ответа на эти вопросы мы приходим к одному из главных понятий вычислительной линейной алгебры: числу обусловленности матрицы.  "
   ]
  },
  {
   "cell_type": "markdown",
   "metadata": {
    "slideshow": {
     "slide_type": "slide"
    }
   },
   "source": [
    "## Число обусловленности линейной системы\n",
    "\n",
    "Рассмотрим **возмущённую** линейную систему:\n",
    "\n",
    "$$\n",
    "   (A + \\Delta A) \\widehat{x} = f + \\Delta f.\n",
    "$$\n",
    "\n",
    "- Далее $x$ - решение системы $Ax = f$\n",
    "- И $\\widehat{x}$ - решение возмущённой системы\n",
    "\n",
    "- **Основной вопрос** - как изменится решение возмущённой системы по сравнению с решением исходной системы?"
   ]
  },
  {
   "cell_type": "markdown",
   "metadata": {
    "slideshow": {
     "slide_type": "slide"
    }
   },
   "source": [
    "## Итоговая оценка\n",
    "\n",
    "$$ \n",
    "\\begin{split}\n",
    "\\frac{\\Vert \\widehat{x} - x \\Vert}{\\Vert x \\Vert} \\leq\n",
    "&\\frac{\\Vert A \\Vert \\Vert A^{-1} \\Vert}{1 - \\|A^{-1}\\Delta A\\|} \\Big(\\frac{\\Vert\\Delta A\\Vert}{\\Vert A \\Vert} + \\frac{\\Vert \\Delta f \\Vert}{ \\Vert f \\Vert}\\Big) \\leq \\\\\n",
    "\\leq\n",
    "&\\frac{\\Vert A \\Vert \\Vert A^{-1} \\Vert}{1 - \\|A\\|\\|A^{-1}\\|\\frac{\\|\\Delta A\\|}{\\|A\\|}} \\Big(\\frac{\\Vert\\Delta A\\Vert}{\\Vert A \\Vert} + \\frac{\\Vert \\Delta f \\Vert}{ \\Vert f \\Vert}\\Big) \\equiv \\\\\n",
    "\\equiv &\\frac{\\mathrm{cond}(A)}{1 - \\mathrm{cond}(A)\\frac{\\|\\Delta A\\|}{\\|A\\|}} \\Big(\\frac{\\Vert\\Delta A\\Vert}{\\Vert A \\Vert} + \\frac{\\Vert \\Delta f \\Vert}{ \\Vert f \\Vert}\\Big)\n",
    "\\end{split}\n",
    "$$\n",
    "\n",
    "Главную роль играет **число обусловленности** матрицы $A$: $\\mathrm{cond}(A) = \\Vert A \\Vert \\Vert A^{-1} \\Vert$.\n",
    "\n",
    "- **Вопрос**: какое минимально возможное число обусловленности? (Вспомните свойство субмультипликативности норм!)"
   ]
  },
  {
   "cell_type": "markdown",
   "metadata": {
    "slideshow": {
     "slide_type": "slide"
    }
   },
   "source": [
    "## Число обусловленности\n",
    "\n",
    "- Чем больше число обусловленности, тем меньше цифр в записи числа мы можем правильно восстановить. \n",
    "- Число обусловленности разное для разных норм.\n",
    "- Для спектральной нормы выполнено (проверьте!) $\\mathrm{cond}_2 (A) = \\|A\\|_2 \\|A^{-1}\\|_2 = \\frac{\\sigma_{\\max}(A)}{\\sigma_{\\min}(A)}$\n",
    "- Заметим, что если $\\Delta A = 0$, тогда\n",
    "\n",
    "$$\n",
    "\\frac{\\Vert \\widehat{x} - x \\Vert}{\\Vert x \\Vert} \\leq \\mathrm{cond}(A) \\frac{\\|\\Delta f\\|}{\\|f\\|}\n",
    "$$"
   ]
  },
  {
   "cell_type": "markdown",
   "metadata": {
    "slideshow": {
     "slide_type": "slide"
    }
   },
   "source": [
    "## И снова матрица Гильберта \n",
    "\n",
    "- Проверим насколько оценка точная в обоих случаях: единичная правая часть и случайная правая часть\n",
    "- Результаты существенно отличаются!"
   ]
  },
  {
   "cell_type": "code",
   "execution_count": 16,
   "metadata": {
    "slideshow": {
     "slide_type": "slide"
    }
   },
   "outputs": [
    {
     "name": "stdout",
     "output_type": "stream",
     "text": [
      "Error: 2.217472233227586e-06 Condition number: 4.492167979846466e+20\n"
     ]
    }
   ],
   "source": [
    "import numpy as np\n",
    "import matplotlib.pyplot as plt\n",
    "%matplotlib inline\n",
    "\n",
    "\n",
    "n = 1000\n",
    "a = [[1.0/(i + j + 1) for i in range(n)] for j in range(n)]\n",
    "a = np.array(a)\n",
    "rhs = np.ones(n) #Right-hand side\n",
    "f = np.linalg.solve(a, rhs)\n",
    "\n",
    "#And check if everything is fine\n",
    "er = np.linalg.norm(a.dot(f) - rhs) / np.linalg.norm(rhs)\n",
    "cn = np.linalg.cond(a, 2)\n",
    "print('Error:', er, 'Condition number:', cn)"
   ]
  },
  {
   "cell_type": "code",
   "execution_count": 20,
   "metadata": {
    "slideshow": {
     "slide_type": "slide"
    }
   },
   "outputs": [
    {
     "name": "stdout",
     "output_type": "stream",
     "text": [
      "Error: 19.832027222143697 Condition number: 4.073996146476839e+19\n"
     ]
    },
    {
     "data": {
      "image/png": "[encoded data removed]",
      "text/plain": [
       "<Figure size 432x288 with 1 Axes>"
      ]
     },
     "metadata": {
      "needs_background": "light"
     },
     "output_type": "display_data"
    }
   ],
   "source": [
    "import numpy as np\n",
    "import matplotlib.pyplot as plt\n",
    "%matplotlib inline\n",
    "\n",
    "n = 100\n",
    "a = [[1.0/(i + j + 1) for i in range(n)] for j in range(n)]\n",
    "a = np.array(a)\n",
    "rhs = np.random.randn(n) #Right-hand side\n",
    "f = np.linalg.solve(a, rhs)\n",
    "\n",
    "#And check if everything is fine\n",
    "er = np.linalg.norm(a.dot(f) - rhs) / np.linalg.norm(rhs)\n",
    "cn = np.linalg.cond(a)\n",
    "print('Error:', er, 'Condition number:', cn)\n",
    "\n",
    "u, s, v = np.linalg.svd(a)\n",
    "rhs = np.random.randn(n)\n",
    "plt.plot(u.T.dot(rhs))\n",
    "plt.xticks(fontsize=22)\n",
    "plt.yticks(fontsize=22)\n",
    "plt.grid(True)"
   ]
  },
  {
   "cell_type": "markdown",
   "metadata": {
    "slideshow": {
     "slide_type": "slide"
    }
   },
   "source": [
    "### Как это объяснить?"
   ]
  },
  {
   "cell_type": "markdown",
   "metadata": {
    "slideshow": {
     "slide_type": "slide"
    }
   },
   "source": [
    "## Промежуточные выводы\n",
    "\n",
    "- Решение линейных систем - одна из основных задач вычислительной линейной алгебры\n",
    "- Обратная матрица и метод Гаусса\n",
    "- LU разложение - существование, единственность и устойчивость\n",
    "- Симметричные положительно определённые матрицы и разложение Холецкого\n",
    "- Число обусловленности"
   ]
  },
  {
   "cell_type": "markdown",
   "metadata": {
    "slideshow": {
     "slide_type": "slide"
    }
   },
   "source": [
    "## Какие ещё бывают системы линейных уравнений?\n",
    "\n",
    "- Мы подробно рассмотрели случай квадратной матрицы\n",
    "- Однако часто встречаются задачи, в которых матрица является **прямоугольной**"
   ]
  },
  {
   "cell_type": "markdown",
   "metadata": {
    "slideshow": {
     "slide_type": "slide"
    }
   },
   "source": [
    "## Пере- и недоопределённые линейные системы\n",
    "\n",
    "Если система $Au = f$ имеет\n",
    "- больше уравнений, чем неизвестных, она называется **переопределённой** (в общем случае не имеет решений)\n",
    "\n",
    "- меньше уравнений, чем неизвестных, она называется **недоопределённой** (решение неединственно, нужны дополнительные предположения, чтобы гарантировать единственность решения)"
   ]
  },
  {
   "cell_type": "markdown",
   "metadata": {
    "slideshow": {
     "slide_type": "slide"
    }
   },
   "source": [
    "## Переопределённые линейные системы\n",
    "\n",
    "- Рассмотрим переопределённые линейные системы, в которых число уравнений больше, чем число неизвестных.\n",
    "- Простейший пример: аппроксимация точек на плоскости с помощью линейной модели\n",
    "\n",
    "Стандартный способ минимизации невязки (**линейная задача наименьших квадратов**)\n",
    "\n",
    "$$\\Vert A x - b \\Vert_2 \\rightarrow \\min$$"
   ]
  },
  {
   "cell_type": "markdown",
   "metadata": {
    "slideshow": {
     "slide_type": "slide"
    }
   },
   "source": [
    "## Переопределённая система и матрица Грама\n",
    "\n",
    "Условие оптимальности $0\\equiv \\nabla \\left(\\|Ax-b\\|_2^2\\right)$, где $\\nabla$ обозначает градиент. Поэтому,\n",
    "\n",
    "$$\n",
    "0 \\equiv \\nabla \\left(\\|Ax-b\\|_2^2\\right) = 2(A^*A x - A^*b) = 0.\n",
    "$$\n",
    "\n",
    "Таким образом,\n",
    "\n",
    "$$\n",
    "A^* A x = A^* b\n",
    "$$\n",
    "\n",
    "Матрица $A^* A$ называется **матрицей Грама**, а система называется **нормальным уравнением**. \n",
    "\n",
    "- Число обусловленности матрицы $A^* A$ равно квадрату числа обусловленности матрицы $A$\n",
    "- Поэтому решать нормальное уравнение в таком виде – не самая хорошая идея!"
   ]
  },
  {
   "cell_type": "markdown",
   "metadata": {
    "slideshow": {
     "slide_type": "slide"
    }
   },
   "source": [
    "## Псевдообратная матрица\n",
    "\n",
    "Матрица $A^* A$ может быть вырождена в общем случае (почему?).\n",
    "Поэтому необходимо ввести понятие псевдообратной матрицы  $A^{\\dagger}$ такой что <br>\n",
    "решение линейной задачи наименьших квадратов можно было записать в виде\n",
    "\n",
    "$$x = A^{\\dagger} b.$$\n",
    "\n",
    "Матрица \n",
    "\n",
    "$$\n",
    "A^{\\dagger} = \\lim_{\\alpha \\rightarrow 0}(\\alpha I + A^* A)^{-1} A^*\n",
    "$$ \n",
    "\n",
    "называется псевдообратной матрицей Мура-Пенроуза для матрицы $A$.\n",
    "\n",
    "* Если матрица $A$ имеет полный ранг, тогда $A^* A$ невырождена, и мы получим $A^{\\dagger} = \\lim_{\\alpha \\rightarrow 0}(\\alpha I + A^* A)^{-1} A^* = (A^* A)^{-1} A^*$.\n",
    "\n",
    "* Если матрица $A$ квадратная и невырожденная, мы получим $A^{\\dagger} = \\lim_{\\alpha \\rightarrow 0}(\\alpha I + A^* A)^{-1} A^* = (A^* A)^{-1} A^* = A^{-1} A^{-*} A^* = A^{-1}$ – обычная обратная матрица для $A$\n",
    "\n",
    "* Если $A$ имеет линейно зависимые столбцы, тогда $A^\\dagger b$ даёт решение минимальной евклидовой нормы. "
   ]
  },
  {
   "cell_type": "markdown",
   "metadata": {
    "slideshow": {
     "slide_type": "slide"
    }
   },
   "source": [
    "## Вычисление псевдообратной матрицы с помощью SVD\n",
    "\n",
    "Пусть $A = U \\Sigma V^*$ SVD для матрицы $A$. Тогда,\n",
    "\n",
    "$$A^{\\dagger} = V \\Sigma^{\\dagger} U^*,$$\n",
    "\n",
    "где $\\Sigma^{\\dagger}$ состоит из обращённых ненулевых сингулярных чисел матрицы $A$. Действительно,\n",
    "\n",
    "$$A^{\\dagger} = \\lim_{\\alpha \\rightarrow 0}(\\alpha I + A^* A)^{-1} A^* = \\lim_{\\alpha \\rightarrow 0}( \\alpha VV^* + V \\Sigma^2 V^*)^{-1} V \\Sigma U^* = \\lim_{\\alpha \\rightarrow 0}( V(\\alpha I + \\Sigma^2) V^*)^{-1} V \\Sigma U^* = V \\lim_{\\alpha \\rightarrow 0}(\\alpha I + \\Sigma^2)^{-1} \\Sigma U^* = V \\Sigma^{\\dagger} U^*,$$\n",
    "\n",
    "* Вы можете проверить, что $\\Sigma^{\\dagger}$ состоит из обращённых ненулевых сингулярных чисел <br>\n",
    "* Если сингулярные числа малы, их можно не обращать. Это даст решение менее чувствительное к шуму в правой части\n",
    "\n",
    "**Q:** что произошло с числом обусловленности?"
   ]
  },
  {
   "cell_type": "markdown",
   "metadata": {
    "slideshow": {
     "slide_type": "slide"
    }
   },
   "source": [
    "## Стандартный способ решения линейной задачи наименьших квадратов\n",
    "\n",
    "- Использование $QR$ разложения\n",
    "\n",
    "- Любая матрица может быть представлена в виде \n",
    "\n",
    "$$\n",
    "A = Q R,\n",
    "$$\n",
    "\n",
    "где $Q$ – унитарная матрица, и $R$ – верхнетреугольная.\n",
    "\n",
    "- Тогда, если $A$ имеет полный ранг, тогда\n",
    "\n",
    "$$\n",
    "x = A^{\\dagger}b = (A^*A)^{-1}A^*b = ((QR)^*(QR))^{-1}(QR)^*b = (R^*Q^*QR)^{-1}R^*Q^*b = R^{-1}Q^*b. \n",
    "$$ \n",
    "\n",
    "- Таким образом, задача поиска оптимального $x$ эквивалентна решению следующей квадратной системы \n",
    "\n",
    "$$\n",
    "Rx = Q^* b.\n",
    "$$\n",
    "\n",
    "- Так как $R$ верхнетреугольная, решение этой системы требует $\\mathcal{O}(n^2)$ операций. Также этот способ более устойчив, чем использование псевдообратной матрицы напрямую."
   ]
  },
  {
   "cell_type": "markdown",
   "metadata": {
    "slideshow": {
     "slide_type": "slide"
    }
   },
   "source": [
    "## Пример линейной задачи наименьших квадратов\n",
    "\n",
    "Рассмотрим двумерный пример. Пусть дана линейная модель \n",
    "\n",
    "$$y = ax + b$$\n",
    "\n",
    "и зашумлённые данные $(x_1, y_1), \\dots (x_n, y_n)$. Тогда линейная система на коэффициенты будет выглядеть как \n",
    "\n",
    "$$\n",
    "\\begin{split}\n",
    "a x_1 &+ b &= y_1 \\\\\n",
    "&\\vdots \\\\\n",
    "a x_n &+ b &= y_n \\\\\n",
    "\\end{split}\n",
    "$$\n",
    "или в матричном виде\n",
    "$$\n",
    "\\begin{pmatrix}\n",
    "x_1 & 1 \\\\\n",
    "\\vdots & \\vdots \\\\\n",
    "x_n & 1 \\\\\n",
    "\\end{pmatrix}\n",
    "\\begin{pmatrix}\n",
    "a \\\\\n",
    "b\n",
    "\\end{pmatrix} =\n",
    "\\begin{pmatrix}\n",
    "y_1 \\\\\n",
    "\\vdots  \\\\\n",
    "y_n \\\\\n",
    "\\end{pmatrix},\n",
    "$$\n",
    "что является переопределённой системой"
   ]
  },
  {
   "cell_type": "code",
   "execution_count": 18,
   "metadata": {
    "slideshow": {
     "slide_type": "slide"
    }
   },
   "outputs": [
    {
     "data": {
      "text/plain": [
       "<matplotlib.legend.Legend at 0x123548668>"
      ]
     },
     "execution_count": 18,
     "metadata": {},
     "output_type": "execute_result"
    },
    {
     "data": {
      "image/png": "[encoded data removed]",
      "text/plain": [
       "<Figure size 432x288 with 1 Axes>"
      ]
     },
     "metadata": {
      "needs_background": "light"
     },
     "output_type": "display_data"
    }
   ],
   "source": [
    "%matplotlib inline\n",
    "import numpy as np\n",
    "import matplotlib.pyplot as plt\n",
    "\n",
    "a_exact = 1.\n",
    "b_exact = 2.\n",
    "\n",
    "n = 10\n",
    "xi = np.arange(n)\n",
    "yi = a_exact * xi + b_exact + 2*np.random.random(n)\n",
    "\n",
    "A = np.array([xi, np.ones(n)])\n",
    "coef = np.linalg.pinv(A).T.dot(yi) # coef is [a, b]\n",
    "\n",
    "plt.plot(xi, yi, 'o', label='$(x_i, y_i)$')\n",
    "plt.plot(xi, coef[0]*xi + coef[1], label='Least Squares')\n",
    "plt.legend(loc='best')"
   ]
  },
  {
   "cell_type": "markdown",
   "metadata": {
    "slideshow": {
     "slide_type": "slide"
    }
   },
   "source": [
    "## Главное в этой лекции\n",
    "\n",
    "- Линейные системы можно решать методом Гаусса, сложность – $\\mathcal{O}(n^3)$.\n",
    "- Линейные системы можно решать с помощью LU разложения, сложность – $\\mathcal{O}(n^3)$ для разложения, и  $\\mathcal{O}(n^2)$ для каждой правой части\n",
    "- Линейная задача наименьших квадратов может быть решена с помощью решения нормального уравнения (плохая идея!)\n",
    "- Линейная задача наименьших квадратов может быть решена с помощью QR разложения (стандартный подход)"
   ]
  }
 ],
 "metadata": {
  "celltoolbar": "Slideshow",
  "kernelspec": {
   "display_name": "Python 3",
   "language": "python",
   "name": "python3"
  },
  "language_info": {
   "codemirror_mode": {
    "name": "ipython",
    "version": 3
   },
   "file_extension": ".py",
   "mimetype": "text/x-python",
   "name": "python",
   "nbconvert_exporter": "python",
   "pygments_lexer": "ipython3",
   "version": "3.7.7"
  }
 },
 "nbformat": 4,
 "nbformat_minor": 4
}
