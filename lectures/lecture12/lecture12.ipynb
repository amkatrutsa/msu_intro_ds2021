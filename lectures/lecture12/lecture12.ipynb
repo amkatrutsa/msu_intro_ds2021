{
 "cells": [
  {
   "cell_type": "markdown",
   "id": "dcd87bd2",
   "metadata": {
    "slideshow": {
     "slide_type": "slide"
    }
   },
   "source": [
    "# Квазиньютоновские методы"
   ]
  },
  {
   "cell_type": "markdown",
   "id": "f446cc48",
   "metadata": {
    "slideshow": {
     "slide_type": "slide"
    }
   },
   "source": [
    "## На прошлой лекции"
   ]
  },
  {
   "cell_type": "markdown",
   "id": "47088f16",
   "metadata": {
    "slideshow": {
     "slide_type": "slide"
    }
   },
   "source": [
    "## План на сегодня"
   ]
  },
  {
   "cell_type": "markdown",
   "id": "24720ca4",
   "metadata": {
    "slideshow": {
     "slide_type": "slide"
    }
   },
   "source": [
    "## Метод Ньютона и градиентный спуск"
   ]
  },
  {
   "cell_type": "markdown",
   "id": "be1ec962",
   "metadata": {
    "slideshow": {
     "slide_type": "slide"
    }
   },
   "source": [
    "## Недостатки метода Ньютона: напоминание"
   ]
  },
  {
   "cell_type": "markdown",
   "id": "a2d46eca",
   "metadata": {
    "slideshow": {
     "slide_type": "slide"
    }
   },
   "source": [
    "## Как аппроксимировать гессиан и его обращение?"
   ]
  },
  {
   "cell_type": "markdown",
   "id": "fce574a0",
   "metadata": {
    "slideshow": {
     "slide_type": "slide"
    }
   },
   "source": [
    "## Сложность вычисления"
   ]
  },
  {
   "cell_type": "markdown",
   "id": "02bcf0ee",
   "metadata": {
    "slideshow": {
     "slide_type": "slide"
    }
   },
   "source": [
    "## Метод BFGS"
   ]
  },
  {
   "cell_type": "markdown",
   "id": "3ea2cbf7",
   "metadata": {
    "slideshow": {
     "slide_type": "slide"
    }
   },
   "source": [
    "## Идея снижения потребления памяти"
   ]
  },
  {
   "cell_type": "markdown",
   "id": "f5655ffd",
   "metadata": {
    "slideshow": {
     "slide_type": "slide"
    }
   },
   "source": [
    "## Метод LBFGS"
   ]
  },
  {
   "cell_type": "markdown",
   "id": "43b68b1a",
   "metadata": {
    "slideshow": {
     "slide_type": "slide"
    }
   },
   "source": [
    "## Умножение гессиана на вектор"
   ]
  },
  {
   "cell_type": "markdown",
   "id": "a0bbe476",
   "metadata": {
    "slideshow": {
     "slide_type": "slide"
    }
   },
   "source": [
    "## Сходимость"
   ]
  },
  {
   "cell_type": "markdown",
   "id": "2cd74f28",
   "metadata": {
    "slideshow": {
     "slide_type": "slide"
    }
   },
   "source": [
    "## Пример"
   ]
  },
  {
   "cell_type": "markdown",
   "id": "190fd981",
   "metadata": {
    "slideshow": {
     "slide_type": "slide"
    }
   },
   "source": [
    "## Выводы\n",
    "\n",
    "- Приближение гессиана и аналитическое вычисление обратной матрицы снижает сложность одной итерации\n",
    "- Неявное хранение матрицы и ограниченное использование истории повышвет скорость сходимости\n",
    "- Обобщения с использованием стохастической оценки градиента не дают "
   ]
  }
 ],
 "metadata": {
  "celltoolbar": "Slideshow",
  "kernelspec": {
   "display_name": "Python 3 (ipykernel)",
   "language": "python",
   "name": "python3"
  },
  "language_info": {
   "codemirror_mode": {
    "name": "ipython",
    "version": 3
   },
   "file_extension": ".py",
   "mimetype": "text/x-python",
   "name": "python",
   "nbconvert_exporter": "python",
   "pygments_lexer": "ipython3",
   "version": "3.8.12"
  }
 },
 "nbformat": 4,
 "nbformat_minor": 5
}
