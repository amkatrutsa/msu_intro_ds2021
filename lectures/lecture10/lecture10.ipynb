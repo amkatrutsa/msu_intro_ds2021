{
 "cells": [
  {
   "cell_type": "markdown",
   "metadata": {
    "slideshow": {
     "slide_type": "slide"
    }
   },
   "source": [
    "# Быстрый градиентный метод и метод Ньютона"
   ]
  },
  {
   "cell_type": "markdown",
   "metadata": {
    "slideshow": {
     "slide_type": "slide"
    }
   },
   "source": [
    "## На прошлой лекции\n",
    "\n",
    "- Свойства градиентного спуска\n",
    "- Скорость сходимости\n",
    "- Число обусловленности\n",
    "- Метод тяжёлого шарика\n",
    "- Сравнение методов"
   ]
  },
  {
   "cell_type": "markdown",
   "metadata": {
    "slideshow": {
     "slide_type": "slide"
    }
   },
   "source": [
    "## План на сегодня\n",
    "\n",
    "- Быстрый градиентный метод\n",
    "- Сходимость и сравнение с другими градиеннтными методами\n",
    "- Метод Ньютона\n",
    "- Скорость сходимости и сложность одной итерации"
   ]
  },
  {
   "cell_type": "markdown",
   "metadata": {
    "slideshow": {
     "slide_type": "slide"
    }
   },
   "source": [
    "## Основные градиентные методы\n",
    "\n",
    "- Градиентный спуск\n",
    "\n",
    "$$ x_{k+1} = x_k - \\alpha_k f'(x_k) $$\n",
    "\n",
    "- Метод тяжёлого шарика\n",
    "\n",
    "$$ x_{k+1} = x_k - \\alpha_k f'(x_k) + \\beta_k(x_k - x_{k-1}) $$\n",
    "\n",
    "- Быстрый градиентный метод (Ю. Нестеров, 1983)\n",
    "\n",
    "\\begin{equation*}\n",
    "\\begin{split}\n",
    "& y_0 = x_0 \\\\\n",
    "& x_{k+1} = y_k - \\alpha_k f'(y_k)\\\\\n",
    "& y_{k+1} = x_{k+1} +  \\beta_k(x_{k+1} - x_k)\n",
    "\\end{split}\n",
    "\\end{equation*}\n",
    "        \n",
    "- Простейший способ задания $\\beta_k$ это $\\beta_k = \\frac{k}{k + 3}$"
   ]
  },
  {
   "cell_type": "markdown",
   "metadata": {
    "slideshow": {
     "slide_type": "slide"
    }
   },
   "source": [
    "## Визуализация быстрого градиентного метода\n",
    "<img src=\"nesterov_plot.png\" width=600>\n"
   ]
  },
  {
   "cell_type": "markdown",
   "metadata": {
    "slideshow": {
     "slide_type": "slide"
    }
   },
   "source": [
    "## Скорость сходимости\n",
    "\n",
    "- Пусть $f$ выпукла с Липшицевым градиентом, а шаг $\\alpha_k = \\frac{1}{L}$. Тогда быстрый градиентный метод сходится как \n",
    "\n",
    "$$\n",
    "f(x_k) - f^* \\leq \\frac{2L \\|x_0 - x^*\\|_2^2}{(k+1)^2}\n",
    "$$ \n",
    "\n",
    "- Пусть $f$ выпукла с липшицевым градиентом и $\\mu\\mathbf{I} \\preceq f''(x) \\preceq L\\mathbf{I}$. Тогда ускоренный метод Нестерова при шаге $\\alpha_k = \\frac{1}{L}$ сходится как\n",
    "\n",
    "$$\n",
    "f(x_k) - f^* \\leq L\\|x_k - x_0\\|_2^2 \\left(1 - \\frac{1}{\\sqrt{\\kappa}} \\right)^k,\n",
    "$$\n",
    "\n",
    "где $\\kappa = \\frac{L}{\\mu}$."
   ]
  },
  {
   "cell_type": "code",
   "execution_count": 1,
   "metadata": {
    "slideshow": {
     "slide_type": "slide"
    }
   },
   "outputs": [],
   "source": [
    "import numpy as np\n",
    "import matplotlib.pyplot as plt\n",
    "%matplotlib inline\n",
    "def grad_descent(f, grad, x0, num_iter, eps, alpha):\n",
    "    x = x0.copy()\n",
    "    conv = [x]\n",
    "    for i in range(num_iter):\n",
    "        h = -grad(x)\n",
    "        if np.linalg.norm(h) < eps:\n",
    "            break\n",
    "        x = x + alpha * h\n",
    "        conv.append(x)\n",
    "    return x, conv\n",
    "\n",
    "def heavy_ball(f, grad, x0, num_iter, eps, alpha, beta):\n",
    "    x = x0.copy()\n",
    "    conv = [x]\n",
    "    prev_x = None\n",
    "    for i in range(num_iter):\n",
    "        h = -grad(x)\n",
    "        if np.linalg.norm(h) < eps:\n",
    "            break\n",
    "        if prev_x is None:\n",
    "            prev_x = x.copy()\n",
    "            x = x + alpha * h\n",
    "        else:\n",
    "            x, prev_x = x + alpha * h + beta * (x - prev_x), x\n",
    "            \n",
    "        conv.append(x)\n",
    "    return x, conv\n",
    "\n",
    "\n",
    "def accelerated_gd(f, grad, x0, num_iter, eps, alpha):\n",
    "    x = x0.copy()\n",
    "    y = x0.copy()\n",
    "    conv = [x]\n",
    "    prev_x = None\n",
    "    for i in range(num_iter):\n",
    "        h = -grad(y)\n",
    "        if np.linalg.norm(h) < eps:\n",
    "            break\n",
    "        if prev_x is None:\n",
    "            prev_x = x.copy()\n",
    "            x = y + alpha * h\n",
    "        else:\n",
    "            x, prev_x = y + alpha * h, x\n",
    "        \n",
    "        y = x + (i+1.) / (i+4.) * (x - prev_x)\n",
    "            \n",
    "        conv.append(x)\n",
    "    return x, conv\n"
   ]
  },
  {
   "cell_type": "code",
   "execution_count": 38,
   "metadata": {
    "slideshow": {
     "slide_type": "slide"
    }
   },
   "outputs": [
    {
     "name": "stdout",
     "output_type": "stream",
     "text": [
      "172.58366035654436 0.09999999999996734\n",
      "Condition number = 1725.8366035660072\n",
      "0.022100387906078434 0.908187939460564\n"
     ]
    }
   ],
   "source": [
    "np.random.seed(42)\n",
    "# n = 4\n",
    "n = 100\n",
    "k = 10\n",
    "A = np.random.randn(k, n)\n",
    "A = A.T.dot(A) + 1e-1 * np.eye(n)\n",
    "\n",
    "# Control ill-conditioned of A\n",
    "\n",
    "x_true = np.random.randn(n)\n",
    "b = A.dot(x_true)\n",
    "f = lambda x: 0.5 * x.dot(A.dot(x)) - b.dot(x)\n",
    "grad = lambda x: A.dot(x) - b\n",
    "A_eigvals = np.linalg.eigvalsh(A)\n",
    "L = np.max(A_eigvals)\n",
    "mu = np.min(A_eigvals)\n",
    "q = (L - mu) / (L + mu)\n",
    "print(L, mu)\n",
    "print(\"Condition number = {}\".format(L / mu))\n",
    "alpha_opt = 4 / (np.sqrt(L) + np.sqrt(mu))**2 \n",
    "beta_opt = np.maximum((1 - np.sqrt(alpha_opt * L))**2, \n",
    "                      (1 - np.sqrt(alpha_opt * mu))**2)\n",
    "print(alpha_opt, beta_opt)"
   ]
  },
  {
   "cell_type": "code",
   "execution_count": 39,
   "metadata": {
    "slideshow": {
     "slide_type": "slide"
    }
   },
   "outputs": [],
   "source": [
    "x0 = np.random.randn(n)\n",
    "max_iter = 1000\n",
    "tol = 1e-6"
   ]
  },
  {
   "cell_type": "code",
   "execution_count": 40,
   "metadata": {
    "slideshow": {
     "slide_type": "slide"
    }
   },
   "outputs": [
    {
     "data": {
      "text/plain": [
       "<matplotlib.legend.Legend at 0x7fc35744ac50>"
      ]
     },
     "execution_count": 40,
     "metadata": {},
     "output_type": "execute_result"
    },
    {
     "data": {
      "image/png": "[encoded data removed]",
      "text/plain": [
       "<Figure size 432x288 with 1 Axes>"
      ]
     },
     "metadata": {
      "needs_background": "light"
     },
     "output_type": "display_data"
    }
   ],
   "source": [
    "_, conv_gd = grad_descent(f, grad, x0, max_iter, tol, 2. / (L + mu))\n",
    "_, conv_hb = heavy_ball(f, grad, x0, max_iter, tol, alpha_opt, beta_opt)\n",
    "_, conv_acc = accelerated_gd(f, grad, x0, max_iter, tol, 1. / L)\n",
    "plt.semilogy([np.linalg.norm(grad(x)) for x in conv_gd], label=\"GD convergence\")\n",
    "plt.semilogy([np.linalg.norm(grad(x)) for x in conv_hb], label=\"Heavy ball\")\n",
    "plt.semilogy([np.linalg.norm(grad(x)) for x in conv_acc], label=\"Accelerated GD\")\n",
    "plt.xlabel(\"Number of iterations\")\n",
    "plt.ylabel(\"Gradient norm\")\n",
    "plt.legend()"
   ]
  },
  {
   "cell_type": "markdown",
   "metadata": {
    "slideshow": {
     "slide_type": "slide"
    }
   },
   "source": [
    "## Выводы про ускоренный градиентный метод\n",
    "\n",
    "- Обобщение метода тяжёлого шарика\n",
    "- Можно показать. что метод является оптимальным для выпуклых функций среди методов вида\n",
    "\n",
    "$$ x_{k+1} = x_0 + \\texttt{span}\\{f'(x_0), \\ldots, f'(x_{k})\\} $$\n",
    "\n",
    "- На последней лекции обсудим, какие есть альтернативные варианты и к чему приводит их использование\n",
    "- Этот метод удивительно хорошо работает и в невыпуклом случае для задач обучения глубоких нейросетей"
   ]
  },
  {
   "cell_type": "markdown",
   "metadata": {
    "slideshow": {
     "slide_type": "slide"
    }
   },
   "source": [
    "## Метод Ньютона\n",
    "Рассмотрим задачу\n",
    "\n",
    "$$\n",
    "\\min\\limits_{x\\ \\in \\mathbb{R}^n} f(x).\n",
    "$$\n",
    "\n",
    "- Градиентный спуск $\\equiv$ **линейная** аппроксимация $f$\n",
    "- Метод Ньютона $\\equiv$ **квадратичная** аппроксимация $f$:\n",
    "\n",
    "$$\n",
    "f(x + h) \\approx f(x) + \\langle f'(x), h \\rangle + \\frac{1}{2}h^{\\top}f''(x)h \\to \\min_{h}\n",
    "$$\n",
    "\n",
    "Из необходимого условия минимума:\n",
    "\n",
    "$$\n",
    "f'(x) + f''(x) h = 0, \\qquad h^* = -(f''(x))^{-1} f'(x)\n",
    "$$\n"
   ]
  },
  {
   "cell_type": "markdown",
   "metadata": {
    "slideshow": {
     "slide_type": "slide"
    }
   },
   "source": [
    "### Является ли найденное направление направлением убывания?\n",
    "\n",
    "Проверим знак скалярного произведения $\\langle f'(x), h^* \\rangle$.\n",
    "\n",
    "$$\n",
    "\\langle f'(x), h^* \\rangle = -(f')^{\\top}(x) (f''(x))^{-1} f'(x) < 0 \\Leftarrow f''(x) \\succ 0\n",
    "$$"
   ]
  },
  {
   "cell_type": "markdown",
   "metadata": {
    "slideshow": {
     "slide_type": "slide"
    }
   },
   "source": [
    "## Метод Ньютона\n",
    "\n",
    "- Классический метод Ньютона: $\\alpha_k \\equiv 1$\n",
    "- Демпфированный метод Ньютона: $\\alpha_k$ выбирается на каждой итерации по заданному правилу\n",
    "\n",
    "```python\n",
    "def NewtonMethod(f, x0, epsilon, **kwargs):\n",
    "    \n",
    "    x = x0\n",
    "    \n",
    "    while True:\n",
    "        \n",
    "        h = ComputeNewtonStep(x, f, **kwargs)\n",
    "        \n",
    "        if StopCriterion(x, f, h, **kwargs) < epsilon:\n",
    "            \n",
    "            break\n",
    "            \n",
    "        alpha = SelectStepSize(x, h, f, **kwargs)\n",
    "            \n",
    "        x = x + alpha * h\n",
    "            \n",
    "    return x\n",
    "\n",
    "```"
   ]
  },
  {
   "cell_type": "markdown",
   "metadata": {
    "slideshow": {
     "slide_type": "slide"
    }
   },
   "source": [
    "## Теорема сходимости (Ю. Е. Нестеров Введение в выпуклую оптимизацию, $\\S$ 1.2)\n",
    "\n",
    "**Теорема.** Пусть функция $f(x)$\n",
    "- дважды дифференцируема и её гессиан удовлетворяет условию Липшица с константой $M$\n",
    "- существует точка локального минимума с положительно определённым гессианом\n",
    "\n",
    "$$\n",
    "f''(x^*) \\succeq l\\mathbf{I}, \\; l > 0\n",
    "$$\n",
    "\n",
    "- начальная точка $x_0$ достаточно близка к точке минимума, в частности\n",
    "\n",
    "$$\n",
    "\\|x_0 - x^*\\|_2 \\leq \\frac{2l}{3M}\n",
    "$$\n",
    "\n",
    "Тогда метод Ньютона сходится **квадратично**:\n",
    "\n",
    "$$\n",
    "\\|x_{k+1} - x^* \\|_2 \\leq \\dfrac{M\\|x_k - x^*\\|^2_2}{2 (l - M\\|x_k - x^*\\|_2)}\n",
    "$$"
   ]
  },
  {
   "cell_type": "markdown",
   "metadata": {
    "slideshow": {
     "slide_type": "slide"
    }
   },
   "source": [
    "## Метод Ньютона для поиска корня системы нелинейных уравнений\n",
    "\n",
    "- Если необходимо решить систему нелинейных уравнений\n",
    "\n",
    "$$ g(x) = 0, $$\n",
    "\n",
    " то метод Ньютона записывается как \n",
    " \n",
    " $$ x_{k+1} = x_k - g'(x_k)^{-1} g(x_k) $$\n",
    " \n",
    "- Если рассмотреть необходимое условие экстремума $f'(x) = 0$ как такую систему, то метод Ньютона для её решения совпадёт с методом Ньютона для минимизации исходной функции $f$"
   ]
  },
  {
   "cell_type": "markdown",
   "metadata": {
    "slideshow": {
     "slide_type": "slide"
    }
   },
   "source": [
    "### Пример\n",
    "\n",
    "Применим метод Ньютона для поиска корня следующей функции\n",
    "\n",
    "$$\n",
    "\\varphi(t) = \\dfrac{t}{\\sqrt{1+t^2}}\n",
    "$$\n",
    "\n",
    "и определим область сходимости.\n",
    "\n",
    "Возможные варианты:\n",
    "- сходится\n",
    "- расходится\n",
    "- осциллирует"
   ]
  },
  {
   "cell_type": "code",
   "execution_count": 12,
   "metadata": {
    "slideshow": {
     "slide_type": "slide"
    }
   },
   "outputs": [
    {
     "name": "stdout",
     "output_type": "stream",
     "text": [
      "[0.58908423]\n",
      "[-0.3612566]\n",
      "[0.05805167]\n",
      "[-0.00019663]\n",
      "[7.60203378e-12]\n",
      "[0.]\n",
      "[0.]\n",
      "[0.]\n",
      "[0.]\n",
      "[0.]\n"
     ]
    }
   ],
   "source": [
    "import jax\n",
    "import jax.numpy as jnp\n",
    "from jax.config import config\n",
    "config.update(\"jax_enable_x64\", True)\n",
    "\n",
    "def f(x):\n",
    "    return x / (jnp.sqrt(1 + x**2))\n",
    "\n",
    "def newton_solve_system(f, jacf, x0, num_iter):\n",
    "    x = x0\n",
    "    for i in range(num_iter):\n",
    "        x = x - jnp.linalg.solve(jacf(x), f(x))\n",
    "        print(f(x))\n",
    "\n",
    "x0 = jnp.array([-0.9])\n",
    "# x0 = jnp.array([-1])\n",
    "# x0 = jnp.array([-1.1])\n",
    "num_iter = 10\n",
    "newton_solve_system(f, jax.jacobian(f), x0, num_iter)"
   ]
  },
  {
   "cell_type": "markdown",
   "metadata": {
    "collapsed": true,
    "slideshow": {
     "slide_type": "slide"
    }
   },
   "source": [
    "## Вычислительная сложность\n",
    "\n",
    "Узкие места метода Ньютона:\n",
    "\n",
    "- формирование и хранение гессиана - квадратичная сложность по памяти\n",
    "- решение систем линейных уравнений\n",
    "\n",
    "$$\n",
    "f''(x_k)h = -f'(x_k)\n",
    "$$\n",
    "\n",
    "кубическая (!) сложность по времени\n",
    "\n"
   ]
  },
  {
   "cell_type": "markdown",
   "metadata": {
    "slideshow": {
     "slide_type": "slide"
    }
   },
   "source": [
    "## Использование структуры функции для ускорения решения\n",
    "\n",
    "- Разделение переменных - диагональный гессиан\n",
    "- Разделение переменных + функция от маломерного аргумента - гессиан имеет структуру диагональная матрица + матрица малого ранга"
   ]
  },
  {
   "cell_type": "markdown",
   "metadata": {
    "slideshow": {
     "slide_type": "slide"
    }
   },
   "source": [
    "## Выводы про метод Ньютона\n",
    "\n",
    "- Высокая скорость сходимость\n",
    "- Использует гессиан\n",
    "- Высокая стоимость одной итерации"
   ]
  }
 ],
 "metadata": {
  "celltoolbar": "Slideshow",
  "kernelspec": {
   "display_name": "Python (pytorch)",
   "language": "python",
   "name": "pytorch"
  }
 },
 "nbformat": 4,
 "nbformat_minor": 4
}
