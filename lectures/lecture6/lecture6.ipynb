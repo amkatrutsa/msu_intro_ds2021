{
 "cells": [
  {
   "cell_type": "markdown",
   "metadata": {
    "slideshow": {
     "slide_type": "slide"
    }
   },
   "source": [
    "# Лекция 6. Собственные векторы, собственные значения. Разложение Шура и QR-алгоритм "
   ]
  },
  {
   "cell_type": "markdown",
   "metadata": {
    "slideshow": {
     "slide_type": "slide"
    }
   },
   "source": [
    "## На прошлой лекции\n",
    "\n",
    "- Разреженные матрицы\n",
    "- Форматы их хранения\n",
    "- Особенности вычисления LU разложения"
   ]
  },
  {
   "cell_type": "markdown",
   "metadata": {
    "slideshow": {
     "slide_type": "slide"
    }
   },
   "source": [
    "## План на сегодня далее\n",
    "\n",
    "- Собственные векторы и их приложения (PageRank)\n",
    "- Круги Гершгорина\n",
    "- Степенной метод вычисления собственных векторов и значений\n",
    "- Теорема Шура\n",
    "- Нормальные матрицы\n",
    "- QR алгоритм"
   ]
  },
  {
   "cell_type": "markdown",
   "metadata": {
    "slideshow": {
     "slide_type": "slide"
    }
   },
   "source": [
    "## Что такое собственный вектор?\n",
    "\n",
    "**Определение.** Вектор $x \\ne 0$ называется **собственным** для квадратной матрицы $A$, если найдётся такое число $\\lambda$ что\n",
    "\n",
    "$$\n",
    "   Ax = \\lambda x.\n",
    "$$\n",
    "\n",
    "Число $\\lambda$ называется **собственным значением**.\n",
    "\n",
    "- Определение означает, что матрица $A - \\lambda I$ должна быть вырождена\n",
    "- Как алгебраически определить такие числа $\\lambda$, что матрица $A - \\lambda I$ является вырожденной?\n",
    "- Для этого нужно ввести ещё одну функцию на множестве матриц под названием **определитель** (a.k.a детерминант, не путать с дискриминантом!)\n",
    "- Обозначение $\\det(A)$."
   ]
  },
  {
   "cell_type": "markdown",
   "metadata": {
    "slideshow": {
     "slide_type": "slide"
    }
   },
   "source": [
    "## Определитель\n",
    "\n",
    "- Формальное опредеделение детерминанта довольно неочевидно, поэтому покажем, как его можно вычислить и какие свойства есть у этой функции\n",
    "    - она определена только для квадратных матриц\n",
    "    - если матрица вырождена, то её детерминант равен 0\n",
    "    - если переставить две строки матрицы, то детерминант умножится на $-1$\n",
    "    - $\\det(AB) = \\det(A) \\det(B)$\n",
    "- Рассмотрим матрицу $A = \\begin{bmatrix} 1 & 2 & -1 \\\\ 0 & 3 & 1 \\\\ -3 & 2 & 1 \\end{bmatrix}$\n",
    "- Детерминант этой матрицы может быть вычислен с помощью следующей процедуры - разложение по первой строке:\n",
    "\n",
    "$$ \\det(A) = 1 \\cdot (3 \\cdot 1 - 2 \\cdot 1) - 2 \\cdot (0 \\cdot 1 - 1 \\cdot (-3) ) + (-1)\\cdot (0 \\cdot 2 - 3 \\cdot (-3)) =  1 - 6 - 9 = -14$$"
   ]
  },
  {
   "cell_type": "code",
   "execution_count": 5,
   "metadata": {
    "slideshow": {
     "slide_type": "slide"
    }
   },
   "outputs": [
    {
     "name": "stdout",
     "output_type": "stream",
     "text": [
      "-14.000000000000004\n",
      "14.000000000000004\n",
      "-2.9406243837545236e-65\n"
     ]
    }
   ],
   "source": [
    "import numpy as np\n",
    "\n",
    "A = np.array([[1, 2, -1], [0, 3, 1], [-3, 2, 1]])\n",
    "print(np.linalg.det(A))\n",
    "A = np.array([[0, 3, 1], [1, 2, -1], [-3, 2, 1]])\n",
    "print(np.linalg.det(A))\n",
    "n = 5\n",
    "x = np.random.randn(n)\n",
    "A = np.outer(x, x)\n",
    "print(np.linalg.det(A))"
   ]
  },
  {
   "cell_type": "markdown",
   "metadata": {
    "slideshow": {
     "slide_type": "slide"
    }
   },
   "source": [
    "## Вычисление дереминанта и LU разложение\n",
    "\n",
    "- Детерминант треугольной матрицы - произведение диагональных элементов\n",
    "- $A = PLU \\to \\det(A) = \\det(P)\\det(L)\\det(U)$\n",
    "- На диагонали $L$ стоят 1, значит $\\det(A) = \\det(P)\\det(U)$\n",
    "- $\\det(U) = \\prod_{i=1}^n u_{ii}$\n",
    "- $\\det(P) = (-1)^s$, где $s$ - число перестановок строк\n",
    "- Таким образом, вычисление детерминанта стоит $O(n^3)$"
   ]
  },
  {
   "cell_type": "markdown",
   "metadata": {
    "slideshow": {
     "slide_type": "slide"
    }
   },
   "source": [
    "## Вернёмся к определение собственных векторов и значений\n",
    "\n",
    "- Так как матрица $A - \\lambda I$ должна быть вырождена, то \n",
    "\n",
    "$$ \\det (A - \\lambda I) = 0.$$\n",
    "\n",
    "- Это есть некоторый многочлен от $\\lambda$ с коэффициентами, зависящими от элементов матрицы $A$\n",
    "- Это уравнение на $\\lambda$ называется *характеристическим уравнением*"
   ]
  },
  {
   "cell_type": "markdown",
   "metadata": {
    "slideshow": {
     "slide_type": "slide"
    }
   },
   "source": [
    "### Вычислим собственные векторы для тестовой матрицы\n",
    "\n",
    "\n",
    "- $\\begin{bmatrix} 1 & 2 \\\\ 0 & 3 \\end{bmatrix}$ \n",
    "- Тогда $\\det(A - \\lambda I) = \\det\\left(\\begin{bmatrix} 1 - \\lambda & 2 \\\\ 0 & 3 - \\lambda \\end{bmatrix} \\right) = (1 - \\lambda)(3 - \\lambda) = 0$\n",
    "- То есть имеем два собственных значения $\\lambda_1 = 1$ и $\\lambda_2 = 3$\n",
    "- Найдём собственные векторы для них\n",
    "\n",
    "$$\\begin{bmatrix} 0 & 2 \\\\ 0 & 2 \\end{bmatrix} x = 0 \\to x = \\begin{bmatrix} 1 \\\\ 0 \\end{bmatrix}$$\n",
    "\n",
    "$$ \\begin{bmatrix} -2 & 2 \\\\ 0 & 0 \\end{bmatrix} x = 0 \\to x = \\begin{bmatrix} 0 \\\\ 1 \\end{bmatrix}$$ \n",
    "\n",
    "- Заметим, что вектор $\\alpha x$ такжде является собственным, поэтому часто для удобства доволнительно требуют нормировки собственных векторов\n",
    "- Сразу скажем, что такой способ вычисления собственных чисел и векторов является численно неустойчивым, подробности далее..."
   ]
  },
  {
   "cell_type": "markdown",
   "metadata": {
    "slideshow": {
     "slide_type": "slide"
    }
   },
   "source": [
    "## Разложение по собственным векторам (eigendecomposition)\n",
    "\n",
    "Если матрица  $A$ размера $n\\times n$ имеет $n$ собственных векторов $s_i$, $i=1,\\dots,n$:\n",
    "\n",
    "$$ As_i = \\lambda_i s_i, $$\n",
    "\n",
    "то это может быть записано в виде\n",
    "\n",
    "$$ A S = S \\Lambda, \\quad\\text{где}\\quad S=(s_1,\\dots,s_n), \\quad \\Lambda = \\text{diag}(\\lambda_1, \\dots, \\lambda_n),$$\n",
    "\n",
    "или эквивалентно\n",
    "\n",
    "$$ A = S\\Lambda S^{-1}. $$\n",
    "\n",
    "Такая форма представления матрицы $A$ называется разложением по собственным векторам (**eigendecomposition**). Матрицы, которые могут быть представлены в таком виде, называются **диагонализуемыми**."
   ]
  },
  {
   "cell_type": "code",
   "execution_count": 16,
   "metadata": {
    "slideshow": {
     "slide_type": "slide"
    }
   },
   "outputs": [
    {
     "name": "stdout",
     "output_type": "stream",
     "text": [
      "[-1.33691198+0.j          3.16845599+0.65786032j  3.16845599-0.65786032j] \n",
      " [[ 0.52030162+0.j          0.46476996-0.34559744j  0.46476996+0.34559744j]\n",
      " [-0.19187565+0.j          0.67439714+0.j          0.67439714-0.j        ]\n",
      " [ 0.8321478 +0.j          0.11360624+0.44365912j  0.11360624-0.44365912j]]\n",
      "5 (4.999999999999995+0j)\n",
      "3.5294401943817508e-15\n",
      "[[ 14   5 -14]\n",
      " [  5  14   2]\n",
      " [-14   2  14]]\n",
      "4.189529226675416e-15\n"
     ]
    }
   ],
   "source": [
    "import numpy as np\n",
    "\n",
    "A = np.array([[1, 2, -1], [0, 3, 1], [-3, 2, 1]])\n",
    "\n",
    "eigvals, eigvec = np.linalg.eig(A)\n",
    "print(eigvals, \"\\n\", eigvec)\n",
    "print(np.trace(A), np.sum(eigvals))\n",
    "print(np.linalg.norm(A - eigvec @ np.diag(eigvals) @ np.linalg.inv(eigvec)))\n",
    "\n",
    "A = np.random.randint(-10, 10, size=(3, 3))\n",
    "A = A + A.T\n",
    "print(A)\n",
    "eigvals, eigvec = np.linalg.eigh(A)\n",
    "print(np.linalg.norm(A - eigvec @ np.diag(eigvals) @ eigvec.T))"
   ]
  },
  {
   "cell_type": "markdown",
   "metadata": {
    "slideshow": {
     "slide_type": "slide"
    }
   },
   "source": [
    "## Существование\n",
    "\n",
    "- Какие матрицы являются диагонализуемыми?\n",
    "\n",
    "- Простым примером являются матрицы, у которых все собственные значения различны.\n",
    "Более общий факт звучит так: \n",
    "\n",
    "матрица диагонализуема тогда и только тогда, когда **алгебраическая кратность** каждого собственного значения (кратность корня характеристического многочлена) совпадает с его **геометрической кратностью** (размерностью собственного подпространства). \n",
    "\n",
    "- Для наших целей наиболее важный класс диагонализуемых матриц – это класс **нормальных матриц**: \n",
    "\n",
    "$$AA^* = A^* A.$$\n",
    "\n",
    "Почему такие матрицы диагонализуемы станет ясно чуть позже."
   ]
  },
  {
   "cell_type": "markdown",
   "metadata": {
    "slideshow": {
     "slide_type": "slide"
    }
   },
   "source": [
    "#### Пример\n",
    "\n",
    "* Легко проверить, что матрица $$A = \\begin{pmatrix} 1 & 1 \\\\ 0 & 1 \\end{pmatrix}$$ имеет одно собственное значение  $1$ кратности $2$ (поскольку характеристический многочлен имеет вид $p(\\lambda)=(1-\\lambda)^2$), но только один собственный вектор  $\\begin{pmatrix} c \\\\ 0  \\end{pmatrix}$ и следовательно такая матрица недиагонализуема."
   ]
  },
  {
   "cell_type": "markdown",
   "metadata": {
    "slideshow": {
     "slide_type": "slide"
    }
   },
   "source": [
    "## Почему важны собственные векторы и собственные значения?\n",
    "\n",
    "- Собственные векторы имеют как важное теоретическое значения, так и многочисленные приложения.\n",
    "- Весь микромир подчиняется законам следующим из **уравнения Шрёдингера**, которое является задачей на поиск собственного вектора и собственного значения:\n",
    "\n",
    "$$\n",
    "    H \\psi = E \\psi,\n",
    "$$\n",
    "\n",
    "где $E$ – нижний уровень энергии, $\\psi$ – волновая функция и $H$ – гамильтониан.  \n",
    "- Более половины вычислительных мощностей в мире тратится на решение задач такого типа для задач дизайна материалов и разработки новых лекарств "
   ]
  },
  {
   "cell_type": "markdown",
   "metadata": {
    "slideshow": {
     "slide_type": "slide"
    }
   },
   "source": [
    "## Собственные значения – это частоты выбраций\n",
    "\n",
    "Обычно вычисление собственных значений и собственных векторов необходимо для изучения\n",
    "\n",
    "- вибраций в механических структурах\n",
    "- снижения сложности моделей сложных систем"
   ]
  },
  {
   "cell_type": "code",
   "execution_count": 1,
   "metadata": {
    "slideshow": {
     "slide_type": "slide"
    }
   },
   "outputs": [
    {
     "data": {
      "image/jpeg": "[encoded data removed]",
      "text/html": [
       "\n",
       "        <iframe\n",
       "            width=\"400\"\n",
       "            height=\"300\"\n",
       "            src=\"https://www.youtube.com/embed/xKGA3RNzvKg\"\n",
       "            frameborder=\"0\"\n",
       "            allowfullscreen\n",
       "        ></iframe>\n",
       "        "
      ],
      "text/plain": [
       "<IPython.lib.display.YouTubeVideo at 0x10da18630>"
      ]
     },
     "execution_count": 1,
     "metadata": {},
     "output_type": "execute_result"
    }
   ],
   "source": [
    "from IPython.display import YouTubeVideo \n",
    "YouTubeVideo(\"xKGA3RNzvKg\")"
   ]
  },
  {
   "cell_type": "markdown",
   "metadata": {
    "slideshow": {
     "slide_type": "slide"
    }
   },
   "source": [
    "## Google PageRank\n",
    "\n",
    "Одна из самых известных задач, сводящихся к вычислению собственного вектора, – это задача вычисления **Google PageRank**. \n",
    "\n",
    "- Задача состоит в ранжировании веб-страниц: какие из них являются важными, а какие нет\n",
    "- В интернете страницы ссылаются друг на друга\n",
    "- PageRank определяется рекурсивно. Обозначим за $p_i$ **важность** $i$-ой страницы. Тогда определим эту важность как усреднённую важность всех страниц, которые ссылаются на данную страницу. Это определение приводит к следующей линейной системе\n",
    "\n",
    "$$ p_i = \\sum_{j \\in N(i)} \\frac{p_j}{L(j)}, $$\n",
    "\n",
    "где $L(j)$ – число исходящих ссылок с $j$-ой страницы, $N(i)$ – число соседей $i$-ой страницы. Это может быть записано следующим образом\n",
    "\n",
    "$$ p = G p, \\quad G_{ij} = \\frac{1}{L(j)} $$\n",
    "\n",
    "или как задача на собственные значения"
   ]
  },
  {
   "cell_type": "markdown",
   "metadata": {
    "slideshow": {
     "slide_type": "fragment"
    }
   },
   "source": [
    "$$\n",
    "   Gp = 1 p,\n",
    "$$\n",
    "\n",
    "то есть мы уже знаем, что у матрицы $G$ есть собственное значение равное $1$. \n",
    "Заметим, что $G$ – **левостохастичная** матрица, то есть сумма элементов в каждом столбце равна $1$. \n",
    "Проверьте, что любая левостохастичная матрица имеет собственное значение равное $1$."
   ]
  },
  {
   "cell_type": "markdown",
   "metadata": {
    "slideshow": {
     "slide_type": "fragment"
    }
   },
   "source": [
    "## Демо\n",
    "\n",
    "Мы можем вычислить PageRank с помощью библиотек на Python. \n",
    "Будем использовать бибилотеку ```networkx``` для работы с графами, она может быть установлена с помощью следующей команды\n",
    "\n",
    "```conda install networkx```"
   ]
  },
  {
   "cell_type": "markdown",
   "metadata": {
    "slideshow": {
     "slide_type": "slide"
    }
   },
   "source": [
    "- Возьмём простой пример графа [Zachary karate club](https://en.wikipedia.org/wiki/Zachary%27s_karate_club). \n",
    "- Этот граф был собран вручную в 1977, и является классическим графом для анализа соцсетей."
   ]
  },
  {
   "cell_type": "code",
   "execution_count": 3,
   "metadata": {
    "slideshow": {
     "slide_type": "slide"
    }
   },
   "outputs": [
    {
     "name": "stderr",
     "output_type": "stream",
     "text": [
      "/Users/alex/anaconda3/lib/python3.6/site-packages/networkx/drawing/nx_pylab.py:611: MatplotlibDeprecationWarning: isinstance(..., numbers.Number)\n",
      "  if cb.is_numlike(alpha):\n"
     ]
    },
    {
     "data": {
      "image/png": "[encoded data removed]",
      "text/plain": [
       "<Figure size 432x288 with 1 Axes>"
      ]
     },
     "metadata": {
      "needs_background": "light"
     },
     "output_type": "display_data"
    }
   ],
   "source": [
    "import numpy as np\n",
    "%matplotlib inline\n",
    "import matplotlib.pyplot as plt\n",
    "import networkx as nx\n",
    "kn = nx.read_gml('karate.gml')\n",
    "#nx.write_gml(kn, 'karate2.gml')\n",
    "nx.draw_networkx(kn) #Draw the graph"
   ]
  },
  {
   "cell_type": "markdown",
   "metadata": {
    "slideshow": {
     "slide_type": "fragment"
    }
   },
   "source": [
    "- Сейчас мы можем вычислить PageRank, используя функцию, встроенную в NetworkX. \n",
    "- Мы также изобразим вершины графа пропорционально тому, наскольку они важны в смысле величины PageRank'a."
   ]
  },
  {
   "cell_type": "code",
   "execution_count": 4,
   "metadata": {
    "slideshow": {
     "slide_type": "fragment"
    }
   },
   "outputs": [
    {
     "name": "stderr",
     "output_type": "stream",
     "text": [
      "/Users/alex/anaconda3/lib/python3.6/site-packages/networkx/drawing/nx_pylab.py:611: MatplotlibDeprecationWarning: isinstance(..., numbers.Number)\n",
      "  if cb.is_numlike(alpha):\n"
     ]
    },
    {
     "data": {
      "image/png": "[encoded data removed]",
      "text/plain": [
       "<Figure size 432x288 with 1 Axes>"
      ]
     },
     "metadata": {
      "needs_background": "light"
     },
     "output_type": "display_data"
    }
   ],
   "source": [
    "pr = nx.algorithms.link_analysis.pagerank(kn)\n",
    "pr_vector = list(pr.values())\n",
    "pr_vector = np.array(pr_vector) * 3000\n",
    "nx.draw_networkx(kn, node_size=pr_vector, labels=None)"
   ]
  },
  {
   "cell_type": "markdown",
   "metadata": {
    "slideshow": {
     "slide_type": "slide"
    }
   },
   "source": [
    "## Вычисление собственных значений\n",
    "\n",
    "- Как вычислить собственные значения и собственные векторы? \n",
    "\n",
    "Все задачи на собственные значения делятся на два класса:\n",
    "\n",
    "- полная задача на собственные значения (нужны все собственные значения и собственные векторы)\n",
    "- частичная задача на собственные значения (требуются минимальное/максимальное собственное значение, или собственные значения из заданного промежутка)"
   ]
  },
  {
   "cell_type": "markdown",
   "metadata": {
    "slideshow": {
     "slide_type": "slide"
    }
   },
   "source": [
    "## Вычисление собственных значений с помощью характеристического многочлена\n",
    "\n",
    "Задача на собственные значения имеет вид\n",
    "\n",
    "$$ Ax = \\lambda x, $$\n",
    "\n",
    "или\n",
    "\n",
    "$$ (A - \\lambda I) x = 0,$$\n",
    "\n",
    "поэтому матрица $A - \\lambda I$ должна быть вырожденной. Это значит, что её **детерминант** равен нулю: \n",
    "\n",
    "$$ p(\\lambda) = \\det(A - \\lambda I) = 0. $$\n",
    "\n",
    "- Это уравнение называется **характеристическим** и является полиномом степени $n$. \n",
    "- Многочлен степени $n$ имеет $n$ комплексных корней!"
   ]
  },
  {
   "cell_type": "markdown",
   "metadata": {
    "slideshow": {
     "slide_type": "slide"
    }
   },
   "source": [
    "## Собственные значения и характеристическое уравнение\n",
    "\n",
    "Вернёмся к собственным значениям.\n",
    "\n",
    "Характеристическое уравнение можно использовать для вычисления собственных значений, что приводит нас к наивному алгоритму:\n",
    "\n",
    "$$p(\\lambda) = \\det(A - \\lambda I)$$\n",
    "\n",
    "1. Вычислить коэффициенты многочлена\n",
    "2. Найти его корни\n",
    "\n",
    "**Это хорошая идея?**  "
   ]
  },
  {
   "cell_type": "markdown",
   "metadata": {
    "slideshow": {
     "slide_type": "fragment"
    }
   },
   "source": [
    "Посмотрим на небольшой пример"
   ]
  },
  {
   "cell_type": "code",
   "execution_count": 5,
   "metadata": {
    "slideshow": {
     "slide_type": "fragment"
    }
   },
   "outputs": [
    {
     "data": {
      "text/plain": [
       "Text(0, 0.5, 'Imaginary part')"
      ]
     },
     "execution_count": 5,
     "metadata": {},
     "output_type": "execute_result"
    },
    {
     "data": {
      "image/png": "[encoded data removed]",
      "text/plain": [
       "<Figure size 432x288 with 1 Axes>"
      ]
     },
     "metadata": {
      "needs_background": "light"
     },
     "output_type": "display_data"
    }
   ],
   "source": [
    "import numpy as np\n",
    "n = 40\n",
    "a = [[1.0 / (i - j + 0.5) for i in range(n)] for j in range(n)]\n",
    "a = np.array(a)\n",
    "ev = np.linalg.eigvals(a)\n",
    "#There is a special numpy function for chacteristic polynomial\n",
    "cf = np.poly(a)\n",
    "ev_roots = np.roots(cf)\n",
    "#print('Coefficients of the polynomial:', cf)\n",
    "#print('Polynomial roots:', ev_roots)\n",
    "plt.scatter(ev_roots.real, ev_roots.imag, marker='x', label='Roots')\n",
    "b = a + 0 * np.random.randn(n, n)\n",
    "ev_b = np.linalg.eigvals(b)\n",
    "plt.scatter(ev_b.real, ev_b.imag, marker='o', label='Lapack')\n",
    "#plt.scatter(ev_roots.real, ev_roots.imag, marker='o', label='Brute force')\n",
    "plt.legend(loc='best')\n",
    "plt.xlabel('Real part')\n",
    "plt.ylabel('Imaginary part')"
   ]
  },
  {
   "cell_type": "markdown",
   "metadata": {
    "slideshow": {
     "slide_type": "fragment"
    }
   },
   "source": [
    "**Мораль**: \n",
    "\n",
    "- Не делайте так, если только у вас нет серьёзной причины\n",
    "- Поиск корней полинома – очень **плохо обусловленная** задача"
   ]
  },
  {
   "cell_type": "markdown",
   "metadata": {
    "slideshow": {
     "slide_type": "slide"
    }
   },
   "source": [
    "## Круги Гершгорина\n",
    "\n",
    "- Есть интересная теорема, которая часто помогает локализовать собственные значения. \n",
    "\n",
    "- Она называется **теоремой Гершгорина**.  \n",
    "\n",
    "- Она утверждает, что все собственные значения $\\lambda_i,  i = 1, \\ldots, n$ находятся внутри объединения **кругов Гершгорина** $C_i$, где $C_i$ – окружность на комплексной плоскости с центром в $a_{ii}$ и радиусом\n",
    "\n",
    "$$r_i = \\sum_{j \\ne i} |a_{ij}|.$$\n",
    "\n",
    "Более того, если круги не пересекаются, то они содержат по одному собственному значению внутри каждого круга."
   ]
  },
  {
   "cell_type": "markdown",
   "metadata": {
    "slideshow": {
     "slide_type": "slide"
    }
   },
   "source": [
    "## Демо"
   ]
  },
  {
   "cell_type": "code",
   "execution_count": 6,
   "metadata": {
    "slideshow": {
     "slide_type": "slide"
    }
   },
   "outputs": [
    {
     "data": {
      "image/png": "[encoded data removed]",
      "text/plain": [
       "<Figure size 432x288 with 1 Axes>"
      ]
     },
     "metadata": {
      "needs_background": "light"
     },
     "output_type": "display_data"
    }
   ],
   "source": [
    "import numpy as np\n",
    "%matplotlib inline\n",
    "n = 3\n",
    "fig, ax = plt.subplots(1, 1)\n",
    "a = [[5, 1, 1], [1, 0, 0.5], [2, 0, 10]]\n",
    "#a = [[1.0 / (i - j + 0.5) for i in xrange(n)] for j in xrange(n)]\n",
    "a = np.array(a)\n",
    "#a = np.diag(np.arange(n))\n",
    "a = a + 2 * np.random.randn(n, n)\n",
    "#u = np.random.randn(n, n)\n",
    "#a = np.linalg.inv(u).dot(a).dot(u)\n",
    "xg = np.diag(a).real\n",
    "yg = np.diag(a).imag\n",
    "rg = np.zeros(n)\n",
    "ev = np.linalg.eigvals(a)\n",
    "for i in range(n):\n",
    "    rg[i] = np.sum(np.abs(a[i, :])) - np.abs(a[i, i])\n",
    "    crc = plt.Circle((xg[i], yg[i]), radius=rg[i], fill=False)\n",
    "    ax.add_patch(crc)\n",
    "plt.scatter(ev.real, ev.imag, color='r', label=\"Eigenvalues\")\n",
    "plt.axis('equal')\n",
    "plt.legend()\n",
    "ax.set_title('Eigenvalues and Gershgorin circles')\n",
    "fig.tight_layout()"
   ]
  },
  {
   "cell_type": "markdown",
   "metadata": {
    "slideshow": {
     "slide_type": "slide"
    }
   },
   "source": [
    "## Степенной метод\n",
    "\n",
    "- Часто в вычислительной практике требуется найти не весь спектр, а только некоторую его часть, например самое большое или самое маленькое собственные значения. \n",
    "- Также отметим, что для симметричных матриц $(A = A^\\top)$ собственные значения всегда действительны.\n",
    "- Степенной метод – простейший метод вычисления **максимального по модулю** собственного значения."
   ]
  },
  {
   "cell_type": "markdown",
   "metadata": {
    "slideshow": {
     "slide_type": "slide"
    }
   },
   "source": [
    "## Степенной метод: детали\n",
    "\n",
    "Задача на собственные значения\n",
    "\n",
    "$$Ax = \\lambda x, \\quad \\Vert x \\Vert_2 = 1 \\ \\text{для устойчивости}.$$ \n",
    "\n",
    "может быть записана как итерации с неподвижной точкой, которые называются **степенным методом** и дают максимальное по модулю собственное значение матрицы $A$."
   ]
  },
  {
   "cell_type": "markdown",
   "metadata": {
    "slideshow": {
     "slide_type": "slide"
    }
   },
   "source": [
    "Степенной метод имеет вид\n",
    "\n",
    "$$ x_{k+1} = A x_k, \\quad x_{k+1} := \\frac{x_{k+1}}{\\Vert x_{k+1} \\Vert_2}.$$\n",
    "\n",
    "и $x_{k+1}\\to v_1$, где $Av_1 = \\lambda_1 v_1$ и $\\lambda_1$ максимальное по модулю собственное значение, и $v_1$ – соответствующий собственный вектор.\n",
    "\n",
    "На $(k+1)$-ой итерации приближение для $\\lambda_1$ может быть найдено следующим образом\n",
    "\n",
    "$$ \\lambda^{(k+1)} = (Ax_{k+1}, x_{k+1}). $$\n",
    "\n",
    "Заметим, что $\\lambda^{(k+1)}$ не требуется для $(k+2)$-ой итерации, но может быть полезно для оценки ошибки на каждой итерации: $\\|Ax_{k+1} - \\lambda^{(k+1)}x_{k+1}\\|$. \n",
    "\n",
    "Метод сходится со скоростью геометричекой прогрессии, с константой $q = \\left|\\frac{\\lambda_{2}}{\\lambda_{1}}\\right| < 1$, где $\\lambda_1>\\lambda_2\\geq\\dots\\geq \\lambda_n$. \n",
    "Это означает, что сходимость может быть сколь угодно медленной при близких значениях у $\\lambda_1$ и $\\lambda_2$."
   ]
  },
  {
   "cell_type": "markdown",
   "metadata": {
    "slideshow": {
     "slide_type": "slide"
    }
   },
   "source": [
    "## Что необходимо помнить о степенном методе\n",
    "\n",
    "- Степенной метод даёт оценку для максимального по модулю собственного числа или спектрального радиуса матрицы\n",
    "- Одна итерация требует одного умножения матрицы на вектор. Если можно умножить вектор на матрицу за $\\mathcal{O}(n)$ (например, она разреженная), тогда степенной метод можно использовать для больших $n$\n",
    "- Сходимость может быть медленной\n",
    "- Для грубой оценки максимального по модулю собственного значения и соответствующего вектора достаточно небольшого числа итераций\n"
   ]
  },
  {
   "cell_type": "markdown",
   "metadata": {
    "slideshow": {
     "slide_type": "slide"
    }
   },
   "source": [
    "## А как найти весь спектр?\n",
    "\n",
    "**Используем матричное разложение!**"
   ]
  },
  {
   "cell_type": "markdown",
   "metadata": {
    "slideshow": {
     "slide_type": "slide"
    }
   },
   "source": [
    "##  Для какой матрицы легко найти весь спектр?\n",
    "\n",
    "Существует класс матриц, для которого собственные числа можно найти очень легко, – это **треугольные матрицы**\n",
    "\n",
    "$$\n",
    "  A = \\begin{pmatrix}\n",
    "   \\lambda_1 & * & * \\\\\n",
    "   0 & \\lambda_2 & * \\\\\n",
    "   0 & 0 & \\lambda_3 \\\\\n",
    "  \\end{pmatrix}.\n",
    "$$\n",
    "\n",
    "Собственные числа матрицы $A$ – $\\lambda_1, \\lambda_2, \\lambda_3$. Почему? "
   ]
  },
  {
   "cell_type": "markdown",
   "metadata": {
    "slideshow": {
     "slide_type": "fragment"
    }
   },
   "source": [
    "Потому что детерминант имеет вид \n",
    "\n",
    "$$ \\det(A - \\lambda I) = (\\lambda - \\lambda_1) (\\lambda - \\lambda_2) (\\lambda - \\lambda_3). $$"
   ]
  },
  {
   "cell_type": "markdown",
   "metadata": {
    "slideshow": {
     "slide_type": "slide"
    }
   },
   "source": [
    "Таким образом, вычисление собственных значений для треугольной матрицы – простая задача. Теперь на помощь приходят унитарные матрицы. Пусть $U$ унитарная матрица, то есть $U^* U = I$.  Тогда выполнены следующие равенства\n",
    "\n",
    "$$ \\det(A - \\lambda I) = \\det(U (U^* A U - \\lambda I) U^*) = \\det(UU^*) \\det(U^* A U - \\lambda I) = \\det(U^* A U - \\lambda I), $$\n",
    "\n",
    "где мы используем свойства детерминанта от произведения матриц, $\\det(AB) = \\det(A) \\det(B)$. \n",
    "Это означает, что матрицы $U^* A U$ и $A$ имеют одинаковые характеристические многочлены, и, следовательно, одинаковые собственные значения. "
   ]
  },
  {
   "cell_type": "markdown",
   "metadata": {
    "slideshow": {
     "slide_type": "fragment"
    }
   },
   "source": [
    "Если мы приведём матрицу $A$ к верхнетреугольному виду $T$ с помощью унитарной матрицы $U$: $U^* A U = T$, мы решили задачу! \n",
    "Умножим слева и справа на $U$ и $U^*$ соответственно, получим нужное нам разложение:  \n",
    "\n",
    "$$ A = U T U^*. $$\n",
    "\n",
    "- Это знаменитое **разложение Шура**. \n",
    "- Напомним, что использование унитарных матриц приводит к устойчивым алгоритмам, таким образом собственные значения вычисляются очень точно. \n",
    "- Разложение Шура показывает, почему нам нужны матричные разложения: они представляют матрицу в виде произведения трёх матриц подходящей структуры.  "
   ]
  },
  {
   "cell_type": "markdown",
   "metadata": {
    "slideshow": {
     "slide_type": "slide"
    }
   },
   "source": [
    "## Теорема Шура\n",
    "\n",
    "**Теорема:** Каждая матрица $A \\in \\mathbb{C}^{n \\times n}$ может быть представлена в виде формы Шура $A = UTU^*$, где $U$ унитарная, а $T$ верхнетреугольная."
   ]
  },
  {
   "cell_type": "markdown",
   "metadata": {
    "slideshow": {
     "slide_type": "slide"
    }
   },
   "source": [
    "## Приложение теоремы Шура\n",
    "\n",
    "Важное приложение теоремы Шура связано с так называемыми **нормальными матрицами**.  \n",
    "\n",
    "**Определение.** Матрица $A$ называется **нормальной матрицей**, если  \n",
    "\n",
    "$$ AA^* = A^* A. $$\n",
    "\n",
    "**Q:** Какие примеры нормальных матриц вы можете привести?"
   ]
  },
  {
   "cell_type": "markdown",
   "metadata": {
    "collapsed": true,
    "slideshow": {
     "slide_type": "fragment"
    }
   },
   "source": [
    "Примеры: симметричные матрицы, ортогональные матрицы."
   ]
  },
  {
   "cell_type": "markdown",
   "metadata": {
    "slideshow": {
     "slide_type": "slide"
    }
   },
   "source": [
    "## Нормальные матрицы\n",
    "\n",
    "**Теорема**: $A$ – **нормальная матрица**, тогда и только тогда, когда $A = U \\Lambda U^*$, где $U$ унитарна и $\\Lambda$ диагональна. \n",
    "\n",
    "#### Важное следствие\n",
    "\n",
    "Любая нормальная матрица – **унитарно диагонализуема**. Это означает, что она может быть приведена к диагональному виду с помощью унитарной матрицы $U$. Другими словами, каждая нормальная матрица имеет ортогональный базис из собственных векторов."
   ]
  },
  {
   "cell_type": "markdown",
   "metadata": {
    "slideshow": {
     "slide_type": "slide"
    }
   },
   "source": [
    "## Как вычислить разложение Шура?\n",
    "\n",
    "- Узнаем это через несколько слайдов :)"
   ]
  },
  {
   "cell_type": "markdown",
   "metadata": {
    "slideshow": {
     "slide_type": "slide"
    }
   },
   "source": [
    "## Вычисление разложения Шура\n",
    "\n",
    "- Нужно найти унитарную матрицу $U$ и верхнетреугольную матрицу $T$, такие что для данной матрице $A$ выполнено\n",
    "\n",
    "$$ A = U T U^*. $$ "
   ]
  },
  {
   "cell_type": "markdown",
   "metadata": {
    "slideshow": {
     "slide_type": "slide"
    }
   },
   "source": [
    "## QR алгоритм\n",
    "\n",
    "- QR алгоритм был предложен в 1961 г. независимо В. Н. Кублановской и J. Francis'ом. Статью про историю этого алгоритма и его авторов можно прочитать [тут](http://www.dm.unibo.it/~guerrini/html/an_09_10/QR_50_years_later.pdf).   \n",
    "\n",
    "- <font color='red'> **Не путайте** QR алгоритм и QR разложение! </font>\n",
    "\n",
    "- QR разложение – это представление матрицы в виде произведения двух матриц, а QR алгоритм использует QR разложение для вычисления разложения Шура.\n"
   ]
  },
  {
   "cell_type": "markdown",
   "metadata": {
    "slideshow": {
     "slide_type": "slide"
    }
   },
   "source": [
    "##  Путь к QR алгоритму\n",
    "\n",
    "Рассмотрим выражение\n",
    "\n",
    "$$A = Q T Q^*,$$\n",
    "\n",
    "и перепишем его в виде\n",
    "\n",
    "$$\n",
    "   Q T = A Q.\n",
    "$$\n",
    "\n",
    "Слева замечаем QR разложение матрицы $AQ$.\n",
    "\n",
    "Используем его чтобы записать одну итерацию метода неподвижной точки для разложения Шура."
   ]
  },
  {
   "cell_type": "markdown",
   "metadata": {
    "slideshow": {
     "slide_type": "slide"
    }
   },
   "source": [
    "## Вывод QR алгоритма из уравнения неподвижной точки\n",
    "\n",
    "Запишем следующий итерационный процесс \n",
    "\n",
    "$$\n",
    "    Q_{k+1} R_{k+1} = A Q_k, \\quad Q_{k+1}^* A = R_{k+1} Q^*_k\n",
    "$$\n",
    "\n",
    "Введём новую матрицу\n",
    "\n",
    "$$A_k = Q^* _k A Q_k = Q^*_k Q_{k+1} R_{k+1} = \\widehat{Q}_k R_{k+1}$$\n",
    "\n",
    "тогда аппроксимация для $A_{k+1}$ имеет вид\n",
    "\n",
    "$$A_{k+1} = Q^*_{k+1} A Q_{k+1} = ( Q_{k+1}^* A = R_{k+1} Q^*_k)  = R_{k+1} \\widehat{Q}_k.$$\n",
    "\n",
    "Итак, мы получили стандартную форму записи QR алгоритма."
   ]
  },
  {
   "cell_type": "markdown",
   "metadata": {
    "slideshow": {
     "slide_type": "slide"
    }
   },
   "source": [
    "Финальные формулы обычно записывают в **QRRQ**-форме:\n",
    "\n",
    "1. Инициализируем $A_0 = A$.\n",
    "2. Вычислим QR разложение матрицы $A_k$: $A_k = Q_k R_k$.\n",
    "3. Обновим аппроксимацию $A_{k+1} = R_k Q_k$.\n",
    "\n",
    "Продолжаем итерации пока $A_k$ не станет достаточно треугольной (например, норма подматрицы под главной диагональю не станет достаточно мала)."
   ]
  },
  {
   "cell_type": "markdown",
   "metadata": {
    "slideshow": {
     "slide_type": "slide"
    }
   },
   "source": [
    "## Что известно о сходимости и сложности\n",
    "\n",
    "**Утверждение**\n",
    "\n",
    "Матрицы $A_k$ унитарно подобны матрице $A$\n",
    "\n",
    "$$A_k = Q^*_{k-1} A_{k-1} Q_{k-1} = (Q_{k-1} \\ldots Q_1)^* A (Q_{k-1} \\ldots Q_1)$$\n",
    "\n",
    "а произведение унитарных матриц – унитарная матрица.\n",
    "\n",
    "Сложность одной итерации $\\mathcal{O}(n^3)$, если используется QR разложение для общего случая.\n",
    "\n",
    "Мы ожидаем, что $A_k$ будет **очень близка к треугольной матрице** для достаточно большого $k$."
   ]
  },
  {
   "cell_type": "code",
   "execution_count": 9,
   "metadata": {
    "slideshow": {
     "slide_type": "slide"
    }
   },
   "outputs": [
    {
     "name": "stdout",
     "output_type": "stream",
     "text": [
      "Leading 3x3 block of a:\n",
      "[[ 2.41052440e+000 -5.41127562e-017 -4.10963400e-017]\n",
      " [ 2.42500623e-168  3.49984625e-001  5.13648922e-017]\n",
      " [ 0.00000000e+000  6.56745067e-273  1.53236733e-002]]\n"
     ]
    }
   ],
   "source": [
    "import numpy as np\n",
    "n = 4\n",
    "a = [[1.0/(i + j + 0.5) for i in range(n)] for j in range(n)]\n",
    "niters = 200\n",
    "for k in range(niters):\n",
    "    q, rmat = np.linalg.qr(a)\n",
    "    a = rmat.dot(q)\n",
    "print('Leading 3x3 block of a:')\n",
    "print(a[:3, :3])"
   ]
  },
  {
   "cell_type": "markdown",
   "metadata": {
    "slideshow": {
     "slide_type": "slide"
    }
   },
   "source": [
    "## Сходимость и сложность QR алгоритма\n",
    "\n",
    "- QR алгоритм сходится от первого диагонального элемента к последнему.\n",
    "\n",
    "- По крайней мере 2-3 итерации необходимо для определения каждого диагонального элемента матрицы $T$. \n",
    "\n",
    "- Каждый шаг состоит в вычислении QR разложения и одного произведения двух матриц, в результате имеем сложность $\\mathcal{O}(n^3)$.\n",
    "\n",
    "**Q**: означает ли это итоговую сложность $\\mathcal{O}(n^4)$? \n",
    "\n",
    "**A**: к счастью, нет! \n",
    "\n",
    "- Мы можем ускорить QR алгоритм, используя сдвиги, поскольку матрица $A_k - \\lambda I$ имеет те же векторы Шура (столбцы матрицы $U$)."
   ]
  },
  {
   "cell_type": "markdown",
   "metadata": {
    "slideshow": {
     "slide_type": "slide"
    }
   },
   "source": [
    "## Выводы по матричным разложениям\n",
    "\n",
    "- LU и QR разложения можно вычислить с помощью **прямых** методов за конечное число операций.\n",
    "\n",
    "- SVD и разложение Шура не могут быть вычислены с помощью прямых методов (почему?). Они могут быть получены с помощью **итерационных методов**\n",
    "\n",
    "- Однако итерационные методы также имеют сложность $\\mathcal{O}(n^3)$ операций благодаря быстрой сходимости."
   ]
  },
  {
   "cell_type": "markdown",
   "metadata": {
    "slideshow": {
     "slide_type": "slide"
    }
   },
   "source": [
    "## Резюме по сегодняшней лекции\n",
    "\n",
    "- Собственные значения и векторы\n",
    "- Теорема Гершгорина\n",
    "- Степенной метод\n",
    "- Теорема Шура\n",
    "- Нормальные матрицы\n",
    "- QR алгоритм"
   ]
  }
 ],
 "metadata": {
  "celltoolbar": "Slideshow",
  "kernelspec": {
   "display_name": "Python 3",
   "language": "python",
   "name": "python3"
  },
  "language_info": {
   "codemirror_mode": {
    "name": "ipython",
    "version": 3
   },
   "file_extension": ".py",
   "mimetype": "text/x-python",
   "name": "python",
   "nbconvert_exporter": "python",
   "pygments_lexer": "ipython3",
   "version": "3.7.7"
  }
 },
 "nbformat": 4,
 "nbformat_minor": 2
}
