{
 "cells": [
  {
   "cell_type": "code",
   "execution_count": 1,
   "metadata": {
    "slideshow": {
     "slide_type": "skip"
    }
   },
   "outputs": [
    {
     "data": {
      "text/plain": [
       "{'theme': 'sky',\n",
       " 'transition': 'zoom',\n",
       " 'start_slideshow_at': 'selected',\n",
       " 'scroll': True}"
      ]
     },
     "execution_count": 1,
     "metadata": {},
     "output_type": "execute_result"
    }
   ],
   "source": [
    "from traitlets.config.manager import BaseJSONConfigManager\n",
    "cm = BaseJSONConfigManager()\n",
    "cm.update('livereveal', {\n",
    "              'theme': 'sky',\n",
    "              'transition': 'zoom',\n",
    "              'start_slideshow_at': 'selected',\n",
    "            'scroll': True\n",
    "})"
   ]
  },
  {
   "cell_type": "markdown",
   "metadata": {
    "slideshow": {
     "slide_type": "slide"
    }
   },
   "source": [
    "# Лекция 1. Арифметика чисел с плавающей точкой. Векторы, матрицы и операции над ними. Векторные и матричные нормы."
   ]
  },
  {
   "cell_type": "markdown",
   "metadata": {
    "slideshow": {
     "slide_type": "slide"
    }
   },
   "source": [
    "## План на сегодня\n",
    "\n",
    "- Арифметика чисел с фиксированной и плавающей точкой\n",
    "- Векторы, матрицы и что с ними можно делать\n",
    "- Функции и их суперпозиции\n",
    "- Векторные и матричные нормы"
   ]
  },
  {
   "cell_type": "markdown",
   "metadata": {
    "slideshow": {
     "slide_type": "slide"
    }
   },
   "source": [
    "## Представление чисел \n",
    "\n",
    "- Числа бывают\n",
    "    - целые\n",
    "    - рациональные, то есть представимые в виде обыкновенной дроби\n",
    "    - иррациональные, то есть непредставимые в таком виде, например $\\sqrt{2}$\n",
    "    - действительные, то есть объединение рациональных и иррацинальных чисел\n",
    "\n",
    "- Действительные числа обозначают различные величины: вероятности, массы, скорости, длины...\n",
    "\n",
    "- С помощью действительных чисел описываются сложные объекты, возникающие в реальных задачах, которые решаются методами машинного обучения\n",
    "\n",
    "- Важно знать, как действительные числа представляются в компьютере, который оперирует только битами, то есть последовательностями из 0 и 1"
   ]
  },
  {
   "cell_type": "markdown",
   "metadata": {
    "slideshow": {
     "slide_type": "slide"
    }
   },
   "source": [
    "### Представление с фиксированной точкой\n",
    "\n",
    "- Наиболее очевидный формат представления чисел – это формат чисел с **фиксированной точкой**, также известный как **Qm.n** формат\n",
    "\n",
    "- Число **Qm.n** лежит в отрезке $[-(2^m), 2^m - 2^{-n}]$ и его точность $2^{-n}$.\n",
    "\n",
    "- Общий размер памяти для хранения такого числа $m + n + 1$ бит:\n",
    "    - n бит на дробную часть\n",
    "    - m бит на целую часть\n",
    "    - 1 бит на знак\n",
    "\n",
    "- Диапазон чисел, представимых таким образом, ограничен."
   ]
  },
  {
   "cell_type": "markdown",
   "metadata": {
    "slideshow": {
     "slide_type": "slide"
    }
   },
   "source": [
    "### Пример\n",
    "\n",
    "- Рассмотрим два числа $18.5$ и $6.75$\n",
    "- Их бинарная запись: \n",
    "    - $18.5 = 1 \\cdot 2^{-1} + 0\\cdot 2^0 + 1 \\cdot 2^1 + 0 \\cdot 2^2 + 0 \\cdot 2^3 + 1 \\cdot 2^4 + 0 \\cdot 2^5 \\to 010010.100000$\n",
    "    - $6.75 = 1 \\cdot 2^{-2} + 1 \\cdot 2^{-1} + 0\\cdot 2^0 + 1 \\cdot 2^1 + 1 \\cdot 2^2 + 0 \\cdot 2^3 + 0 \\cdot 2^4 + 0 \\cdot 2^5 \\to 000110.110000$\n",
    "- Сложим их поразрядно: $010010.100000 + 000110.110000 = 011001.010000 \\to 2^{-2} + 1 + 8 + 16 = 25.25$"
   ]
  },
  {
   "cell_type": "markdown",
   "metadata": {
    "slideshow": {
     "slide_type": "slide"
    }
   },
   "source": [
    "### Числа с плавающей точкой (floating point numbers)\n",
    "\n",
    "Числа в памяти компьютера обычно представляются в виде **чисел с плавающей точкой.**\n",
    "\n",
    "Число с плавающей точкой представляется в виде\n",
    "\n",
    "$$ \\textrm{number} = \\textrm{significand} \\times \\textrm{base}^{\\textrm{exponent}},$$\n",
    "\n",
    "где *significand* – целое число (aka мантисса), *base* – натуральное число (основание) и *exponent* – целое число (может быть отрицательным), например\n",
    "\n",
    "$$ 1.2 = 12 \\cdot 10^{-1}.$$"
   ]
  },
  {
   "cell_type": "markdown",
   "metadata": {
    "slideshow": {
     "slide_type": "slide"
    }
   },
   "source": [
    "### Пример\n",
    "\n",
    "- Рассмотрим те же два числа $18.5$ и $6.75$\n",
    "- Их представление как чисел с плавающей точкой:\n",
    "    - Двоичное представление $18.5_{10} = 10010.1_2 = 10010.1_2 \\cdot 2^0 = 1.00101_2 \\cdot 2^4$ даёт мантиссу $00101$\n",
    "    - Для приведения числа к виду $1.xxxx$ использовали сдвиг влево, поэтому показатель 2 увеличился. Однако может понадобиться сдвигать точку вправо. Тогда показатель экспоненты может стать отрицательным\n",
    "    - Чтобы этого избежать и хранить её в беззнаковом виде к получившемуся значению прибавляют 127 (для одинарной точности).\n",
    "    - Тогда $127 + 4 = 131_{10} = 10000011_2$. Также бит, отвечающий за знак равен 0. \n",
    "    - В итоге число будет храниться в виде **0 10000011 00101** + необходимые нули\n",
    "    - Проверка: $2^4 \\cdot 1.\\{2^{-3} + 2^{-5} \\} = 2^4 \\cdot 1.15625 = 18.5$\n",
    "    - Проделав аналогичные манипуляции получим, что $6.75 = 110.11_2 \\cdot 2^0 = 1.1011 \\cdot 2^2 $ и $2 + 127 = 129_{10} = 10000001_2$. В итоге: $6.75 = $  **0 10000001 1011**\n",
    "    \n",
    "- Выполним сложение\n",
    "    - Для этого надо сделать экспоненты одинаковыми и равными минимальному показателю. В нашем случае минимальный показатель равен 2 и надо сдвинуть на 2 показатель для числа 18.5\n",
    "    - Как это сделать? Сдвигать биты вправо для увеличения и влево для уменьшения. Проверим: **0 10000001 10100** $= 2^x \\cdot 4.\\{0.5+0.125\\}$, где $x = 1 + 128 - 127 = 2$ \n",
    "    - Тогда $6.75 + 18.5 = 0 \\ 10000001 \\ 1011 + 0 \\ 10000001 \\ 1010$ но помним о сдвиге на 2 бита!\n",
    "    - Складываем мантиссы: $1.1011 + 100.1010 = 110.0101 = 110.0101 \\cdot 2^2$ - сдвигаем экспоненту на 2\n",
    "    - Значит в результате имеем $1.100101 \\cdot 2^4$ - может пропасть точность, если битов для хранения не хватит! \n",
    "    - Или в бинарном виде $0 \\ 10000011 \\ 100101_2 = 25.25_{10}$\n",
    "    "
   ]
  },
  {
   "cell_type": "markdown",
   "metadata": {
    "slideshow": {
     "slide_type": "slide"
    }
   },
   "source": [
    "### Формат фиксированной точки vs формат плавающей точки\n",
    "\n",
    "**Q**: какие достоинства и недостатки у рассмотренных форматов представления действительных чисел?"
   ]
  },
  {
   "cell_type": "markdown",
   "metadata": {
    "slideshow": {
     "slide_type": "fragment"
    }
   },
   "source": [
    "**A**: они подходят для большинства случаев.\n",
    "\n",
    "- Однако, числа с фиксированной точкой представляют числа из фиксированного интервала и ограничивают **абсолютную** точность.\n",
    "\n",
    "- Числа с плавающей точкой представлют числа с **относительной** точностью и удобны для случаев, когда числа, которые участвуют в вычислениях, имеют различный порядок (например $10^{-1}$ и $10^{5}$).\n",
    "\n",
    "- На практике, если скорость не критически важна, стоит использовать float32 или float64."
   ]
  },
  {
   "cell_type": "markdown",
   "metadata": {
    "slideshow": {
     "slide_type": "slide"
    }
   },
   "source": [
    "### IEEE 754\n",
    "В современных компьютерах представление чисел в виде чисел с плавающей точкой регулируется стандартом [IEEE 754](https://en.wikipedia.org/wiki/IEEE_floating_point), который был опубликован в **1985 г.** До этого компьютеры обрабатывали числа с плавающей точкой по-разному!\n",
    "\n",
    "IEEE 754 содержит следующие элементы:\n",
    "- Представление чисел с плавающей точкой (как было описано выше), $(-1)^s \\times c \\times b^q$.\n",
    "- Две бесконечности $+\\infty$ and $-\\infty$\n",
    "- Два типа **NaN**: \"тихий\" NaN (**qNaN**) and сигнализирующий NaN (**sNaN**) \n",
    "    - qNaN не бросает исключение на уровне блока, производящего операции с плавающей точкой, (floating point unit – FPU), до того как вы проверите результат вычислений\n",
    "    - значение sNaN бросает исключение из FPU, если вы используете это значение в вычислениях. Этот тип NaN может быть полезен для инициализиции\n",
    "    - C++11 имеет [стандартный интерфейс](https://en.cppreference.com/w/cpp/numeric/math/nan) для создания разных типов NaN\n",
    "- Правила **округления**\n",
    "- Правила для операций типа $\\frac{0}{0}, \\frac{1}{-0}, \\ldots$\n",
    "\n",
    "Возможные значения определяются через\n",
    "- основание $b$\n",
    "- точность $p$ - число цифр в записи\n",
    "- максимально возможное значение $e_{\\max}$\n",
    "\n",
    "и имеет следующие ограничения\n",
    "\n",
    "- $ 0 \\leq c \\leq b^p - 1$\n",
    "- $1 - e_{\\max} \\leq q + p - 1 \\leq e_{\\max}$ "
   ]
  },
  {
   "cell_type": "markdown",
   "metadata": {
    "slideshow": {
     "slide_type": "slide"
    }
   },
   "source": [
    "### Два наиболее используемых формата: single & double\n",
    "\n",
    "Наиболее часто используются следующие форматы: **binary32** и **binary64** (также известные как **single** и **double**).\n",
    "В последнее время популярность набирают вычисления с половинной точностью **binary16**.\n",
    "\n",
    "| Формальное название | Другое название | Основание | Число цифр в записи | Emin | Emax |\n",
    "|------|----------|----------|-------|------|------|\n",
    "|binary16| half precision  | 2 | 11 | -14 | + 15 |  \n",
    "|binary32| single precision | 2 | 24 | -126 | + 127 |  \n",
    "|binary64| double precision | 2|  53|  -1022| +1023|\n",
    "\n",
    "\n",
    "<img src=\"./double64.png\">\n"
   ]
  },
  {
   "cell_type": "markdown",
   "metadata": {},
   "source": [
    "### Примеры\n",
    "\n",
    "- Для числа +0\n",
    "    - *sign* - 0\n",
    "    - *exponent* - 00000000000\n",
    "    - *fraction* - все нули\n",
    "- Для числа -0\n",
    "    - *sign* - 1\n",
    "    - *exponent* - 00000000000\n",
    "    - *fraction* - все нули\n",
    "- Для +infinity\n",
    "    - *sign* - 0\n",
    "    - *exponent* - 11111111111\n",
    "    - *fraction* - все нули\n",
    "\n",
    "**Q**: Как будет выглядеть -infinity и NaN ?"
   ]
  },
  {
   "cell_type": "markdown",
   "metadata": {
    "slideshow": {
     "slide_type": "slide"
    }
   },
   "source": [
    "### Точность и размер памяти \n",
    "\n",
    "**Относительная точность** для различных форматов\n",
    "\n",
    "- половинная точность или float16: $10^{-3} - 10^{-4}$,\n",
    "- одинарная точность или float32: $10^{-7}-10^{-8}$,\n",
    "- двойная точность или float64: $10^{-14}-10^{-16}$.\n",
    "\n",
    "<font color='red'> Важное замечание 1: </font> **float16** занимает **2 байта**, **float32** занимает **4 байта**, **float64** занимает **8 байт**\n",
    "\n",
    "<font color='red'> Важное замечание 2: </font> Обычно в \"железе\" поддерживается одинарная и двойная точность. Для обучения нейросетей становится популярным использовать половинную точность или даже меньше... Подробности [тут](https://arxiv.org/pdf/1905.12334.pdf)"
   ]
  },
  {
   "cell_type": "markdown",
   "metadata": {
    "slideshow": {
     "slide_type": "slide"
    }
   },
   "source": [
    "### Потеря значимых цифр\n",
    "\n",
    "- Многие операции приводят к потере значимых цифр в результате, этот эффект называется [loss of significance](https://en.wikipedia.org/wiki/Loss_of_significance)\n",
    "- Например, при вычитании двух близких больших чисел результат будет иметь меньше правильных цифр, чем исходные числа\n",
    "- Это связано с алгоритмами и их свойствами (прямой/обратной устойчивости), которые мы обсудим далее"
   ]
  },
  {
   "cell_type": "code",
   "execution_count": 57,
   "metadata": {
    "slideshow": {
     "slide_type": "fragment"
    }
   },
   "outputs": [
    {
     "name": "stdout",
     "output_type": "stream",
     "text": [
      "123456789999999.11\n",
      "123456789999998.1\n",
      "1.01562500000000000\n"
     ]
    }
   ],
   "source": [
    "a = np.float64(123456789999999.11)\n",
    "print(a)\n",
    "b = np.float64(123456789999998.1)\n",
    "print(b)\n",
    "c = a - b\n",
    "print('{0:10.17f}'.format(c))"
   ]
  },
  {
   "cell_type": "markdown",
   "metadata": {
    "slideshow": {
     "slide_type": "slide"
    }
   },
   "source": [
    "### Примеры привычных операций с числами в разной точности"
   ]
  },
  {
   "cell_type": "markdown",
   "metadata": {
    "slideshow": {
     "slide_type": "slide"
    }
   },
   "source": [
    "### Пример 1: потеря точности при делении"
   ]
  },
  {
   "cell_type": "code",
   "execution_count": 2,
   "metadata": {
    "slideshow": {
     "slide_type": "fragment"
    }
   },
   "outputs": [
    {
     "name": "stdout",
     "output_type": "stream",
     "text": [
      "Consider float32\n",
      "0.9259246\n",
      "0.1040364727377892\n",
      "Approximation error -5.9604645e-08\n",
      "Consider float64\n",
      "0.925924589693\n",
      "0.1040364707520225\n",
      "Approximation error 0.0\n"
     ]
    }
   ],
   "source": [
    "import numpy as np\n",
    "\n",
    "print(\"Consider float32\")\n",
    "c = np.float32(0.925924589693)\n",
    "print(c)\n",
    "a = np.float32(8.9)\n",
    "b = np.float32(c / a)\n",
    "print('{0:10.16f}'.format(b))\n",
    "print(\"Approximation error\", a * b - c)\n",
    "\n",
    "print(\"Consider float64\")\n",
    "c = np.float64(0.925924589693)\n",
    "print(c)\n",
    "a = np.float64(8.9)\n",
    "b = np.float64(c / a)\n",
    "print('{0:10.16f}'.format(b))\n",
    "print(\"Approximation error\", a * b - c)"
   ]
  },
  {
   "cell_type": "markdown",
   "metadata": {
    "slideshow": {
     "slide_type": "slide"
    }
   },
   "source": [
    "### Пример 2: потеря точности при извлечении корня"
   ]
  },
  {
   "cell_type": "code",
   "execution_count": 93,
   "metadata": {
    "slideshow": {
     "slide_type": "fragment"
    }
   },
   "outputs": [
    {
     "name": "stdout",
     "output_type": "stream",
     "text": [
      "0.0000000946261594\n"
     ]
    }
   ],
   "source": [
    "a = np.float32(1.45678452)\n",
    "b = np.sqrt(a, dtype=np.float32)\n",
    "print('{0:10.16f}'.format(b ** 2 - a))"
   ]
  },
  {
   "cell_type": "markdown",
   "metadata": {
    "slideshow": {
     "slide_type": "slide"
    }
   },
   "source": [
    "### Пример 3: потеря точности при вычислении экспоненты"
   ]
  },
  {
   "cell_type": "code",
   "execution_count": 28,
   "metadata": {
    "slideshow": {
     "slide_type": "fragment"
    }
   },
   "outputs": [
    {
     "name": "stdout",
     "output_type": "stream",
     "text": [
      "0.0\n"
     ]
    }
   ],
   "source": [
    "a = np.array(2.28827272710, dtype=np.float32)\n",
    "b = np.exp(a)\n",
    "print(np.log(b) - a)"
   ]
  },
  {
   "cell_type": "markdown",
   "metadata": {
    "slideshow": {
     "slide_type": "slide"
    }
   },
   "source": [
    "### Пример 4: решение квадратного уравнения"
   ]
  },
  {
   "cell_type": "code",
   "execution_count": 6,
   "metadata": {
    "slideshow": {
     "slide_type": "fragment"
    }
   },
   "outputs": [
    {
     "name": "stdout",
     "output_type": "stream",
     "text": [
      "-1000.0001220703125 9.1552734375e-05\n",
      "0.022070325911045074\n",
      "-0.008447258733212948\n"
     ]
    }
   ],
   "source": [
    "a, b, c = np.float32(1), np.float32(1000), np.float32(-0.1)\n",
    "x1 = (-b - np.sqrt(b*b - 4 * a * c, dtype=np.float32)) / (2 * a)\n",
    "x2 = (-b + np.sqrt(b*b - 4 * a * c, dtype=np.float32)) / (2 * a)\n",
    "print(x1, x2)\n",
    "print(a * x1*x1 + b * x1 + c)\n",
    "print(a * x2*x2 + b * x2 + c)"
   ]
  },
  {
   "cell_type": "markdown",
   "metadata": {
    "slideshow": {
     "slide_type": "slide"
    }
   },
   "source": [
    "###   Q: как вычислять корни устойчиво?"
   ]
  },
  {
   "cell_type": "code",
   "execution_count": 7,
   "metadata": {
    "slideshow": {
     "slide_type": "fragment"
    }
   },
   "outputs": [
    {
     "name": "stdout",
     "output_type": "stream",
     "text": [
      "-1000.0000999999893 9.999998928308617e-05\n",
      "-2.2118911147117615e-09\n",
      "-2.2070320848666114e-09\n"
     ]
    }
   ],
   "source": [
    "x1 = (-b - np.sqrt(b*b - 4 * a * c, dtype=np.float32)) / (2 * a)\n",
    "x2 = 2 * c / (-b - np.sqrt(b*b - 4 * a * c, dtype=np.float32))\n",
    "x1 = -b - x2\n",
    "print(x1, x2)\n",
    "print(a * x1*x1 + b * x1 + c)\n",
    "print(a * x2*x2 + b * x2 + c)"
   ]
  },
  {
   "cell_type": "markdown",
   "metadata": {
    "slideshow": {
     "slide_type": "slide"
    }
   },
   "source": [
    "## Алгоритм суммирования\n",
    "\n",
    "Как мы увидели, ошибка округления зависит от алгоритма вычисления.\n",
    "\n",
    "- Рассмотрим простейшую задачу: дано $n$ чисел с плавающей точкой $x_1, \\ldots, x_n$  \n",
    "\n",
    "- Необходимо вычислить их сумму\n",
    "\n",
    "$$ S = \\sum_{i=1}^n x_i = x_1 + \\ldots + x_n.$$\n",
    "\n",
    "- Простейший алгоритм: складывать числа $x_1, \\ldots, x_n$ одно за другим\n",
    "\n",
    "- Какова ошибка такого алгоритма при работе в неточной арифметике?"
   ]
  },
  {
   "cell_type": "markdown",
   "metadata": {
    "slideshow": {
     "slide_type": "slide"
    }
   },
   "source": [
    "## Наивный алгоритм\n",
    "\n",
    "Сложим числа одно за другим: \n",
    "\n",
    "$$y_1 = x_1, \\quad y_2 = y_1 + x_2, \\quad y_3 = y_2 + x_3, \\ldots.$$\n",
    "\n",
    "- В **худшем случае** ошибка пропорциональна $\\mathcal{O}(n)$, в то время как **средне-квадратичная** ошибка $\\mathcal{O}(\\sqrt{n})$.\n",
    "\n",
    "- **Алгоритм Кахана** (Kahan algorithm) даёт ошибку в худшем случае $\\mathcal{O}(1)$ (то есть она не зависит от $n$).  \n",
    "\n",
    "- <font color='red'> Можете ли вы найти алгоритм с ошибкой $\\mathcal{O}(\\log n)$? </font>"
   ]
  },
  {
   "cell_type": "markdown",
   "metadata": {
    "slideshow": {
     "slide_type": "slide"
    }
   },
   "source": [
    "## Алгоритм Кахана (Kahan summation)\n",
    "\n",
    "Следующий алгоритм даёт ошибку $2 \\varepsilon + \\mathcal{O}(n \\varepsilon^2)$, где $\\varepsilon$ – машинная точность.\n",
    "```python\n",
    "s = 0\n",
    "c = 0\n",
    "for i in range(len(x)):\n",
    "    y = x[i] - c\n",
    "    t = s + y\n",
    "    c = (t - s) - y\n",
    "    s = t\n",
    "```"
   ]
  },
  {
   "cell_type": "code",
   "execution_count": 1,
   "metadata": {
    "slideshow": {
     "slide_type": "slide"
    }
   },
   "outputs": [
    {
     "name": "stderr",
     "output_type": "stream",
     "text": [
      "/Users/alex/anaconda3/envs/pytorch/lib/python3.6/site-packages/jax/lib/xla_bridge.py:122: UserWarning: No GPU/TPU found, falling back to CPU.\n",
      "  warnings.warn('No GPU/TPU found, falling back to CPU.')\n"
     ]
    },
    {
     "name": "stdout",
     "output_type": "stream",
     "text": [
      "Error in np sum: 6.0e-07\n",
      "Error in Kahan sum Numba: -1.3e-07\n",
      "Error in Kahan sum JAX: -1.0e-02\n",
      "Error in dumb sum: -1.0e-02\n",
      "Error in math fsum: 1.3e-10\n"
     ]
    }
   ],
   "source": [
    "import math\n",
    "\n",
    "import jax.numpy as jnp\n",
    "import numpy as np\n",
    "import jax\n",
    "from numba import jit as numba_jit\n",
    "\n",
    "n = 10 ** 8\n",
    "sm = 1e-10\n",
    "x = jnp.ones(n, dtype=jnp.float32) * sm\n",
    "x = jax.ops.index_update(x, [0], 1.)\n",
    "true_sum = 1.0 + (n - 1)*sm\n",
    "approx_sum = jnp.sum(x)\n",
    "math_fsum = math.fsum(x)\n",
    "\n",
    "\n",
    "@jax.jit\n",
    "def dumb_sum(x):\n",
    "    s = jnp.float32(0.0)\n",
    "    def b_fun(i, val):\n",
    "        return val + x[i] \n",
    "    s = jax.lax.fori_loop(0, len(x), b_fun, s)\n",
    "    return s\n",
    "\n",
    "\n",
    "@numba_jit(nopython=True)\n",
    "def kahan_sum_numba(x):\n",
    "    s = np.float32(0.0)\n",
    "    c = np.float32(0.0)\n",
    "    for i in range(len(x)):\n",
    "        y = x[i] - c\n",
    "        t = s + y\n",
    "        c = (t - s) - y\n",
    "        s = t\n",
    "    return s\n",
    "\n",
    "@jax.jit\n",
    "def kahan_sum_jax(x):\n",
    "    s = jnp.float32(0.0)\n",
    "    c = jnp.float32(0.0)\n",
    "    def b_fun2(i, val):\n",
    "        s, c = val\n",
    "        y = x[i] - c\n",
    "        t = s + y\n",
    "        c = (t - s) - y\n",
    "        s = t\n",
    "        return s, c\n",
    "    s, c = jax.lax.fori_loop(0, len(x), b_fun2, (s, c))\n",
    "    return s\n",
    "\n",
    "k_sum_numba = kahan_sum_numba(np.array(x))\n",
    "k_sum_jax = kahan_sum_jax(x)\n",
    "d_sum = dumb_sum(x)\n",
    "print('Error in np sum: {0:3.1e}'.format(approx_sum - true_sum))\n",
    "print('Error in Kahan sum Numba: {0:3.1e}'.format(k_sum_numba - true_sum))\n",
    "print('Error in Kahan sum JAX: {0:3.1e}'.format(k_sum_jax - true_sum))\n",
    "print('Error in dumb sum: {0:3.1e}'.format(d_sum - true_sum))\n",
    "print('Error in math fsum: {0:3.1e}'.format(math_fsum - true_sum))"
   ]
  },
  {
   "cell_type": "markdown",
   "metadata": {
    "slideshow": {
     "slide_type": "slide"
    }
   },
   "source": [
    "## Ещё один пример"
   ]
  },
  {
   "cell_type": "code",
   "execution_count": 7,
   "metadata": {
    "slideshow": {
     "slide_type": "fragment"
    }
   },
   "outputs": [
    {
     "name": "stdout",
     "output_type": "stream",
     "text": [
      "2.0\n",
      "0.0\n",
      "0.0\n"
     ]
    }
   ],
   "source": [
    "import numpy as np\n",
    "test_list = [1, 1e20, 1, -1e20]\n",
    "print(math.fsum(test_list))\n",
    "print(np.sum(test_list))\n",
    "print(1 + 1e20 + 1 - 1e20)"
   ]
  },
  {
   "cell_type": "markdown",
   "metadata": {
    "slideshow": {
     "slide_type": "slide"
    }
   },
   "source": [
    "## Выводы по операциям с числами с плавающей точкой\n",
    "\n",
    "- Необходимо быть особенно осторожными при работе с числами с плавающей точкой, поскольку операции с ними могут дать неверный ответ из-за ошибок округления.\n",
    "\n",
    "- Для многих стандартных алгоритмов вопросы устойчивости хорошо изучены и проблемы, связанные с этим, легко обнаруживаются."
   ]
  },
  {
   "cell_type": "markdown",
   "metadata": {
    "slideshow": {
     "slide_type": "slide"
    }
   },
   "source": [
    "## Векторы\n",
    "\n",
    "- В рамках курса, мы будем работать не с числами, а с векторами и матрицами\n",
    "- В школе вектором называли направленный отрезок и задавали его координаты\n",
    "- Мы будем рассматривать векторы как наборы из $n$ чисел в формате плавающей точки и не будем опираться на геометрическую интерпретацию. Однако иногда будем её использовать как иллюстрацию к чисто алгебраическим операциям.\n",
    "- Количество чисел в векторе $n$ называется его *размерностью*\n",
    "- Векторы могут быть строками или столбцами. Везде далее будем считать, что вектор является столбцом.\n",
    "\n",
    "**Примеры:** \n",
    "- С помощью векторов можно описывать разные объекты. Например, студент описывается вектором из оценок за пройденные курсы\n",
    "- Или компания описывается вектором своих показателей прибыли, затрат, выручки, капитализации и прочее\n",
    "- Вектор может хранить вероятности тех или иных событий. В этом случае все его элементы будут неотрицательны и их сумма равна 1 "
   ]
  },
  {
   "cell_type": "markdown",
   "metadata": {
    "slideshow": {
     "slide_type": "slide"
    }
   },
   "source": [
    "### Операции с векторами\n",
    "\n",
    "- Сложение, вычитание и умножене на число делается **покомпонентно**: $z = ax + y$ значит что $z_i = ax_i + y_i$, где $a$ число, а $x, y$ - векторы\n",
    "- Между двумя векторами $x, y$ можно вычислить скалярное произведение: $(x, y) = \\sum_{i=1}^n x_i y_i$\n",
    "- С помощью определения скалярного произведения из школы: \n",
    "\n",
    "$$(x, y) = \\|x\\| \\|y\\| \\cos \\alpha,$$\n",
    "\n",
    "где $\\alpha$ - угол между векторами, можно определить угол между $n$-мерными векторами как\n",
    "\n",
    "$$ \\cos \\alpha = \\frac{(x, y)}{\\|x\\| \\|y\\|} $$"
   ]
  },
  {
   "cell_type": "markdown",
   "metadata": {
    "slideshow": {
     "slide_type": "slide"
    }
   },
   "source": [
    "### Как обобщить понятие длины вектора?"
   ]
  },
  {
   "cell_type": "markdown",
   "metadata": {
    "slideshow": {
     "slide_type": "fragment"
    }
   },
   "source": [
    "- Длина вектора превращается в его **норму** и обозначается $\\| \\cdot \\|$, то есть норма вектора $x$ обозначается $\\|x\\|$\n",
    "- Норма должна удовлетворять следующим свойствам:\n",
    "\n",
    "    - $\\Vert \\alpha x \\Vert = |\\alpha| \\Vert x \\Vert$\n",
    "    - $\\Vert x + y \\Vert \\leq \\Vert x \\Vert + \\Vert y \\Vert$ (неравенство треугольника)\n",
    "    - Если $\\Vert x \\Vert = 0$, то $x = 0$\n",
    "\n",
    "Расстояние между двумя векторами одной размерности можно определить как норму разности между ними\n",
    "\n",
    "$$\n",
    "   d(x, y) = \\Vert x - y \\Vert.\n",
    "$$"
   ]
  },
  {
   "cell_type": "markdown",
   "metadata": {
    "slideshow": {
     "slide_type": "slide"
    }
   },
   "source": [
    "### Стандартные нормы\n",
    "\n",
    "Наиболее известная и чаще всего используемая норма – это **евклидова норма**:\n",
    "\n",
    "$$\\Vert x \\Vert_2 = \\sqrt{\\sum_{i=1}^n |x_i|^2},$$\n",
    "\n",
    "расстояние по которой соответствует расстоянию в реальном мире."
   ]
  },
  {
   "cell_type": "markdown",
   "metadata": {
    "slideshow": {
     "slide_type": "slide"
    }
   },
   "source": [
    "### $p$-норма\n",
    "\n",
    "Евклидова норма или $2$-норма – это частный случай важного класса $p$-норм:\n",
    "\n",
    "$$\n",
    " \\Vert x \\Vert_p = \\Big(\\sum_{i=1}^n |x_i|^p\\Big)^{1/p}.\n",
    "$$\n",
    "\n",
    "Также важны следующие два частных случая :\n",
    "- Бесконечная норма или Чебышёвская норма определяется как максимальный модуль элемента вектора $x$: \n",
    "\n",
    "$$\n",
    "\\Vert x \\Vert_{\\infty} = \\max_i | x_i|\n",
    "$$\n",
    "\n",
    "<img src=\"chebyshev.jpeg\" style=\"height\">\n",
    "\n",
    "- $L_1$ норма определяется как сумма модулей элементов вектора $x$: \n",
    "\n",
    "$$\n",
    "\\Vert x \\Vert_1 = \\sum_i |x_i|\n",
    "$$\n",
    "\n",
    "Расстояние, определённое как $L_1$ норма разности между векторами, называется **Манхэттенским расстоянием**\n",
    "\n",
    "<img src=\"manhattan.jpeg\" style=\"height\">  \n"
   ]
  },
  {
   "cell_type": "markdown",
   "metadata": {
    "slideshow": {
     "slide_type": "slide"
    }
   },
   "source": [
    "### Вычисление норм в Python\n",
    "\n",
    "Пакет NumPy содержит всё необходимое для вычисления норм: функция ```np.linalg.norm```.\n"
   ]
  },
  {
   "cell_type": "code",
   "execution_count": 75,
   "metadata": {
    "slideshow": {
     "slide_type": "fragment"
    }
   },
   "outputs": [
    {
     "name": "stdout",
     "output_type": "stream",
     "text": [
      "Relative error in L1 norm: 0.0007523487443195382\n",
      "Relative error in L2 norm: 0.0009699650318095636\n",
      "Relative error in Chebyshev norm: 0.0023767840287027813\n"
     ]
    }
   ],
   "source": [
    "import numpy as np\n",
    "n = 100\n",
    "a = np.ones(n)\n",
    "b = a + 1e-3 * np.random.randn(n)\n",
    "print('Relative error in L1 norm:', np.linalg.norm(a - b, 1) / np.linalg.norm(b, 1))\n",
    "print('Relative error in L2 norm:', np.linalg.norm(a - b) / np.linalg.norm(b))\n",
    "print('Relative error in Chebyshev norm:', np.linalg.norm(a - b, np.inf) / np.linalg.norm(b, np.inf))"
   ]
  },
  {
   "cell_type": "markdown",
   "metadata": {
    "slideshow": {
     "slide_type": "slide"
    }
   },
   "source": [
    "### Единичные диски в различных нормах\n",
    "\n",
    "- Единичный диск – это множество точек такое что $\\Vert x \\Vert \\leq 1$\n",
    "- Для евклидовой нормы единичный диск сопадает с обычным диском\n",
    "- Для других норм единичный диск сильно отличается от привычного нам диска"
   ]
  },
  {
   "cell_type": "code",
   "execution_count": 76,
   "metadata": {
    "slideshow": {
     "slide_type": "fragment"
    }
   },
   "outputs": [
    {
     "data": {
      "text/plain": [
       "Text(0.5, 1.0, 'Unit disk in the p-th norm, $p=1$')"
      ]
     },
     "execution_count": 76,
     "metadata": {},
     "output_type": "execute_result"
    },
    {
     "data": {
      "image/png": "[encoded data removed]",
      "text/plain": [
       "<Figure size 432x288 with 1 Axes>"
      ]
     },
     "metadata": {
      "needs_background": "light"
     },
     "output_type": "display_data"
    }
   ],
   "source": [
    "%matplotlib inline\n",
    "import matplotlib.pyplot as plt\n",
    "import numpy as np\n",
    "p = 1 # Which norm do we use\n",
    "M = 40000 # Number of sampling points\n",
    "a = np.random.randn(M, 2)\n",
    "b = []\n",
    "for i in range(M):\n",
    "    if np.linalg.norm(a[i, :], p) <= 1:\n",
    "        b.append(a[i, :])\n",
    "b = np.array(b)\n",
    "plt.plot(b[:, 0], b[:, 1], '.')\n",
    "plt.axis('equal')\n",
    "plt.title('Unit disk in the p-th norm, $p={0:}$'.format(p))"
   ]
  },
  {
   "cell_type": "markdown",
   "metadata": {
    "slideshow": {
     "slide_type": "slide"
    }
   },
   "source": [
    "## Промежуточные выводы про векторы и операции с ними\n",
    "\n",
    "- Вектор - упорядоченный набор из $n$ чисел\n",
    "- Норма вектора - аналог длины, примеры $p$-норм\n",
    "- Скалярное произведение и угол между векторами"
   ]
  },
  {
   "cell_type": "markdown",
   "metadata": {
    "slideshow": {
     "slide_type": "slide"
    }
   },
   "source": [
    "## Функции и их суперпозиции\n",
    "\n",
    "- Элементарные функции $x^2, \\sin x$ и тд\n",
    "- Обозначение $f: D \\to E$, где $D$ область определения, а $E$ область значений\n",
    "- Например: $f(x) = \\sin x$ имеет $D = \\mathbb{R}$ и $E = [-1, 1]$"
   ]
  },
  {
   "cell_type": "code",
   "execution_count": 81,
   "metadata": {
    "slideshow": {
     "slide_type": "fragment"
    }
   },
   "outputs": [
    {
     "data": {
      "text/plain": [
       "[<matplotlib.lines.Line2D at 0x7f9254515320>]"
      ]
     },
     "execution_count": 81,
     "metadata": {},
     "output_type": "execute_result"
    },
    {
     "data": {
      "image/png": "[encoded data removed]",
      "text/plain": [
       "<Figure size 432x288 with 1 Axes>"
      ]
     },
     "metadata": {
      "needs_background": "light"
     },
     "output_type": "display_data"
    }
   ],
   "source": [
    "x = np.linspace(-4*np.pi, 4*np.pi, num=1000)\n",
    "f = np.sin(x)\n",
    "plt.plot(x, f)"
   ]
  },
  {
   "cell_type": "markdown",
   "metadata": {
    "slideshow": {
     "slide_type": "slide"
    }
   },
   "source": [
    "### Многомерные функции\n",
    "\n",
    "- Функции могут отображать вектор в число, вектор в другой вектор отличной размерности и тд\n",
    "- Это формализуется заданием множеств $D$ и $E$\n",
    "- Например, норма является функцией, для которой $D = \\mathbb{R}^n$ и $E = \\mathbb{R}_+$ так как норма неотрицательная функция"
   ]
  },
  {
   "cell_type": "markdown",
   "metadata": {
    "slideshow": {
     "slide_type": "slide"
    }
   },
   "source": [
    "### Функции можно комбинировать. Это называется суперпозиция\n",
    "\n",
    "- Функция $f(x) = g(h(x))$ называется **суперпозицией** функций $g$ и $h$\n",
    "- Важно, что $E$ для функции $h$ должно быть подмножеством множества $D$ для $g$\n",
    "- Например, $f(x) = \\| (5x -2)^2 \\|_1$ является суперпозицией функций $f_1(x): \\mathbb{R}^n \\to \\mathbb{R}^n$ вида $f_1(x) =5x - 2$, $f_2(y) = y^2$ - поэлементная функция, которая каждый элемент входного вектора возводит в квадрат и $f_3(z) = \\|z\\|_1$, которая даёт первую норму входного вектора."
   ]
  },
  {
   "cell_type": "markdown",
   "metadata": {
    "slideshow": {
     "slide_type": "slide"
    }
   },
   "source": [
    "### Функции могут зависеть от параметров\n",
    "\n",
    "- Рассмотрим линейную функцию $f(x) = (c, x) + b$, где вектор $c$ и число $b$ являются параметрами, которые её полностью определяют\n",
    "- Например в случае линейной функции $c$ определяет вектор нормали, а число $b$ сдвиг относительно 0"
   ]
  },
  {
   "cell_type": "markdown",
   "metadata": {
    "slideshow": {
     "slide_type": "slide"
    }
   },
   "source": [
    "### Нейронные сети и суперпозиции функций\n",
    "\n",
    "- Задачи, для которых обычно используют нейронные сети и другие методы машинного обучения, можно описать выделение некоторой полезной информации из данных о рассматриваемых объектах\n",
    "- Пример такой задачи - задача классификации, в которой по описанию объекта нужно отнести его к определённому классу\n",
    "- Например, по анкетным данным клиента банка определить выдавать ли ему кредит или не выдавать - два класса, которые обычно кодируются $\\{0, 1\\}$ или $\\{ +1, -1\\}$\n",
    "\n",
    "**Q**: как формализовать такую задачу?"
   ]
  },
  {
   "cell_type": "markdown",
   "metadata": {
    "slideshow": {
     "slide_type": "slide"
    }
   },
   "source": [
    "### Решить задачу значит получить функцию, которая по описанию объекта (вектору) выдаёт метку класса\n",
    "\n",
    "**Q:** как описать искомую функцию? "
   ]
  },
  {
   "cell_type": "markdown",
   "metadata": {
    "slideshow": {
     "slide_type": "fragment"
    }
   },
   "source": [
    "**A:** удобный способ описания - это суперпозиция функций, у которых есть параметры. Эти параметры необходимо задать или получить такими, чтобы метки получаемых классов были верными."
   ]
  },
  {
   "cell_type": "markdown",
   "metadata": {
    "slideshow": {
     "slide_type": "slide"
    }
   },
   "source": [
    "### Нейросеть - это суперпозиция параметрических функций\n",
    "\n",
    "- Параметры элементарных функций, из которых состоит нейросеть, задаются с помощью чисел с плавающей точкой\n",
    "- Формат хранения параметров напрямую влияет на то, насколько точно и устойчиво будет вычисляться итоговая метка класса для заданного описания объекта (входного вектора)"
   ]
  },
  {
   "cell_type": "markdown",
   "metadata": {
    "slideshow": {
     "slide_type": "slide"
    }
   },
   "source": [
    "### Форматы представления чисел и нейронные сети\n",
    "\n",
    "- Для быстрой и энергоэффективной работы с нейросетями разработаны специальные форматы хранения чисел (подробности далее)\n",
    "- Они помогают ускорить получение обученных моделей с некоторой потерей точности промежуточных вычислений"
   ]
  },
  {
   "cell_type": "markdown",
   "metadata": {
    "slideshow": {
     "slide_type": "slide"
    }
   },
   "source": [
    "### bfloat16 (Brain Floating Point)\n",
    "\n",
    "- Этот формат требует 16 битов\n",
    "    - 1 бит для знака\n",
    "    - 8 битов для экспоненты\n",
    "    - 7 bits для мантиссы\n",
    "    <img src=\"./bfloat16.png\">\n",
    "- Усечённая одинарная точность из стандарта IEEE\n",
    "- Какая разница между float32 и bloat16?\n",
    "- Этот формат используется в Intel FPGA, Google TPU, Xeon CPUs и других платформах"
   ]
  },
  {
   "cell_type": "markdown",
   "metadata": {
    "slideshow": {
     "slide_type": "slide"
    }
   },
   "source": [
    "### Tensor Float от Nvidia ([блог об этом формате](https://blogs.nvidia.com/blog/2020/05/14/tensorfloat-32-precision-format/))\n",
    "\n",
    "- Сравнение с другими форматами\n",
    "\n",
    "<img src=\"./tensor_float_cf.png\">\n",
    "\n",
    "- Результаты\n",
    "\n",
    "<img src=\"./TF32-BERT.png\">\n",
    "\n",
    "- PyTorch и Tensorflow, поддерживающие этот формат, доступны в [Nvidia NGC](https://ngc.nvidia.com/catalog/all)"
   ]
  },
  {
   "cell_type": "markdown",
   "metadata": {
    "slideshow": {
     "slide_type": "slide"
    }
   },
   "source": [
    "## Выводы о числах с плавающей точкой и нейросетях\n",
    "\n",
    "- Нейросети представляются в виде суперпозиции функций, которые зависят от параметров\n",
    "- Параметры состоят из наборов чисел с плавающей точкой, которые могут храниться в различных форматах\n",
    "- Основные характеристики форматов - скорость выполнения элементарных операций, энергоэффективность\n",
    "- Новые форматы могут нарушать некоторые требования стандарта IEEE при работе на GPU\n",
    "- Подробный анализ выполнимости стандарта IEEE 754 на GPU от NVIDIA можно найти [здесь](https://docs.nvidia.com/cuda/floating-point/index.html#considerations-for-heterogeneous-world) "
   ]
  },
  {
   "cell_type": "code",
   "execution_count": 14,
   "metadata": {
    "slideshow": {
     "slide_type": "skip"
    }
   },
   "outputs": [],
   "source": [
    "from IPython.core.display import HTML\n",
    "def css_styling():\n",
    "    styles = open(\"../styles/custom.css\", \"r\").read()\n",
    "    return HTML(styles)\n",
    "css_styling()"
   ]
  }
 ],
 "metadata": {
  "anaconda-cloud": {},
  "celltoolbar": "Slideshow",
  "kernelspec": {
   "display_name": "Python (pytorch)",
   "language": "python",
   "name": "pytorch"
  },
  "language_info": {
   "codemirror_mode": {
    "name": "ipython",
    "version": 3
   },
   "file_extension": ".py",
   "mimetype": "text/x-python",
   "name": "python",
   "nbconvert_exporter": "python",
   "pygments_lexer": "ipython3",
   "version": "3.6.10"
  },
  "nav_menu": {},
  "toc": {
   "navigate_menu": true,
   "number_sections": false,
   "sideBar": true,
   "threshold": 6,
   "toc_cell": false,
   "toc_section_display": "block",
   "toc_window_display": false
  }
 },
 "nbformat": 4,
 "nbformat_minor": 1
}
