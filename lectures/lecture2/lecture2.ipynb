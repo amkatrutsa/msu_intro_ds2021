{
 "cells": [
  {
   "cell_type": "code",
   "execution_count": null,
   "metadata": {
    "slideshow": {
     "slide_type": "skip"
    }
   },
   "outputs": [],
   "source": [
    "from traitlets.config.manager import BaseJSONConfigManager\n",
    "import jupyter_core\n",
    "# path = \"/Users/i.oseledets/anaconda2/envs/teaching/etc/jupyter/nbconfig\"\n",
    "cm = BaseJSONConfigManager(config_dir=path)\n",
    "cm.update(\"livereveal\", {\n",
    "              \"theme\": \"sky\",\n",
    "              \"transition\": \"zoom\",\n",
    "              \"start_slideshow_at\": \"selected\",\n",
    "               \"scroll\": True\n",
    "})\n"
   ]
  },
  {
   "cell_type": "markdown",
   "metadata": {
    "slideshow": {
     "slide_type": "slide"
    }
   },
   "source": [
    "# Лекция 2. Матрицы и операции с ними. Матричные нормы. Ранг матрицы, малоранговая аппроксимация, SVD. "
   ]
  },
  {
   "cell_type": "markdown",
   "metadata": {
    "slideshow": {
     "slide_type": "slide"
    }
   },
   "source": [
    "## План на сегодня\n",
    "\n",
    "- Матрицы и их свойства\n",
    "- Операции между векторами и матрицами\n",
    "- Ранг матрицы и его свойства\n",
    "- Сингулярное разложение (SVD)\n",
    "- Некоторые приложения сингулярного разложения"
   ]
  },
  {
   "cell_type": "markdown",
   "metadata": {
    "slideshow": {
     "slide_type": "slide"
    }
   },
   "source": [
    "## Матрицы\n",
    "\n",
    "- Матрица может быть рассмотрена как последовательность векторов одной размерности, которые являются её столбцами:\n",
    "\n",
    "$$\n",
    "   A = [a_1, \\ldots, a_m],\n",
    "$$\n",
    "\n",
    "где $a_m \\in \\mathbb{R}^{n\\times 1}$. Тогда $A \\in \\mathbb{R}^{n \\times m}$.  \n",
    "\n",
    "- Альтернативная форма записи \n",
    "\n",
    "$$ A = \\begin{bmatrix} a_{11} & \\ldots & a_{1,m} \\\\ \\vdots & \\cdots & \\vdots \\\\ a_{n1} & \\ldots & a_{nm} \\end{bmatrix} $$\n",
    "\n",
    "То есть матрица - это двумерный массив, в котором $n$ строк и $m$ столбцов\n",
    "\n",
    "- Каждый элемент матрицы имеет два индекса - номер строки и номер столбца, поэтому иногда матрицу сокращённо обозначают $A = [a_{ij}] \\in \\mathbb{R}^{n \\times m}$"
   ]
  },
  {
   "cell_type": "markdown",
   "metadata": {
    "slideshow": {
     "slide_type": "slide"
    }
   },
   "source": [
    "## Операции с матрицами и векторами\n",
    "\n",
    "- Матрицы одной размерности можно складывать. Сложение выполняется покомпонентно по аналогии с векторами\n",
    "\n",
    "$$ C = A + B \\Leftrightarrow c_{ij} = a_{ij} + b_{ij} $$\n",
    "\n",
    "- Матрицу можно умножать на скаляр также покомпонентно по аналогии с векторами. \n",
    "\n",
    "- Матрицу можно умножить на вектор, но только если размерность вектора совпадает с числом столбцов матрицы! Резльтатов операции является вектор, размерность которого равна числу строк матрицы\n",
    "\n",
    "$$ y = Ax \\Leftrightarrow y_i = \\sum_{j=1}^m a_{ij}x_j. $$\n",
    "\n",
    "То есть каждый элемент результата есть скалярное произведение каждой строки матрицы с данным вектором\n",
    "\n",
    "- Умножение матрицы на вектор эквивалентно вычислению линейной комбинации столбцов матрицы\n",
    "\n",
    "$$\n",
    "   y =  Ax \\quad \\Longleftrightarrow \\quad y = a_1 x_1 + a_2 x_2 + \\ldots +a_m x_m.\n",
    "$$\n",
    "\n",
    "- В NumPy операция умножения матрицы на вектор обозначена ```@```"
   ]
  },
  {
   "cell_type": "code",
   "execution_count": 3,
   "metadata": {
    "slideshow": {
     "slide_type": "slide"
    }
   },
   "outputs": [
    {
     "name": "stdout",
     "output_type": "stream",
     "text": [
      "[  1.93064376   5.65060093  -7.43033184  -6.80406516  -3.8704445\n",
      " -11.66855799   2.9244004   -8.29267734  -2.4341967    7.38271141]\n"
     ]
    }
   ],
   "source": [
    "import numpy as np\n",
    "n = 10\n",
    "m = 100\n",
    "A = np.random.randn(n, m)\n",
    "x = np.random.rand(m)\n",
    "y = A @ x\n",
    "print(y)"
   ]
  },
  {
   "cell_type": "markdown",
   "metadata": {
    "slideshow": {
     "slide_type": "slide"
    }
   },
   "source": [
    "- Помимо умножения на вектор, данную матрицу $A$ можно умножить на другую матрицу $B$ с числом строк равному числу столбцов матрицы $A$\n",
    "\n",
    "$$ C = AB \\Leftrightarrow c_{ij} = \\sum_{k=1}^m a_{ik}b_{kj}$$\n",
    "\n",
    "- Мнемоническое правило перемножения матриц звучит как \"строка на столбец\"\n",
    "- Умножать матрицу $A$ на матрицу $B$ значит получить матрицу $C$ со столбцами равными произведению матрицы $A$ на векторы, которые образуют столбцы матрицы $B$ "
   ]
  },
  {
   "cell_type": "code",
   "execution_count": 5,
   "metadata": {
    "slideshow": {
     "slide_type": "slide"
    }
   },
   "outputs": [
    {
     "name": "stdout",
     "output_type": "stream",
     "text": [
      "(10, 5)\n",
      "[[  3.20868903   7.55197075  -0.28439389   2.57926459   4.39079808]\n",
      " [ -2.63148464   1.3949613   -3.10627762  -5.71476021  -0.78340228]\n",
      " [  1.19986086  -0.99217347  -2.11742337   0.6519554   -2.24612819]\n",
      " [  9.91775883   7.79221889   4.2476422    9.95332274   6.00299792]\n",
      " [  1.53949868  -3.37773296  -2.5544246   -2.46624398  -6.01024713]\n",
      " [ -1.96537922 -10.63157721  -9.39777767  -9.03192545  -5.75728713]\n",
      " [  0.47658308   4.89478632   6.31124049   4.47001419   2.83221275]\n",
      " [  3.04908111   1.95248125   7.76558415  12.11924905   5.25065429]\n",
      " [ -2.03324961  -0.39400181  -1.96962108  -0.94954249   1.04015599]\n",
      " [ -0.6398744   -5.18456504  -2.5854405   -0.38558435  -5.4115089 ]]\n"
     ]
    }
   ],
   "source": [
    "import numpy as np\n",
    "n = 10\n",
    "m = 100\n",
    "k = 5\n",
    "A = np.random.randn(n, m)\n",
    "B = np.random.rand(m, k)\n",
    "C = A @ B\n",
    "print(C.shape)\n",
    "print(C)"
   ]
  },
  {
   "cell_type": "markdown",
   "metadata": {
    "slideshow": {
     "slide_type": "slide"
    }
   },
   "source": [
    "## Свойства и функции от матриц\n",
    "\n",
    "- Следом квадратной матрицы называется сумма диагональных элементов\n",
    "\n",
    "$$ tr(A) = \\sum_{i=1}^n a_{ii} $$\n",
    "\n",
    "- Матрица $A^{\\top}$ называется транспонированной матрицей для матрицы $A$, если её столбцы есть строки матрицы $A$, например\n",
    "\n",
    "$$ \\begin{bmatrix} 1 & 2 & -1 \\\\ 0 & 5 & 1  \\end{bmatrix}^{\\top} = \\begin{bmatrix} 1 & 0 \\\\ 2 & 5 \\\\ -1 & 5  \\end{bmatrix} $$\n",
    "\n",
    "- Скалярное произведение векторов $x$ и $y$ можно записать как $x^{\\top}y$\n",
    "- Свойство транспонирования $(AB)^{\\top} = B^{\\top}A^{\\top}$\n",
    "\n",
    "- Скалярное произведение для матриц определяется следующим образом \n",
    "$$\n",
    "    (A, B)_F = \\displaystyle{\\sum_{i=1}^{n}\\sum_{j=1}^{m}} a_{ij} b_{ij} \\equiv \\mathrm{trace}(A^{\\top} B),\n",
    "$$"
   ]
  },
  {
   "cell_type": "markdown",
   "metadata": {
    "slideshow": {
     "slide_type": "slide"
    }
   },
   "source": [
    "## Важные примеры матриц\n",
    "\n",
    "- Нулевая $0$ - состоит из всех 0\n",
    "- Единичная $I$ - квадратная матрица с 1 на диагонали и нулями вне\n",
    "- Матрица перестановки $P$ - в каждом столбце и строке только одна 1, остальные 0. Умножение вектора на такую матрицу приводит к перестановке его элементов\n",
    "- Матрица $A$ называется симметричной, если $A = A^{\\top}$\n",
    "- Ортогональные (или унитарные в комплексном случае) матрицы такие что $U^{\\top}U = I$ - означает, что норма каждого столбца равна 1 и они попарно ортогональны"
   ]
  },
  {
   "cell_type": "markdown",
   "metadata": {
    "slideshow": {
     "slide_type": "slide"
    }
   },
   "source": [
    "### Свойства ортогональных матриц\n",
    "\n",
    "- Произведение двух унитарных матриц – унитарная матрица:  \n",
    "\n",
    "$$(UV)^{\\top} UV = V^\\top (U^\\top U) V = V^\\top V = I$$\n",
    "\n",
    "- Умножение вектора на универную матрицу не меняет его евклидову норму: $\\|Ux\\|^2_2 = x^{\\top}U^{\\top}Ux = \\|x\\|_2$\n",
    "\n",
    "- Вычисления с использованием ортогональных матриц не приводят к потере точности!"
   ]
  },
  {
   "cell_type": "markdown",
   "metadata": {
    "slideshow": {
     "slide_type": "slide"
    }
   },
   "source": [
    "### Примеры ортогональных матриц\n",
    "\n",
    "- Матрица Хаусхолдера (отражение)\n",
    "\n",
    "$$H \\equiv H(v) = I - 2 vv^*,$$\n",
    "\n",
    "где $v$ – $n \\times 1$ вектор и $v^* v = 1$. Это матрица отражения относительно плоскости с нормалью $v$:\n",
    "\n",
    "$$ Hx = x - 2(v^* x) v$$\n",
    "\n",
    "<img src=\"./householder.jpeg\">  \n",
    "\n",
    "- Матрица Гивенса (поворот)\n",
    "\n",
    "$$\n",
    "    G = \\begin{bmatrix}\n",
    "          \\cos \\alpha & -\\sin \\alpha \\\\\n",
    "          \\sin \\alpha & \\cos \\alpha\n",
    "        \\end{bmatrix},\n",
    "$$\n",
    "\n",
    "что является поворотом на угол $\\alpha$ на плоскости. В общем случае, выберем две плоскости $(i, j)$ и повернём вектор $x$  \n",
    "\n",
    "$$\n",
    "x' = G x,\n",
    "$$\n",
    "\n",
    "только в $i$-ой и $j$-ой координатах:\n",
    "\n",
    "$$\n",
    "    x'_i =  x_i\\cos \\alpha - x_j\\sin \\alpha , \\quad x'_j = x_i \\sin \\alpha  +  x_j\\cos\\alpha,\n",
    "$$\n",
    "\n",
    "и оставим остальные координаты $x_i$ неизменными.\n"
   ]
  },
  {
   "cell_type": "markdown",
   "metadata": {
    "slideshow": {
     "slide_type": "slide"
    }
   },
   "source": [
    "## Примеры использования матриц\n",
    "\n",
    "- Систему линейных уравнений с $m$ уравнениями и $n$ неизвестными можно записать, как $Ax = b$, где $A$ – это матрица $m \\times n$\n",
    "- Параметры линейных слоёв в нейронных сетях - это матрицы\n",
    "- Набор данных (dataset) для обучение модели машинного обучения обычно представляется в виде матрицы с размерностью число объектов на число признаков, которые описывают каждый объект  "
   ]
  },
  {
   "cell_type": "markdown",
   "metadata": {
    "slideshow": {
     "slide_type": "slide"
    }
   },
   "source": [
    "## Матричные нормы\n",
    "\n",
    "- Если считать матрицу вектором, элементы которого переставлены в другом порядке, то мы по аналогии с евклидовой нормой вектора получим **фробениусову норму** матрицы:\n",
    "\n",
    "$$\n",
    "  \\Vert A \\Vert_F \\stackrel{\\mathrm{def}}{=} \\Big(\\sum_{i=1}^n \\sum_{j=1}^m |a_{ij}|^2\\Big)^{1/2}\n",
    "$$\n",
    "\n",
    "Упражнение: покажите, что $\\|A\\|_F = \\sqrt{(A, A)_F}$."
   ]
  },
  {
   "cell_type": "markdown",
   "metadata": {
    "slideshow": {
     "slide_type": "slide"
    }
   },
   "source": [
    "## Матричные нормы\n",
    "\n",
    "$\\Vert \\cdot \\Vert$ называется матричной нормой, если это векторная норма на векторном пространстве матриц размера $n \\times m$:\n",
    "1. $\\|A\\| \\geq 0$ и если $\\|A\\| = 0$ то $A = O$\n",
    "3. $\\|\\alpha A\\| = |\\alpha| \\|A\\|$\n",
    "4. $\\|A+B\\| \\leq \\|A\\| + \\|B\\|$ (неравенство треугольника)\n",
    "\n",
    "Дополнительно некоторые нормы обладают свойством субмультипликативности\n",
    "\n",
    "* <font color='red'> $\\Vert A B \\Vert \\leq \\Vert A \\Vert \\Vert B \\Vert$ </font>\n",
    "\n",
    "Эти нормы также называются **субмультипликативными нормами**.\n",
    "\n",
    "Это свойство необходимо во многих случаях, например для оценки ошибки решения линейной системы (позднее обсудим эту тему). \n",
    "\n",
    "Примером не субмультипликативной нормы является чебышёвская норма\n",
    "\n",
    "$$\n",
    "\\|A\\|_C = \\displaystyle{\\max_{i,j}}\\, |a_{ij}|\n",
    "$$"
   ]
  },
  {
   "cell_type": "markdown",
   "metadata": {
    "slideshow": {
     "slide_type": "slide"
    }
   },
   "source": [
    "## Операторные нормы\n",
    "\n",
    "Наиболее важным классом матричных норм являются **операторные нормы**, которые определяются следующим образом\n",
    "\n",
    "$$\n",
    "    \\Vert A \\Vert_{*,**} = \\sup_{x \\ne 0} \\frac{\\Vert A x \\Vert_*}{\\Vert x \\Vert_{**}},\n",
    "$$\n",
    "\n",
    "где $\\Vert \\cdot \\Vert_*$ и $\\| \\cdot \\|_{**}$ **векторные нормы**.\n",
    "\n",
    "Можно показать, что операторные нормы являются субмультипликативными."
   ]
  },
  {
   "cell_type": "markdown",
   "metadata": {
    "slideshow": {
     "slide_type": "slide"
    }
   },
   "source": [
    "## Матричные $p$-нормы\n",
    "\n",
    "Важный класс операторных норм – матричные $p$-нормы, которые определены для $\\|\\cdot\\|_* = \\|\\cdot\\|_{**} = \\|\\cdot\\|_p$. <br>\n",
    "\n",
    "Среди всех $p$-норм три нормы наиболее часто используются:  \n",
    "\n",
    "- $p = 1, \\quad \\Vert A \\Vert_{1} = \\displaystyle{\\max_j \\sum_{i=1}^n} |a_{ij}|$.\n",
    "\n",
    "- $p = 2, \\quad$ спектральная норма, обозначается как $\\Vert A \\Vert_2$.\n",
    "\n",
    "- $p = \\infty, \\quad \\Vert A \\Vert_{\\infty} = \\displaystyle{\\max_i \\sum_{j=1}^m} |a_{ij}|$.\n",
    "\n",
    "Покажем справедливость выражения для $p=\\infty$."
   ]
  },
  {
   "cell_type": "markdown",
   "metadata": {
    "slideshow": {
     "slide_type": "slide"
    }
   },
   "source": [
    "## Спектральная норма\n",
    "\n",
    "- Спектральная норма, $\\Vert A \\Vert_2$, одна из наиболее часто используемых, наряду с нормой Фробениуса\n",
    "- Она не может быть вычислена напрямую через элементы матрицы, но для её вычисления существуют эффективные алгоритмы\n",
    "- Она напрямую связана с сингулярным разложением матрицы (SVD) поскольку выполнено следующее равенство\n",
    "\n",
    "$$\n",
    "   \\Vert A \\Vert_2 = \\sigma_1(A)\n",
    "$$\n",
    "\n",
    "где $\\sigma_1(A)$ – максимальное сингулярное число матрицы $A$. \n",
    "\n",
    "- Подробнее про SVD будет рассказано далее, а сейчас давайте вычислим все вышеупомянутые нормы"
   ]
  },
  {
   "cell_type": "code",
   "execution_count": 6,
   "metadata": {
    "slideshow": {
     "slide_type": "slide"
    }
   },
   "outputs": [
    {
     "name": "stdout",
     "output_type": "stream",
     "text": [
      "Spectral: 54.41267353957946 \n",
      "Frobenius: 448.30076755736087 \n",
      "1-norm: 100.44454197210644 \n",
      "infinity: 1699.653484075435\n"
     ]
    }
   ],
   "source": [
    "import numpy as np\n",
    "n = 100\n",
    "m = 2000\n",
    "a = np.random.randn(n, m) # Random n x n matrix\n",
    "s1 = np.linalg.norm(a, 2) # Spectral\n",
    "s2 = np.linalg.norm(a, 'fro') # Frobenius\n",
    "s3 = np.linalg.norm(a, 1) # 1-norm\n",
    "s4 = np.linalg.norm(a, np.inf) \n",
    "print('Spectral: {0:} \\nFrobenius: {1:} \\n1-norm: {2:} \\ninfinity: {3:}'.format(s1, s2, s3, s4))"
   ]
  },
  {
   "cell_type": "markdown",
   "metadata": {
    "slideshow": {
     "slide_type": "slide"
    }
   },
   "source": [
    "## Линейная зависимость\n",
    "\n",
    "**Определение.** Векторы $a_i$ называются **линейно зависимыми**, если существуют коэффициенты $x_i$ не равные нулю одноврменно такие что\n",
    "\n",
    "$$\\sum_i a_i x_i = 0,$$\n",
    "\n",
    "или в матричной форме\n",
    "\n",
    "$$\n",
    "   Ax = 0, \\quad \\Vert x \\Vert \\ne 0.\n",
    "$$\n",
    "\n",
    "В этом случае говорят, что у матрицы $A$ нетривиальное **ядро** (kernel или nullspace), которое обознаается $N(A)$ (или $\\text{ker}(A)$).\n",
    "\n",
    "Векторы, которые не являются линейно зависимыми называются **линейно независимыми**."
   ]
  },
  {
   "cell_type": "markdown",
   "metadata": {
    "slideshow": {
     "slide_type": "slide"
    }
   },
   "source": [
    "## Ранг матрицы \n",
    "\n",
    "**Определение.** Рангом матрицы $A$ называется максимальное число линейно независимых *столбцов* матрицы $A$.\n",
    "\n",
    "Вы также можете использовать линейные комбинации *строк* для определения ранга, то есть формально существует два ранга: строчный и столбцовый."
   ]
  },
  {
   "cell_type": "markdown",
   "metadata": {
    "slideshow": {
     "slide_type": "slide"
    }
   },
   "source": [
    "**Теорема**  \n",
    "Размерность пространства столбцов матрицы совпадает с размерностью пространства её строк.\n",
    "\n",
    "[Доказательство](https://ocw.mit.edu/courses/mathematics/18-701-algebra-i-fall-2010/study-materials/MIT18_701F10_rrk_crk.pdf)\n",
    "\n",
    "- Таким образом, ранг матрицы определяется однозначно!"
   ]
  },
  {
   "cell_type": "markdown",
   "metadata": {
    "slideshow": {
     "slide_type": "slide"
    }
   },
   "source": [
    "## Матрица полного ранга\n",
    "\n",
    "\n",
    "Матрица $A \\in \\mathbb{R}^{m \\times n}$ называется матрицей полного ранга, если $\\mathrm{rank}(A) = \\min(m, n)$."
   ]
  },
  {
   "cell_type": "markdown",
   "metadata": {
    "slideshow": {
     "slide_type": "slide"
    }
   },
   "source": [
    "Пусть имеется матрица из $n$ столбцов.\n",
    "Пусть эти столбцы сгенерированы из стандартного нормального распределения $\\mathcal{N}(0, 1)$.\n",
    "\n",
    "**Q**: Какова вероятность, что ранг этой матрицы $m < n$?\n",
    "\n",
    "**A**: Случайная матрица является полноранговой с вероятностью 1."
   ]
  },
  {
   "cell_type": "markdown",
   "metadata": {
    "slideshow": {
     "slide_type": "slide"
    }
   },
   "source": [
    "## Вычисление ранга матрицы\n",
    "Мы также можем попробовать вычислить ранг матрицы с помощью функции из NumPy: ```np.linalg.matrix_rank```"
   ]
  },
  {
   "cell_type": "code",
   "execution_count": 2,
   "metadata": {
    "slideshow": {
     "slide_type": "fragment"
    }
   },
   "outputs": [
    {
     "name": "stdout",
     "output_type": "stream",
     "text": [
      "Rank of the matrix: 1\n",
      "Rank of the matrix: 50\n"
     ]
    }
   ],
   "source": [
    "#Computing matrix rank\n",
    "import numpy as np\n",
    "n = 50 \n",
    "a = np.ones((n, n))\n",
    "print('Rank of the matrix:', np.linalg.matrix_rank(a))\n",
    "b = a + 1e-5 * np.random.randn(n, n)\n",
    "print('Rank of the matrix:', np.linalg.matrix_rank(b, tol=1e-8))"
   ]
  },
  {
   "cell_type": "markdown",
   "metadata": {
    "slideshow": {
     "slide_type": "slide"
    }
   },
   "source": [
    "### <font color='red'> Итак, малое возмущение матрицы может очень сильно повлиять на ранг! </font>"
   ]
  },
  {
   "cell_type": "markdown",
   "metadata": {
    "slideshow": {
     "slide_type": "slide"
    }
   },
   "source": [
    "### Неустойчивость вычисления ранга матрицы\n",
    "\n",
    "Для любой матрицы $A$ ранга $r < \\min(m, n)$ существует матрица $B$ такая что её ранг равен $\\min(m, n)$ и\n",
    "\n",
    "$$\n",
    " \\Vert A - B \\Vert = \\epsilon.\n",
    "$$\n",
    "\n",
    "**Q**: Значит ли это, что численный ранг матрицы не имеет никакого смысла? (Малое возмущение приводит к полному рангу!)\n",
    "\n",
    "**A**: Нет. Нам нужно найти матрицу $B$ такую что $\\|A-B\\| = \\epsilon$ и ранг $B$ минимален. Таким образом, мы можем вычислить ранг матрицы только с заданной точностью $\\epsilon$.\n",
    "Один из подходов к вычислению ранга матрицы – это сингулярное разложение матрицы (SVD)."
   ]
  },
  {
   "cell_type": "markdown",
   "metadata": {
    "slideshow": {
     "slide_type": "slide"
    }
   },
   "source": [
    "## Сингулярное разложение\n",
    "\n",
    "**Теорема.** Любая матрица $A\\in \\mathbb{C}^{n\\times m}$ может быть представлена в виде произведения трёх матриц:  \n",
    "\n",
    "$$\n",
    "   A = U \\Sigma V^*,\n",
    "$$\n",
    "\n",
    "где $U$ – унитарная матрица $n \\times K$, $V$ – унитарная матрица $m \\times K$, $K = \\min(m, n)$, <br> $\\Sigma$ – диагональная матрица с неотрицательными элементами на диагонали $\\sigma_1 \\geq  \\ldots, \\geq \\sigma_K$. <br>\n",
    "Более того, если $\\text{rank}(A) = r$, тогда $\\sigma_{r+1} = \\dots = \\sigma_K = 0$."
   ]
  },
  {
   "cell_type": "markdown",
   "metadata": {
    "slideshow": {
     "slide_type": "slide"
    }
   },
   "source": [
    "## Снижение размерности и малоранговая аппроксимация\n",
    "\n",
    "- Если матрица $A$ является матрицей неполного ранга, то она представима в виде\n",
    "\n",
    "$$ A = UV, $$\n",
    "\n",
    "где $U \\in \\mathbb{R}^{n \\times k}$ и $V \\in \\mathbb{R}^{k \\times m}$\n",
    "\n",
    "- Можно хранить только $U$ и $V$, то есть всего лишь $(n+m) k$ элементов, что может быть использовано для сжатия. Мы также можем вычислить произведение матрицы $A$ ранга $k$ на вектор $x$ гораздо быстрее:\n",
    "\n",
    "* Умножение $y = Vx$ стоит $\\mathcal{O}(mk)$ операций.\n",
    "* Умножение $z = Uy$ стоит $\\mathcal{O}(nk)$ операций.\n",
    "\n",
    "Это же применимо для сложения, поэлементного умножения и других операций.\n",
    "Например, для сложения:\n",
    "\n",
    "$$\n",
    "    A_1 + A_2 = U_1 V_1 + U_2 V_2 = [U_1|U_2] [V_1^\\top|V_2^\\top]^\\top\n",
    "$$"
   ]
  },
  {
   "cell_type": "code",
   "execution_count": 1,
   "metadata": {
    "slideshow": {
     "slide_type": "fragment"
    }
   },
   "outputs": [
    {
     "name": "stdout",
     "output_type": "stream",
     "text": [
      "39.2 ms ± 6.77 ms per loop (mean ± std. dev. of 7 runs, 10 loops each)\n",
      "67.5 µs ± 95.4 ns per loop (mean ± std. dev. of 7 runs, 10000 loops each)\n"
     ]
    }
   ],
   "source": [
    "# A fast matrix-by-vector product demo\n",
    "import numpy as np\n",
    "n = 10000\n",
    "r = 10\n",
    "u = np.random.randn(n, r)\n",
    "v = np.random.randn(n, r)\n",
    "a = u.dot(v.T)\n",
    "x = np.random.randn(n)\n",
    "%timeit a@x\n",
    "%timeit u@(v.T@x)"
   ]
  },
  {
   "cell_type": "markdown",
   "metadata": {
    "slideshow": {
     "slide_type": "slide"
    }
   },
   "source": [
    "## Снижение размерности\n",
    "\n",
    "- Многие данные в реальном мире лежат в пространстве высокой размерности (описываются большим количеством параметров). Например, изображения ($512\\times 512$ пикселей), тексты, графы, etc.\n",
    "- Однако, обрабатывать данные высокой размерности – сложная задача!\n",
    "\n",
    "**Q**: Возможно ли уменьшить размерность данных, сохранив при этом важные отношения между объектами, например расстояние?"
   ]
  },
  {
   "cell_type": "markdown",
   "metadata": {
    "slideshow": {
     "slide_type": "slide"
    }
   },
   "source": [
    "**[Лемма Johnson'a–Lindenstrauss'a](http://cseweb.ucsd.edu/~dasgupta/papers/jl.pdf)** \n",
    "\n",
    "Пусть $N\\gg 1$. Дано $0 < \\epsilon < 1$, $m$ точек из $\\mathbb{R}^N$ и $n > \\frac{8 \\log m}{\\epsilon^2}$ (мы хотим, чтобы $n\\ll N$).\n",
    "\n",
    "Тогда существует **линейное** отображение $f: \\mathbb{R}^N \\rightarrow \\mathbb{R}^n$ такое что выполнено следующее неравенство:\n",
    "\n",
    "$$(1 - \\epsilon) \\Vert u - v \\Vert^2 \\leq \\Vert f(u) - f(v) \\Vert^2 \\leq (1 + \\epsilon) \\Vert u - v \\Vert^2.$$\n",
    "\n",
    "\n",
    "- Эта лемма утверждает, что существует линейное отображение из пространства большой размерности в пространство малой размерности такое что расстояния между точками в этих пространствах практически одинаковы.\n",
    "- Утверждение не практичное из-за наличия зависимости от $\\epsilon$.\n",
    "- Эта лемма не даёт способа построения $f$, но гарантирует, что такое отображение существует."
   ]
  },
  {
   "cell_type": "markdown",
   "metadata": {
    "slideshow": {
     "slide_type": "slide"
    }
   },
   "source": [
    "## Малоранговая аппроксимация\n",
    "\n",
    "Важная задача во многих прилоджениях – это найти малоранговое приближение для данной матрицы с точностью $\\epsilon$ или рангом $r$. <br>\n",
    "\n",
    "Примеры:\n",
    "* метод главных компонент (PCA)\n",
    "* факторный анализ\n",
    "* линейная задача наименьших квадратов\n",
    "* латентный семантический анализ\n",
    "\n",
    "Эти задачи могут быть решены с помощью SVD."
   ]
  },
  {
   "cell_type": "markdown",
   "metadata": {
    "slideshow": {
     "slide_type": "slide"
    }
   },
   "source": [
    "# Теорема Eckart'a-Young'a\n",
    "\n",
    "Наилучшая малоранговая аппроксимация может быть вычислена с помощью SVD.\n",
    "\n",
    "**Теорема:** Пусть $r < \\text{rank}(A)$, $A_r = U_r \\Sigma_r V_r^*$. Тогда\n",
    "\n",
    "$$\n",
    "    \\min_{\\text{rank}(B)=r} \\|A - B\\|_2 = \\|A - A_r\\|_2 = \\sigma_{r+1}.\n",
    "$$\n",
    "\n",
    "Похожий результат справедлив и для $\\|\\cdot\\|_F$, но $\\|A - A_r\\|_F = \\sqrt{\\sigma_{r+1}^2 + \\dots + \\sigma_{\\min (n,m)}^2}$."
   ]
  },
  {
   "cell_type": "markdown",
   "metadata": {
    "slideshow": {
     "slide_type": "slide"
    }
   },
   "source": [
    "## Основной результат о малоранговой аппроксимации\n",
    "\n",
    "**Следствие:** вычисление наилучшей аппроксимации ранга $r$ эквивалентно использованию SVD с $\\sigma_{r+1}= 0, \\ldots, \\sigma_K = 0$. Тогда ошибка аппроксимации равна \n",
    "\n",
    "$$\n",
    "   \\min_{A_r} \\Vert A - A_r \\Vert_2 = \\sigma_{r+1}, \\quad \\min_{A_r} \\Vert A - A_r \\Vert_F = \\sqrt{\\sigma_{r+1}^2 + \\dots + \\sigma_{K}^2}\n",
    "$$\n",
    "\n",
    "поэтому так важно смотреть на степень убывания сингулярных чисел матрицы."
   ]
  },
  {
   "cell_type": "markdown",
   "metadata": {
    "slideshow": {
     "slide_type": "slide"
    }
   },
   "source": [
    "## Вычисление SVD\n",
    "\n",
    "Алгоритмы для вычисления SVD довольно нетривиальны.\n",
    "\n",
    "Но для вычислений мы уже можем использовать NumPy!"
   ]
  },
  {
   "cell_type": "code",
   "execution_count": 7,
   "metadata": {
    "slideshow": {
     "slide_type": "fragment"
    }
   },
   "outputs": [
    {
     "name": "stdout",
     "output_type": "stream",
     "text": [
      "3.754968609228983e-15\n",
      "2.184696271119305e-16\n"
     ]
    }
   ],
   "source": [
    "import numpy as np\n",
    "n = 100\n",
    "b = np.ones((n, n))\n",
    "u, s, v = np.linalg.svd(b)\n",
    "print(s[1]/s[0])\n",
    "r = 1\n",
    "u1 = u[:, :r]\n",
    "s1 = s[:r]\n",
    "v1 = v[:r, :]\n",
    "a1 = u1.dot(np.diag(s1).dot(v1))\n",
    "print(np.linalg.norm(b - a1, 2)/s[0])"
   ]
  },
  {
   "cell_type": "markdown",
   "metadata": {
    "slideshow": {
     "slide_type": "slide"
    }
   },
   "source": [
    "## Сингулярные числа случайной гауссовой матрицы \n",
    "\n",
    "**Q**: Как будут убывать сингулярные числа случайной матрицы?"
   ]
  },
  {
   "cell_type": "code",
   "execution_count": 8,
   "metadata": {
    "slideshow": {
     "slide_type": "slide"
    }
   },
   "outputs": [
    {
     "data": {
      "text/plain": [
       "Text(0.5, 0, 'Singular value index, $i$')"
      ]
     },
     "execution_count": 8,
     "metadata": {},
     "output_type": "execute_result"
    },
    {
     "data": {
      "image/png": "[encoded data removed]",
      "text/plain": [
       "<Figure size 432x288 with 1 Axes>"
      ]
     },
     "metadata": {
      "needs_background": "light"
     },
     "output_type": "display_data"
    }
   ],
   "source": [
    "import numpy as np\n",
    "import matplotlib.pyplot as plt\n",
    "n = 1000\n",
    "a = np.random.randn(n, n)\n",
    "u, s, v = np.linalg.svd(a)\n",
    "plt.semilogy(s/s[0])\n",
    "plt.ylabel(r\"$\\sigma_i / \\sigma_0$\", fontsize=24)\n",
    "plt.xlabel(r\"Singular value index, $i$\", fontsize=24)"
   ]
  },
  {
   "cell_type": "markdown",
   "metadata": {
    "slideshow": {
     "slide_type": "slide"
    }
   },
   "source": [
    "## Приложения SVD\n",
    "\n",
    "SVD имеет много разных названий, например метод главных компонент (PCA), Proper Orthogonal Decomposition, Empirical Orthogonal Functions, etc\n",
    "\n",
    "Рассмотрим следующие прикладные задачи:\n",
    "\n",
    "1. Разделение переменных в двумерной функции\n",
    "2. Коллаборативная фильтрация\n",
    "3. Сжатие полносвязных слоёв неройнной сети"
   ]
  },
  {
   "cell_type": "markdown",
   "metadata": {
    "slideshow": {
     "slide_type": "slide"
    }
   },
   "source": [
    "## Разделение переменных для двумерной функции\n",
    "\n",
    "Мы можем использовать SVD для вычисления аппроксимации матриц, полученных из вычисления некоторой функции в точках сетки\n",
    "\n",
    "$$a_{ij} = f(x_i, y_j),$$\n",
    "\n",
    "где $f$ заданная функция, а $x_i, \\; i = 1, \\ldots, n$ и $y_j, \\; j = 1, \\ldots, m$ некоторые одномерные сетки."
   ]
  },
  {
   "cell_type": "code",
   "execution_count": 5,
   "metadata": {
    "slideshow": {
     "slide_type": "slide"
    }
   },
   "outputs": [
    {
     "data": {
      "text/plain": [
       "Text(0.5, 0, 'Singular value index, $i$')"
      ]
     },
     "execution_count": 5,
     "metadata": {},
     "output_type": "execute_result"
    },
    {
     "data": {
      "image/png": "[encoded data removed]",
      "text/plain": [
       "<Figure size 432x288 with 1 Axes>"
      ]
     },
     "metadata": {},
     "output_type": "display_data"
    }
   ],
   "source": [
    "%matplotlib inline\n",
    "import numpy as np\n",
    "import matplotlib.pyplot as plt\n",
    "plt.rc(\"text\", usetex=True)\n",
    "import seaborn as sns\n",
    "sns.set_style(\"whitegrid\")\n",
    "sns.set_context(\"talk\")\n",
    "# plt.xkcd()\n",
    "n = 1000\n",
    "a = [[1.0/(i+j+1) for i in range(n)] for j in range(n)] #Hilbert matrix \n",
    "a = np.array(a)\n",
    "u, s, v = np.linalg.svd(a)\n",
    "plt.semilogy(s[:30]/s[0])\n",
    "plt.ylabel(r\"$\\sigma_i / \\sigma_0$\", fontsize=24)\n",
    "plt.xlabel(r\"Singular value index, $i$\", fontsize=24)"
   ]
  },
  {
   "cell_type": "markdown",
   "metadata": {
    "slideshow": {
     "slide_type": "slide"
    }
   },
   "source": [
    "## Коллаборативная фильтрация\n",
    "\n",
    "- Важное приложение появилось из **рекомендательных систем**.  \n",
    "\n",
    "- Пусть имеется матрица пользователей-продуктов: каждый пользователь ставит рейтинг некоторым продуктам.\n",
    "\n",
    "- Тогда эта матрица имеет размер **число пользователей $\\times$ число продуктов**. Задача – рекомендовать пользователям другие продукты, которые он мог бы купить.\n",
    "\n",
    "- Схема построения рекомендаций: вычисляем SVD, и получаем рекомендации для каждого пользователя как столбец приближённой матрицы.\n",
    "\n",
    "Подробнее на семинаре..."
   ]
  },
  {
   "cell_type": "markdown",
   "metadata": {
    "slideshow": {
     "slide_type": "slide"
    }
   },
   "source": [
    "## Сжатие плотных матриц\n",
    "\n",
    "Для хранения плотных матриц размера $N \\times N$ обычно необходимо $N^2$ памяти. Аппроксимация ранга $r$ позволяет сократить требуемую память до $\\mathcal{O}(Nr)$"
   ]
  },
  {
   "cell_type": "code",
   "execution_count": 11,
   "metadata": {
    "slideshow": {
     "slide_type": "slide"
    }
   },
   "outputs": [
    {
     "data": {
      "text/plain": [
       "Text(0.5, 0, 'Singular value index, $i$')"
      ]
     },
     "execution_count": 11,
     "metadata": {},
     "output_type": "execute_result"
    },
    {
     "data": {
      "image/png": "[encoded data removed]",
      "text/plain": [
       "<Figure size 432x288 with 1 Axes>"
      ]
     },
     "metadata": {
      "needs_background": "light"
     },
     "output_type": "display_data"
    }
   ],
   "source": [
    "import numpy as np\n",
    "%matplotlib inline\n",
    "import matplotlib.pyplot as plt\n",
    "# plt.xkcd()\n",
    "n = 256\n",
    "a = [[1.0/(i + j + 0.5) for i in range(n)] for j in range(n)]\n",
    "a = np.array(a)\n",
    "u, s, v = np.linalg.svd(a)\n",
    "plt.semilogy(s/s[0])\n",
    "plt.ylabel(r\"$\\sigma_i / \\sigma_0$\", fontsize=24)\n",
    "plt.grid(True)\n",
    "plt.xlabel(r\"Singular value index, $i$\", fontsize=24)"
   ]
  },
  {
   "cell_type": "markdown",
   "metadata": {
    "slideshow": {
     "slide_type": "slide"
    }
   },
   "source": [
    "## Сжатие полносвязных слоёв нейросетей\n",
    "\n",
    "\n",
    "\n",
    "- Одним из основных элементов современных глубоких нейронных сетей является полносвязный слой, также известный как линейный слой.\n",
    "- Этот слой реализует действие линейной функции на входной вектор: $ f (x) = Wx + b $, где $ W $ - обучаемая матрица, а $ b $ - обучаемый вектор.\n",
    "- $ W $ и $ b $ обновляются во время обучения сети в соответствии с некоторым методом оптимизации, например SGD, Adam и т. д.\n",
    "- Однако сохранение обученных оптимальных параметров ($ W $ и $ b $) может быть недопустимым, если вы хотите перенести обученную сеть на устройство, где память ограничена.\n",
    "- В качестве возможного рецепта вы можете сжать матрицы $ W_i $ из $ i $ -го линейного слоя с помощью усечённого SVD !\n",
    "Что вы получите после такого приближения $ W_i $:\n",
    "\n",
    "    - эффективное хранение\n",
    "    - более быстрое вычисление\n",
    "    - умеренное снижение точности решения целевой задачи - классификации изображений"
   ]
  },
  {
   "cell_type": "markdown",
   "metadata": {
    "slideshow": {
     "slide_type": "slide"
    }
   },
   "source": [
    "## Главное в этой лекции\n",
    "\n",
    "- Ранг матрицы\n",
    "- Скелетное разложение и представление матрицы ранга $r$\n",
    "- SVD и теорема Eckart'a-Young'a\n",
    "- Приложения SVD"
   ]
  }
 ],
 "metadata": {
  "celltoolbar": "Slideshow",
  "kernelspec": {
   "display_name": "Python 3",
   "language": "python",
   "name": "python3"
  },
  "language_info": {
   "codemirror_mode": {
    "name": "ipython",
    "version": 3
   },
   "file_extension": ".py",
   "mimetype": "text/x-python",
   "name": "python",
   "nbconvert_exporter": "python",
   "pygments_lexer": "ipython3",
   "version": "3.7.7"
  }
 },
 "nbformat": 4,
 "nbformat_minor": 4
}
