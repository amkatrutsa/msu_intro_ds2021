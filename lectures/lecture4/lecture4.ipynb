{
 "cells": [
  {
   "cell_type": "markdown",
   "metadata": {
    "slideshow": {
     "slide_type": "slide"
    }
   },
   "source": [
    "# Лекция 4. Число обусловленности. QR разложение и линейная задача наименьших квадратов"
   ]
  },
  {
   "cell_type": "markdown",
   "metadata": {
    "slideshow": {
     "slide_type": "slide"
    }
   },
   "source": [
    "## На прошлой лекции\n",
    "\n",
    "- Линейные системы\n",
    "- Исключение переменных и метод Гаусса\n",
    "- LU и PLU разложение\n",
    "- Симметричные и положительно определённые матрицы"
   ]
  },
  {
   "cell_type": "markdown",
   "metadata": {
    "slideshow": {
     "slide_type": "slide"
    }
   },
   "source": [
    "## План на сегодня\n",
    "\n",
    "- Устойчивость решения линейных систем\n",
    "- Число обусловленности\n",
    "- QR разложение\n",
    "- Производная и градиент: напоминание\n",
    "- Линейная задача наименьших квадратов и способы её решения"
   ]
  },
  {
   "cell_type": "markdown",
   "metadata": {
    "slideshow": {
     "slide_type": "slide"
    }
   },
   "source": [
    "## Устойчивость решения линейных систем\n",
    "\n",
    "- Существует фундаментальная проблема с решением систем линейных уравнений, которая не зависит от используемого алгоритма.\n",
    "\n",
    "- Она проявляется, когда элементы матрицы представляются как числа с плавающей точкой или имеется некоторый шум в измерениях.\n",
    "\n",
    "Проиллюстрируем эту проблему на следующем примере:\n",
    "\n",
    "- матрица $A = [a_{ij}]$ такая что $a_{ij} = \\frac{1}{i+j+1}$ называется матрицей Гильберта ([Давид Гильберт](https://ru.wikipedia.org/wiki/%D0%93%D0%B8%D0%BB%D1%8C%D0%B1%D0%B5%D1%80%D1%82,_%D0%94%D0%B0%D0%B2%D0%B8%D0%B4), немецкий математик)\n",
    "- правая часть $f$ - случайный вектор"
   ]
  },
  {
   "cell_type": "code",
   "execution_count": 2,
   "metadata": {
    "slideshow": {
     "slide_type": "slide"
    }
   },
   "outputs": [
    {
     "name": "stdout",
     "output_type": "stream",
     "text": [
      "[[1.         0.5        0.33333333 0.25       0.2        0.16666667\n",
      "  0.14285714 0.125      0.11111111 0.1       ]\n",
      " [0.5        0.33333333 0.25       0.2        0.16666667 0.14285714\n",
      "  0.125      0.11111111 0.1        0.09090909]\n",
      " [0.33333333 0.25       0.2        0.16666667 0.14285714 0.125\n",
      "  0.11111111 0.1        0.09090909 0.08333333]\n",
      " [0.25       0.2        0.16666667 0.14285714 0.125      0.11111111\n",
      "  0.1        0.09090909 0.08333333 0.07692308]\n",
      " [0.2        0.16666667 0.14285714 0.125      0.11111111 0.1\n",
      "  0.09090909 0.08333333 0.07692308 0.07142857]\n",
      " [0.16666667 0.14285714 0.125      0.11111111 0.1        0.09090909\n",
      "  0.08333333 0.07692308 0.07142857 0.06666667]\n",
      " [0.14285714 0.125      0.11111111 0.1        0.09090909 0.08333333\n",
      "  0.07692308 0.07142857 0.06666667 0.0625    ]\n",
      " [0.125      0.11111111 0.1        0.09090909 0.08333333 0.07692308\n",
      "  0.07142857 0.06666667 0.0625     0.05882353]\n",
      " [0.11111111 0.1        0.09090909 0.08333333 0.07692308 0.07142857\n",
      "  0.06666667 0.0625     0.05882353 0.05555556]\n",
      " [0.1        0.09090909 0.08333333 0.07692308 0.07142857 0.06666667\n",
      "  0.0625     0.05882353 0.05555556 0.05263158]]\n",
      "0.00012560734626422234\n"
     ]
    },
    {
     "data": {
      "image/png": "[encoded data removed]",
      "text/plain": [
       "<Figure size 432x288 with 1 Axes>"
      ]
     },
     "metadata": {
      "needs_background": "light"
     },
     "output_type": "display_data"
    }
   ],
   "source": [
    "import numpy as np\n",
    "import matplotlib.pyplot as plt\n",
    "%matplotlib inline\n",
    "n = 10\n",
    "a = [[1.0/(i + j + 1) for i in range(n)] for j in range(n)]\n",
    "a = np.array(a)\n",
    "print(a)\n",
    "rhs = np.random.randn(n) #Right-hand side\n",
    "x = np.linalg.solve(a, rhs) #This function computes LU-factorization and solves linear system\n",
    "\n",
    "#And check if everything is fine\n",
    "er = np.linalg.norm(a.dot(x) - rhs) / np.linalg.norm(rhs)\n",
    "print(er)\n",
    "plt.plot(x)\n",
    "plt.grid(True)\n",
    "plt.xticks(fontsize=22)\n",
    "_ = plt.yticks(fontsize=22)"
   ]
  },
  {
   "cell_type": "markdown",
   "metadata": {
    "slideshow": {
     "slide_type": "slide"
    }
   },
   "source": [
    "## Вопросы\n",
    "\n",
    "- В чём проблема решения системы из этого примера? \n",
    "- Почему ошибка растёт так быстро?  \n",
    "- В процессе ответа на эти вопросы мы приходим к одному из главных понятий вычислительной линейной алгебры: числу обусловленности матрицы.  "
   ]
  },
  {
   "cell_type": "markdown",
   "metadata": {
    "slideshow": {
     "slide_type": "slide"
    }
   },
   "source": [
    "## Число обусловленности линейной системы\n",
    "\n",
    "Рассмотрим **возмущённую** линейную систему:\n",
    "\n",
    "$$\n",
    "   (A + \\Delta A) \\widehat{x} = f + \\Delta f,\n",
    "$$\n",
    "где $\\Delta A$ некоторая матрица возмущения, и $\\Delta f$ возмущение правой части.\n",
    "\n",
    "- Далее $x$ - решение системы $Ax = f$\n",
    "- И $\\widehat{x}$ - решение возмущённой системы\n",
    "\n",
    "- **Основной вопрос** - как изменится решение возмущённой системы по сравнению с решением исходной системы?"
   ]
  },
  {
   "cell_type": "markdown",
   "metadata": {
    "slideshow": {
     "slide_type": "slide"
    }
   },
   "source": [
    "## Итоговая оценка\n",
    "\n",
    "$$ \n",
    "\\begin{split}\n",
    "\\frac{\\Vert \\widehat{x} - x \\Vert}{\\Vert x \\Vert} \\leq\n",
    "&\\frac{\\Vert A \\Vert \\Vert A^{-1} \\Vert}{1 - \\|A^{-1}\\Delta A\\|} \\Big(\\frac{\\Vert\\Delta A\\Vert}{\\Vert A \\Vert} + \\frac{\\Vert \\Delta f \\Vert}{ \\Vert f \\Vert}\\Big) \\leq \\\\\n",
    "\\leq\n",
    "&\\frac{\\Vert A \\Vert \\Vert A^{-1} \\Vert}{1 - \\|A\\|\\|A^{-1}\\|\\frac{\\|\\Delta A\\|}{\\|A\\|}} \\Big(\\frac{\\Vert\\Delta A\\Vert}{\\Vert A \\Vert} + \\frac{\\Vert \\Delta f \\Vert}{ \\Vert f \\Vert}\\Big) \\equiv \\\\\n",
    "\\equiv &\\frac{\\mathrm{cond}(A)}{1 - \\mathrm{cond}(A)\\frac{\\|\\Delta A\\|}{\\|A\\|}} \\Big(\\frac{\\Vert\\Delta A\\Vert}{\\Vert A \\Vert} + \\frac{\\Vert \\Delta f \\Vert}{ \\Vert f \\Vert}\\Big)\n",
    "\\end{split}\n",
    "$$\n",
    "\n",
    "Главную роль играет **число обусловленности** матрицы $A$: $\\mathrm{cond}(A) = \\Vert A \\Vert \\Vert A^{-1} \\Vert$.\n",
    "\n",
    "- **Вопрос**: какое минимально возможное число обусловленности? (Вспомните свойство субмультипликативности норм!)"
   ]
  },
  {
   "cell_type": "code",
   "execution_count": 7,
   "metadata": {
    "slideshow": {
     "slide_type": "slide"
    }
   },
   "outputs": [
    {
     "name": "stdout",
     "output_type": "stream",
     "text": [
      "[[ 1 -5  0]\n",
      " [-3 -2  0]\n",
      " [-2 -5 -2]]\n",
      "Condition number for 2-norm\n",
      "5.841643129262231\n",
      "5.841643129262229\n",
      "Condition number for 1-norm\n",
      "9.529411764705884\n",
      "9.529411764705884\n"
     ]
    }
   ],
   "source": [
    "import numpy as np\n",
    "n = 3\n",
    "A = np.random.randint(low=-5, high=5, size=(n, n))\n",
    "print(A)\n",
    "print(\"Condition number for 2-norm\")\n",
    "print(np.linalg.norm(A, 2) * np.linalg.norm(np.linalg.inv(A), 2))\n",
    "print(np.linalg.cond(A, 2))\n",
    "print(\"Condition number for 1-norm\")\n",
    "print(np.linalg.norm(A, 1) * np.linalg.norm(np.linalg.inv(A), 1))\n",
    "print(np.linalg.cond(A, 1))"
   ]
  },
  {
   "cell_type": "markdown",
   "metadata": {
    "slideshow": {
     "slide_type": "slide"
    }
   },
   "source": [
    "## Число обусловленности\n",
    "\n",
    "- Чем больше число обусловленности, тем меньше цифр в записи числа мы можем правильно восстановить. \n",
    "- Число обусловленности разное для разных норм.\n",
    "- Для спектральной нормы выполнено (проверьте!) $\\mathrm{cond}_2 (A) = \\|A\\|_2 \\|A^{-1}\\|_2 = \\frac{\\sigma_{\\max}(A)}{\\sigma_{\\min}(A)}$\n",
    "- Заметим, что если $\\Delta A = 0$, тогда\n",
    "\n",
    "$$\n",
    "\\frac{\\Vert \\widehat{x} - x \\Vert}{\\Vert x \\Vert} \\leq \\mathrm{cond}(A) \\frac{\\|\\Delta f\\|}{\\|f\\|}\n",
    "$$"
   ]
  },
  {
   "cell_type": "markdown",
   "metadata": {
    "slideshow": {
     "slide_type": "slide"
    }
   },
   "source": [
    "## И снова матрица Гильберта \n",
    "\n",
    "- Проверим насколько оценка точная в двух случаях: единичная правая часть и случайная правая часть\n",
    "- Результаты существенно отличаются!"
   ]
  },
  {
   "cell_type": "code",
   "execution_count": 16,
   "metadata": {
    "slideshow": {
     "slide_type": "slide"
    }
   },
   "outputs": [
    {
     "name": "stdout",
     "output_type": "stream",
     "text": [
      "Error: 2.217472233227586e-06 Condition number: 4.492167979846466e+20\n"
     ]
    }
   ],
   "source": [
    "import numpy as np\n",
    "import matplotlib.pyplot as plt\n",
    "%matplotlib inline\n",
    "\n",
    "\n",
    "n = 1000\n",
    "a = [[1.0/(i + j + 1) for i in range(n)] for j in range(n)]\n",
    "a = np.array(a)\n",
    "rhs = np.ones(n) #Right-hand side\n",
    "f = np.linalg.solve(a, rhs)\n",
    "\n",
    "#And check if everything is fine\n",
    "er = np.linalg.norm(a.dot(f) - rhs) / np.linalg.norm(rhs)\n",
    "cn = np.linalg.cond(a, 2)\n",
    "print('Error:', er, 'Condition number:', cn)"
   ]
  },
  {
   "cell_type": "code",
   "execution_count": 20,
   "metadata": {
    "slideshow": {
     "slide_type": "slide"
    }
   },
   "outputs": [
    {
     "name": "stdout",
     "output_type": "stream",
     "text": [
      "Error: 19.832027222143697 Condition number: 4.073996146476839e+19\n"
     ]
    },
    {
     "data": {
      "image/png": "[encoded data removed]",
      "text/plain": [
       "<Figure size 432x288 with 1 Axes>"
      ]
     },
     "metadata": {
      "needs_background": "light"
     },
     "output_type": "display_data"
    }
   ],
   "source": [
    "import numpy as np\n",
    "import matplotlib.pyplot as plt\n",
    "%matplotlib inline\n",
    "\n",
    "n = 100\n",
    "a = [[1.0/(i + j + 1) for i in range(n)] for j in range(n)]\n",
    "a = np.array(a)\n",
    "rhs = np.random.randn(n) #Right-hand side\n",
    "f = np.linalg.solve(a, rhs)\n",
    "\n",
    "#And check if everything is fine\n",
    "er = np.linalg.norm(a.dot(f) - rhs) / np.linalg.norm(rhs)\n",
    "cn = np.linalg.cond(a)\n",
    "print('Error:', er, 'Condition number:', cn)\n",
    "\n",
    "u, s, v = np.linalg.svd(a)\n",
    "rhs = np.random.randn(n)\n",
    "plt.plot(u.T.dot(rhs))\n",
    "plt.xticks(fontsize=22)\n",
    "plt.yticks(fontsize=22)\n",
    "plt.grid(True)"
   ]
  },
  {
   "cell_type": "markdown",
   "metadata": {
    "slideshow": {
     "slide_type": "slide"
    }
   },
   "source": [
    "### Как это объяснить?"
   ]
  },
  {
   "cell_type": "markdown",
   "metadata": {
    "slideshow": {
     "slide_type": "slide"
    }
   },
   "source": [
    "## Выводы про устойчивость решения линейных систем\n",
    "\n",
    "- Число обусловленности - важный показатель устойчивости решения\n",
    "- Значение числа обусловленности зависит от нормы\n",
    "- Оценка на ошибку - это верхняя оценка, которая может быть завышена для некоторых правых частей "
   ]
  },
  {
   "cell_type": "markdown",
   "metadata": {
    "slideshow": {
     "slide_type": "slide"
    }
   },
   "source": [
    "## Какие ещё бывают системы линейных уравнений?\n",
    "\n",
    "- Мы подробно рассмотрели случай квадратной матрицы\n",
    "- Однако часто встречаются задачи, в которых матрица является **прямоугольной**"
   ]
  },
  {
   "cell_type": "markdown",
   "metadata": {
    "slideshow": {
     "slide_type": "slide"
    }
   },
   "source": [
    "## Переопределённые линейные системы\n",
    "\n",
    "- Рассмотрим переопределённые линейные системы, в которых число уравнений больше, чем число неизвестных.\n",
    "- Простейший пример: аппроксимация точек на плоскости с помощью линейной модели\n",
    "\n",
    "Стандартный способ - минимизация невязки (**линейная задача наименьших квадратов**)\n",
    "\n",
    "$$\\Vert A x - b \\Vert_2 \\rightarrow \\min_x$$"
   ]
  },
  {
   "cell_type": "markdown",
   "metadata": {
    "slideshow": {
     "slide_type": "slide"
    }
   },
   "source": [
    "## Предварительные замечания\n",
    "\n",
    "- QR разложение\n",
    "- Градиент функции"
   ]
  },
  {
   "cell_type": "markdown",
   "metadata": {
    "slideshow": {
     "slide_type": "slide"
    }
   },
   "source": [
    "## QR разложение\n",
    "\n",
    "Как следует из названия, это представление матрицы в виде произведения\n",
    "\n",
    "$$\n",
    "    A = Q R, \n",
    "$$\n",
    "\n",
    "где $Q$ – матрица с **ортогональными столбцами** и $R$ – **верхнетреугольная**.  \n",
    "\n",
    "Размеры матриц: $Q$ – $n \\times m$, $R$ – $m \\times m$, если $n\\geq m$.\n",
    "\n",
    "QR разложение определено для любой **прямоугольной матрицы**."
   ]
  },
  {
   "cell_type": "code",
   "execution_count": 10,
   "metadata": {
    "slideshow": {
     "slide_type": "slide"
    }
   },
   "outputs": [
    {
     "name": "stdout",
     "output_type": "stream",
     "text": [
      "[[ 0.1  0.   0. ]\n",
      " [ 0.  -0.5  0. ]\n",
      " [ 0.   0.   0. ]]\n",
      "[[10  0  0]\n",
      " [ 0 -2  0]\n",
      " [ 0  0  0]]\n",
      "0.0\n",
      "[[10.  0.  0.]\n",
      " [ 0. -2.  0.]\n",
      " [ 0.  0.  0.]]\n",
      "0.0\n"
     ]
    }
   ],
   "source": [
    "import numpy as np\n",
    "\n",
    "m, n = 5, 3\n",
    "A = np.random.randint(low=-5, high=5, size=(m, n))\n",
    "print(A)\n",
    "Q, R = np.linalg.qr(A)\n",
    "print(np.linalg.norm(A - Q @ R))\n",
    "print(R)\n",
    "print(np.linalg.norm(Q.T @ Q - np.eye(n)))"
   ]
  },
  {
   "cell_type": "markdown",
   "metadata": {
    "slideshow": {
     "slide_type": "slide"
    }
   },
   "source": [
    "## Применение QR разложения\n",
    "\n",
    "- Решение переопределённой линейной системы\n",
    "- Ортогонализация заданного набора векторов\n",
    "- Используется в алгоритме вычисления SVD"
   ]
  },
  {
   "cell_type": "markdown",
   "metadata": {
    "slideshow": {
     "slide_type": "slide"
    }
   },
   "source": [
    "## Существование QR разложения\n",
    "\n",
    "**Теорема.**\n",
    "\n",
    "Каждая матрица $n \\times m$ может быть представлена в виде QR разложения. "
   ]
  },
  {
   "cell_type": "markdown",
   "metadata": {
    "slideshow": {
     "slide_type": "slide"
    }
   },
   "source": [
    "## Устойчивый метод вычисления на основе отражений Хаусхолдера\n",
    "\n",
    "Если $A = QR$, тогда  \n",
    "\n",
    "$$\n",
    "R = Q^* A,\n",
    "$$\n",
    "\n",
    "и нам нужно найти такую ортогональную матрицу $Q$, которая преобразует данную матрицу $A$ в верхнетреугольную.  \n",
    "Для простоты мы будем смотреть на матрицы $n \\times n$ такие что\n",
    "\n",
    "$$ Q^* A = \\begin{bmatrix} * & * & *  \\\\ 0 & * & * \\\\ 0 & 0 & * \\\\ & 0_{(n-m) \\times m} \\end{bmatrix} $$"
   ]
  },
  {
   "cell_type": "markdown",
   "metadata": {
    "slideshow": {
     "slide_type": "slide"
    }
   },
   "source": [
    "Будем приводить матрицу к такому виду столбец за столбцом.\n",
    "\n",
    "Сначала найдём такую матрицу Хаусхолдера $H_1 = (I - 2 uu^{\\top})$ что \n",
    "\n",
    "$$ H_1 A = \\begin{bmatrix} * & * & * \\\\ 0 & * & * \\\\ 0 & * & * \\\\ 0 & * & * \\end{bmatrix} $$"
   ]
  },
  {
   "cell_type": "markdown",
   "metadata": {
    "slideshow": {
     "slide_type": "slide"
    }
   },
   "source": [
    "Затем\n",
    "\n",
    "$$ H_2 H_1 A = \\begin{bmatrix} * & * & * \\\\ 0 & * & * \\\\ 0 & 0 & * \\\\ 0 & 0 & * \\end{bmatrix}, $$\n",
    "\n",
    "где\n",
    "\n",
    "$$ H_2 = \\begin{bmatrix} 1 & 0 \\\\ 0 & H'_2, \\end{bmatrix} $$\n",
    "\n",
    "и $H'_2$ матрица Хаусхолдера $3 \\times 3$."
   ]
  },
  {
   "cell_type": "markdown",
   "metadata": {
    "slideshow": {
     "slide_type": "slide"
    }
   },
   "source": [
    "И наконец, \n",
    "\n",
    "$$ H_3 H_2 H_1 A = \\begin{bmatrix} * & * & * \\\\ 0 & * & * \\\\ 0 & 0 & * \\\\ 0 & 0 & 0 \\end{bmatrix}, $$\n",
    "\n",
    "где $H_3=\\begin{bmatrix}I_2 & \\\\ & {\\widetilde H}_3 \\end{bmatrix}$ такая что\n",
    "\n",
    "$$ \n",
    "{\\widetilde H}_3 \\begin{bmatrix} \\boldsymbol{\\times}\\\\ \\boldsymbol{\\times} \\\\ \\boldsymbol{\\times}  \\end{bmatrix} = \n",
    "\\begin{bmatrix} \\times \\\\ 0 \\\\ 0  \\end{bmatrix}.\n",
    "$$\n",
    "\n",
    "Попробуйте самостоятельно реализовать такой алгоритм!"
   ]
  },
  {
   "cell_type": "markdown",
   "metadata": {
    "slideshow": {
     "slide_type": "slide"
    }
   },
   "source": [
    "### Получение QR разложения\n",
    "\n",
    "Так как \n",
    "\n",
    "$$ H_3H_2H_1A = HA = R,$$\n",
    "\n",
    "где $H$ – ортогональная матрица, то\n",
    "\n",
    "$$ A = H^*R. $$\n",
    "\n",
    "Таким образом $Q = H^*$."
   ]
  },
  {
   "cell_type": "markdown",
   "metadata": {
    "slideshow": {
     "slide_type": "slide"
    }
   },
   "source": [
    "## Сложность вычисления QR разложения\n",
    "\n",
    "- Вычисление QR разложение для прямоугольной матрицы $m \\times n$ требует $O(mn^2)$\n",
    "- Устойчивый способ - через отображения Хаусхолдера, так как он оперирует ортогональными матрицами\n",
    "- Альтернативный подход на вращениях Гивенса, он больше подходит для разреженных матриц, так как зануляет выбранный элемент за одну итерацию"
   ]
  },
  {
   "cell_type": "markdown",
   "metadata": {
    "slideshow": {
     "slide_type": "slide"
    }
   },
   "source": [
    "## Производная и градиент\n",
    "\n",
    "- Определение производной для функции $f: \\mathbb{R} \\to \\mathbb{R}$ из школы \n",
    "\n",
    "$$f'(x) = \\lim_{\\Delta x \\to 0} \\frac{f(x + \\Delta x) - f(x)}{\\Delta x}$$\n",
    "\n",
    "- Если функция отображает вектор в число, то роль производной играет **градиент**\n",
    "- **Определение**: градиент - это вектор-столбец, элементы которого есть частные производные функции по соответствующему элементу входного вектора\n",
    "\n",
    "$$ f'(x) = \\begin{bmatrix} \\frac{\\partial f}{\\partial x_1} \\\\ \\vdots \\\\ \\frac{\\partial f}{\\partial x_1} \\end{bmatrix} $$\n",
    "\n",
    "- Частная производная - это производная по элементу вектора при условии, что все остальные элементы постоянные"
   ]
  },
  {
   "cell_type": "markdown",
   "metadata": {
    "slideshow": {
     "slide_type": "slide"
    }
   },
   "source": [
    "## Примеры\n",
    "\n",
    "- $f(x) = x^2\\cos(x) \\to f'(x) = 2x\\cos(x) - x^2 \\sin(x)$\n",
    "- $f(x_1, x_2) = x_1^2\\cos(x_2)$\n",
    "    - $\\frac{\\partial f}{\\partial x_1} = 2x_1 \\cos(x_2)$\n",
    "    - $\\frac{\\partial f}{\\partial x_2} = -x^2_1 \\sin(x_2)$\n",
    "- $f(x) = c^\\top x = \\sum_{i=1}^n c_i x_i \\to \\frac{\\partial f}{\\partial x_k} = c_k \\to f'(x) = c$"
   ]
  },
  {
   "cell_type": "markdown",
   "metadata": {
    "slideshow": {
     "slide_type": "slide"
    }
   },
   "source": [
    "## Свойства градиента\n",
    "\n",
    "- Указывает в направлении локального роста функции\n",
    "- Если точка $x^*$ является локальным минимумом дифференцируемой функции, то $f'(x^*) = 0$\n",
    "- Более подробно про это будет в части про оптимизацию"
   ]
  },
  {
   "cell_type": "markdown",
   "metadata": {
    "slideshow": {
     "slide_type": "slide"
    }
   },
   "source": [
    "## Переопределённая система и матрица Грама\n",
    "\n",
    "- Мы рассматриваем задачу\n",
    "\n",
    "$$ \\Vert A x - b \\Vert_2 \\rightarrow \\min_x$$ \n",
    "\n",
    "- Так как норма - неотрицательная функция, то возведение в квадрат не изменит точку минимума\n",
    "\n",
    "- Для функции $\\Vert A x - b \\Vert^2_2$ ноль градиента также является точкой глобального минимума\n",
    "\n",
    "$$\n",
    "0 \\equiv \\nabla \\left(\\|Ax-b\\|_2^2\\right) = 2(A^*A x - A^*b) = 0.\n",
    "$$\n",
    "\n",
    "Таким образом,\n",
    "\n",
    "$$\n",
    "A^* A x = A^* b\n",
    "$$\n",
    "\n",
    "Матрица $A^* A$ называется **матрицей Грама**, а система называется **нормальным уравнением**. \n",
    "\n",
    "- Число обусловленности матрицы $A^* A$ равно квадрату числа обусловленности матрицы $A$\n",
    "- Поэтому решать нормальное уравнение в таком виде – не самая хорошая идея!"
   ]
  },
  {
   "cell_type": "markdown",
   "metadata": {
    "slideshow": {
     "slide_type": "slide"
    }
   },
   "source": [
    "## Псевдообратная матрица\n",
    "\n",
    "Матрица $A^* A$ может быть вырождена в общем случае (почему?).\n",
    "Поэтому необходимо ввести понятие псевдообратной матрицы  $A^{\\dagger}$ такой что <br>\n",
    "решение линейной задачи наименьших квадратов можно было записать в виде\n",
    "\n",
    "$$x = A^{\\dagger} b.$$\n",
    "\n",
    "Матрица \n",
    "\n",
    "$$\n",
    "A^{\\dagger} = \\lim_{\\alpha \\rightarrow 0}(\\alpha I + A^* A)^{-1} A^*\n",
    "$$ \n",
    "\n",
    "называется псевдообратной матрицей Мура-Пенроуза для матрицы $A$.\n",
    "\n",
    "* Если матрица $A$ имеет полный ранг, тогда $A^* A$ невырождена, и мы получим $A^{\\dagger} = \\lim_{\\alpha \\rightarrow 0}(\\alpha I + A^* A)^{-1} A^* = (A^* A)^{-1} A^*$.\n",
    "\n",
    "* Если матрица $A$ квадратная и невырожденная, мы получим $A^{\\dagger} = \\lim_{\\alpha \\rightarrow 0}(\\alpha I + A^* A)^{-1} A^* = (A^* A)^{-1} A^* = A^{-1} A^{-*} A^* = A^{-1}$ – обычная обратная матрица для $A$\n",
    "\n",
    "* Если $A$ имеет линейно зависимые столбцы, тогда $A^\\dagger b$ даёт решение минимальной евклидовой нормы. "
   ]
  },
  {
   "cell_type": "markdown",
   "metadata": {
    "slideshow": {
     "slide_type": "slide"
    }
   },
   "source": [
    "## Вычисление псевдообратной матрицы с помощью SVD\n",
    "\n",
    "Пусть $A = U \\Sigma V^*$ SVD для матрицы $A$. Тогда,\n",
    "\n",
    "$$A^{\\dagger} = V \\Sigma^{\\dagger} U^*,$$\n",
    "\n",
    "где $\\Sigma^{\\dagger}$ состоит из обращённых ненулевых сингулярных чисел матрицы $A$. Действительно,\n",
    "\n",
    "$$A^{\\dagger} = \\lim_{\\alpha \\rightarrow 0}(\\alpha I + A^* A)^{-1} A^* = \\lim_{\\alpha \\rightarrow 0}( \\alpha VV^* + V \\Sigma^2 V^*)^{-1} V \\Sigma U^* = \\lim_{\\alpha \\rightarrow 0}( V(\\alpha I + \\Sigma^2) V^*)^{-1} V \\Sigma U^* = V \\lim_{\\alpha \\rightarrow 0}(\\alpha I + \\Sigma^2)^{-1} \\Sigma U^* = V \\Sigma^{\\dagger} U^*,$$\n",
    "\n",
    "* Вы можете проверить, что $\\Sigma^{\\dagger}$ состоит из обращённых ненулевых сингулярных чисел <br>\n",
    "* Если сингулярные числа малы, их можно не обращать. Это даст решение менее чувствительное к шуму в правой части\n",
    "\n",
    "**Q:** что произошло с числом обусловленности?"
   ]
  },
  {
   "cell_type": "markdown",
   "metadata": {
    "slideshow": {
     "slide_type": "slide"
    }
   },
   "source": [
    "## Стандартный способ решения линейной задачи наименьших квадратов\n",
    "\n",
    "- Использование $QR$ разложения\n",
    "\n",
    "- Любая матрица может быть представлена в виде \n",
    "\n",
    "$$\n",
    "A = Q R,\n",
    "$$\n",
    "\n",
    "где $Q$ – унитарная матрица, и $R$ – верхнетреугольная.\n",
    "\n",
    "- Тогда, если $A$ имеет полный ранг, тогда\n",
    "\n",
    "$$\n",
    "x = A^{\\dagger}b = (A^*A)^{-1}A^*b = ((QR)^*(QR))^{-1}(QR)^*b = (R^*Q^*QR)^{-1}R^*Q^*b = R^{-1}Q^*b. \n",
    "$$ \n",
    "\n",
    "- Таким образом, задача поиска оптимального $x$ эквивалентна решению следующей квадратной системы \n",
    "\n",
    "$$\n",
    "Rx = Q^* b.\n",
    "$$\n",
    "\n",
    "- Так как $R$ верхнетреугольная, решение этой системы требует $\\mathcal{O}(n^2)$ операций. Также этот способ более устойчив, чем использование псевдообратной матрицы напрямую."
   ]
  },
  {
   "cell_type": "markdown",
   "metadata": {
    "slideshow": {
     "slide_type": "slide"
    }
   },
   "source": [
    "## Пример линейной задачи наименьших квадратов\n",
    "\n",
    "Рассмотрим двумерный пример. Пусть дана линейная модель \n",
    "\n",
    "$$y = ax + b$$\n",
    "\n",
    "и зашумлённые данные $(x_1, y_1), \\dots (x_n, y_n)$. Тогда линейная система на коэффициенты будет выглядеть как \n",
    "\n",
    "$$\n",
    "\\begin{split}\n",
    "a x_1 &+ b &= y_1 \\\\\n",
    "&\\vdots \\\\\n",
    "a x_n &+ b &= y_n \\\\\n",
    "\\end{split}\n",
    "$$\n",
    "или в матричном виде\n",
    "$$\n",
    "\\begin{pmatrix}\n",
    "x_1 & 1 \\\\\n",
    "\\vdots & \\vdots \\\\\n",
    "x_n & 1 \\\\\n",
    "\\end{pmatrix}\n",
    "\\begin{pmatrix}\n",
    "a \\\\\n",
    "b\n",
    "\\end{pmatrix} =\n",
    "\\begin{pmatrix}\n",
    "y_1 \\\\\n",
    "\\vdots  \\\\\n",
    "y_n \\\\\n",
    "\\end{pmatrix},\n",
    "$$\n",
    "что является переопределённой системой"
   ]
  },
  {
   "cell_type": "code",
   "execution_count": 18,
   "metadata": {
    "slideshow": {
     "slide_type": "slide"
    }
   },
   "outputs": [
    {
     "data": {
      "text/plain": [
       "<matplotlib.legend.Legend at 0x123548668>"
      ]
     },
     "execution_count": 18,
     "metadata": {},
     "output_type": "execute_result"
    },
    {
     "data": {
      "image/png": "[encoded data removed]",
      "text/plain": [
       "<Figure size 432x288 with 1 Axes>"
      ]
     },
     "metadata": {
      "needs_background": "light"
     },
     "output_type": "display_data"
    }
   ],
   "source": [
    "%matplotlib inline\n",
    "import numpy as np\n",
    "import matplotlib.pyplot as plt\n",
    "\n",
    "a_exact = 1.\n",
    "b_exact = 2.\n",
    "\n",
    "n = 10\n",
    "xi = np.arange(n)\n",
    "yi = a_exact * xi + b_exact + 2*np.random.random(n)\n",
    "\n",
    "A = np.array([xi, np.ones(n)])\n",
    "coef = np.linalg.pinv(A).T.dot(yi) # coef is [a, b]\n",
    "\n",
    "plt.plot(xi, yi, 'o', label='$(x_i, y_i)$')\n",
    "plt.plot(xi, coef[0]*xi + coef[1], label='Least Squares')\n",
    "plt.legend(loc='best')"
   ]
  },
  {
   "cell_type": "markdown",
   "metadata": {
    "slideshow": {
     "slide_type": "slide"
    }
   },
   "source": [
    "## Выводы\n",
    "\n",
    "- QR разложение: что такое, как посчитать, зачем нужно\n",
    "- Градиент и его свойства\n",
    "- Нормальное уравнение\n",
    "- Псевдообратная матрица"
   ]
  }
 ],
 "metadata": {
  "celltoolbar": "Slideshow",
  "kernelspec": {
   "display_name": "Python 3",
   "language": "python",
   "name": "python3"
  },
  "language_info": {
   "codemirror_mode": {
    "name": "ipython",
    "version": 3
   },
   "file_extension": ".py",
   "mimetype": "text/x-python",
   "name": "python",
   "nbconvert_exporter": "python",
   "pygments_lexer": "ipython3",
   "version": "3.7.7"
  }
 },
 "nbformat": 4,
 "nbformat_minor": 4
}
